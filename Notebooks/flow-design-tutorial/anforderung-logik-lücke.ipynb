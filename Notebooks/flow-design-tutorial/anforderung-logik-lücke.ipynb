{
 "cells": [
  {
   "cell_type": "markdown",
   "metadata": {},
   "source": [
    "# Die Anforderung-Logik-Lücke\n",
    "\n",
    "In der agilen Softwareentwicklung fließen inkrementell geschnittene Anforderungen in die Codeproduktion, die von ihr in inkrementell wachsenden Code transformiert werden sollen.\n",
    "\n",
    "Selbst die Umsetzung von schon kleiner geschnittenen funktionalen und nicht-funktionalen Anforderungen auch nur in mehr oder weniger verteilte Logik ist jedoch alles andere als trivial. Wenn darüber hinaus noch Produktivitätsqualitäten hergestellt werden sollen - z.B. Korrektheit, Verständlichkeit, Testbarkeit -, ist klar, dass die Codeproduktion nicht ein monolithischer Schritt sein kann, der allseits hochqualitativen Code quasi \"magisch\" herstellt.\n",
    "\n",
    "Zwischen Anforderungen angeliefert als Use Cases oder agile User Stories und Logik klafft vielmehr eine große Lücke, die es schrittweise zu überwinden gilt.\n",
    "\n",
    "/// anforderung logik lücke ohne pfeiler\n",
    "\n",
    "Der Weg von den Anforderungen zum Code erfordert deshalb aus Sicht von Flow-Design mindestens drei Schritte:\n",
    "\n",
    "1. **Analyse**: Zwar sind Anforderungen schon durch z.B. einen Product Owner analysiert worden in den vorgelagerten Schritten Konkretisierung und Schnitt, doch die Programmierung selbst hat eigene Ansprüche an die Form von Anforderungen und muss sich vor allem ein eigenes Verständnis erarbeiten. Deshalb ist innerhalb der Codeproduktion wieder und weiter Analyse zu treiben.\n",
    "2. **Entwurf**: Die Codierung stellt eine Lösung in nutzbarer Form her. Doch dafür braucht es zunächst eine Lösungsidee, einen Lösungsansatz, worin alle Qualitäten berücksichtigt sind. So ein Lösungsansatz wird als Modell für die Lösung im Entwurf erarbeitet.\n",
    "3. **Codierung**: Die Codierung setzt schließlich das Modell um in strukturierte Logik. Auch bei solidem Verständnis und vielverspechendem Modell ist das keine einfache Arbeit. Hier geht es um technologische Details, die bei aller vorher aufgebauten Klarheit immer noch für großen Frust sorgen können. Und es ist vor allem auf korrekte Umsetzung zu achten, sonst macht die Codierung aus guten Anforderungen schlechte Logik.\n",
    "\n",
    "/// anforderung logik lücke mit pfeilern\n",
    "\n",
    "Analyse, Entwurf und Codierung müssen für Anforderungen in dieser Reihenfolge durchlaufen werden. Kein Code ohne Modell, kein Modell ohne Verständnis. Das gilt für alle Schwierigkeitsgrade von Problemen, auch für triviale. Bei trivialen Problemen jedoch finden Analyse und Entwurf intuitiv und eher unmerklich statt. Sichtbar ist vor allem die Codierung.\n",
    "\n",
    "Für langfristig hohe Produktivität kann auf einen systematischen, ausdrücklichen Prozess jedoch nicht verzichtet werden. Andernfalls entsteht Logik in suboptimalen Strukturen, die erst spät bzw. in weiteren Prüfschritten bemerkt werden und dann zu aufwändigen Nachbesserungen führen.\n",
    "\n",
    "Dass diese Schritte in dieser Reihenfolge nötig sind, bedeutet jedoch nicht, dass Softwareentwicklung \"im Wasserfall\" stattfinden würde. Die Existenz und notwendige Reihenfolge der Schritte sagt nichts über die Häufigkeit aus, mit der sie durchlaufen werden. Analyse, Entwurf und Codierung finden erstens mindestens für jedes Inkrement innerhalb des umfassenden iterativen Entwicklungsprozesses statt. Zweitens können sie auch pro Inkrement mehrfach durchlaufen werden, wenn sich herausstellt, dass das Inkrement aus Programmierungssicht noch feiner zerschnitten werden kann und sollte."
   ]
  },
  {
   "cell_type": "markdown",
   "metadata": {},
   "source": [
    "### Geklammerte Codeproduktion\n",
    "\n",
    "Die Codeproduktion dreht sich natürlicherweise um die Codierung als zentralem Schritt. Analyse und Entwurf sind ihr vorgelagert zur Steigerung der Input-Qualität. Sie stellen öffnende Klammern dar, denen im Sinne eines geklammerten Prozesses schließende gegenüberstehen sollten. Das sind der Review und der Test:\n",
    "\n",
    "/// geklammerter prozess: analyse-entwurf-codierung-review-test\n",
    "\n",
    "1. Im **Review** wird durch Augenscheinnahme des Codes geprüft, ob das Modell des Entwurfs treu umgesetzt wurde. Der Review konzentriert sich vor allem auf die Qualitäten, die nicht automatisiert überprüft werden können: Verständlichkeit, Testbarkeit, Modularität, Vorläufigkeit.\n",
    "2. Der **Test** schließlich ist vor allem ein automatisierter Test. Er prüft, ob das in der Analyse erarbeitete Verständnis seinen Weg in den Code gefunden hat. Entspricht das, was der Code tut dem, was er laut Analyse tun soll? Hier kommen Testframeworks und CI-Infrastruktur zum Einsatz. Über automatisierte Tests hinaus können aber natürlich auch manuelle Tests durchgeführt werden; der dafür nötige Aufwand sollte aber auf die Aspekte beschränkt werden, die grundsätzlich nur schwer automatisiert testbar sind. (Abhängig davon, wie schnell automatisierte Tests in welchem Umfang ausgeführt werden können, ist es natürlich auch möglich, sie (zumindest teilweise) vor dem Review auszuführen. Die Reihenfolge der Klammern ist weniger wichtig als eine schließende Klammerung überhaupt.)"
   ]
  },
  {
   "cell_type": "markdown",
   "metadata": {},
   "source": [
    "## Analyse für Verständnis\n",
    "\n",
    "Programmierer müssen das Problem verstehen, das sie mit Software lösen sollen. Sie müssen es prinzipiell sogar selbst lösen können, denn sonst können sie keine \"Maschine\" bauen, die das tut. Code, der ein Problem im Anwendungsalltag löst, ist Ausdruck des Verständnisses seiner Programmierer. Egal, was der Kunde tut, um sein Problem bzw. die Anforderungen an eine Lösung zu beschreiben, egal auch, was ein Scrum Product Owner tut, um schwammige und umfangreiche Anforderungen zu konkretisieren und zu zerschneiden: am Ende müssen Programmierer selbst ein solides Verständnis dafür aufbauen. Das geschieht in einer eigenen Analysephase, an der Entwickler und Kunde (bzw. sein Vertreter, der Product Owner) beteiligt sind. In ihr wird Verständnis sozusagen übertragen aus den Köpfen derer, die die Lösung haben wollen, in die Köpfe derer, die sie herstellen sollen.\n",
    "\n",
    "Wie dieser Übertragungsprozess genau aussieht, lässt Flow-Design dahingestellt. Wesentlich ist, dass er erstens nicht unidirektional ist und zweitens nicht nur einmal durchlaufen wird. Verständnisaufbau brauch intensive bidirektionale Kommunikation, d.h. Diskussion und Austausch. Dass Anforderungen vom Kunden oder Product Owner aufgeschrieben werden könnten, damit Programmierer schlicht durch Lesen sie verstehen, ist nicht zu erwarten. Und dass sie vor der Codierung nur einmal besprochen werden müssen, um sie dann geradlinig und passgenau einmal umzusetzen, ist auch nicht zu erwarten.\n",
    "\n",
    "Verständnis für mehr als triviale Probleme ist vielmehr iterative in experimentellen Schleifen aufgebaut, die immer wieder Analyse, Entwurf und Codierung durchlaufen. Denn letztlich ist nur Code der unzweideutige Ausdruck des Verständnisses seiner Programmierer. Aus keinem Dokument vor der Codierung, aus keinem Gespräch vor der Auslieferung von Code kann herausgelesen werden, ob Programmierer das Problem verstanden haben.\n",
    "\n",
    "Und selbst wenn, dann ist es immer noch fraglich, ob dieses Verständnis verlustfrei in Code transformiert wurde. Und selbst wenn, dann ist immer noch ungewiss, ob das Ergebnis das Problem des Kunden wirklich löst. Denn selbst vom Kunden ist nicht zu erwarten, dass er sein eigenes Problem wirklich erfasst hatte oder auch nur erfassen konnte, um dafür Anforderungen zu formulieren."
   ]
  },
  {
   "cell_type": "markdown",
   "metadata": {},
   "source": [
    "## Entwurf für Modell"
   ]
  }
 ],
 "metadata": {
  "kernelspec": {
   "display_name": ".NET (C#)",
   "language": "C#",
   "name": ".net-csharp"
  },
  "language_info": {
   "file_extension": ".cs",
   "mimetype": "text/x-csharp",
   "name": "C#",
   "pygments_lexer": "csharp",
   "version": "8.0"
  }
 },
 "nbformat": 4,
 "nbformat_minor": 4
}
