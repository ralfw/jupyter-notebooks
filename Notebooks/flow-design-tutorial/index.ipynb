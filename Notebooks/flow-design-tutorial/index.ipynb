{
 "cells": [
  {
   "cell_type": "markdown",
   "metadata": {},
   "source": [
    "# Die Flow-Design Notizbücher\n",
    "\n",
    "> **Bringing (back) Serenity to Programming**\n",
    "\n",
    "![](images/serenity/serenity1.jpg)\n",
    "\n",
    "* Vorwort\n",
    "\n",
    "## Einleitung\n",
    "\n",
    "* [Anforderungen](anforderungen.ipynb)\n",
    "* [Prozess](prozess.ipynb)\n",
    "* [Anforderung-Logik-Lücke](anforderung-logik-lücke.ipynb)\n",
    "\n",
    "### Die Anatomie von Software\n",
    "\n",
    "* [Radikale Objektorientierung](anatomie/radikale_oo.ipynb)\n",
    "* [Dimensionen der Differenzierung](anatomie/dimensionen.ipynb)\n",
    "* [IODA Architektur](anatomie/ioda.ipynb)\n",
    "\n",
    "## Analyse\n",
    "* Slicing\n",
    "* Das Softwareuniversum v2\n",
    "\n",
    "## Entwurf\n",
    "* [Datenflüsse](entwurf/datenfluesse-intro.ipynb)\n",
    "  * [0-dimensionale Datenflüsse](entwurf/datenfluesse0D.ipynb)\n",
    "  * [1-dimensionale Datenflüsse](entwurf/datenfluesse1D.ipynb)\n",
    "  * [2-dimensionale Datenflüsse](entwurf/datenfluesse2D.ipynb)\n",
    "  * [3-dimensionale Datenflüsse](entwurf/datenfluesse3D.ipynb)\n",
    "* Modulhierarchie\n",
    "* Beispiel (z.B. TTT, aber ohne Benutzereingabe)\n",
    "\n",
    "## Codierung\n",
    "* Test-first mit Augenmaß\n",
    "* Arbeitsorganisation\n"
   ]
  },
  {
   "cell_type": "markdown",
   "metadata": {},
   "source": [
    "[Publikation im Web mit Jupyter Notebook Viewer](https://nbviewer.jupyter.org/github/ralfw/jupyter-notebooks/blob/master/Notebooks/flow-design-tutorial/index.ipynb)"
   ]
  }
 ],
 "metadata": {
  "kernelspec": {
   "display_name": ".NET (C#)",
   "language": "C#",
   "name": ".net-csharp"
  },
  "language_info": {
   "file_extension": ".cs",
   "mimetype": "text/x-csharp",
   "name": "C#",
   "pygments_lexer": "csharp",
   "version": "8.0"
  }
 },
 "nbformat": 4,
 "nbformat_minor": 4
}
