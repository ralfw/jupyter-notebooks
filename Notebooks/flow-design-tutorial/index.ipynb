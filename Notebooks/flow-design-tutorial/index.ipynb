{
 "cells": [
  {
   "cell_type": "markdown",
   "metadata": {},
   "source": [
    "# Flow-Design Tutorial\n",
    "\n",
    "* [Anforderungen](anforderungen.ipynb)\n",
    "* [Prozess](prozess.ipynb)\n",
    "* [Anforderung-Logik-Lücke](anforderung-logik-lücke.ipynb)"
   ]
  }
 ],
 "metadata": {
  "kernelspec": {
   "display_name": ".NET (C#)",
   "language": "C#",
   "name": ".net-csharp"
  },
  "language_info": {
   "file_extension": ".cs",
   "mimetype": "text/x-csharp",
   "name": "C#",
   "pygments_lexer": "csharp",
   "version": "8.0"
  }
 },
 "nbformat": 4,
 "nbformat_minor": 4
}
