{
 "cells": [
  {
   "cell_type": "markdown",
   "metadata": {},
   "source": [
    "# Die Flow-Design Notizbücher\n",
    "\n",
    "#### Flow-Design: Bringing (back) Serenity to Programming\n",
    "\n",
    "* Vorwort\n",
    "\n",
    "## Einleitung\n",
    "\n",
    "* [Anforderungen](anforderungen.ipynb)\n",
    "* [Prozess](prozess.ipynb)\n",
    "* [Anforderung-Logik-Lücke](anforderung-logik-lücke.ipynb)\n",
    "\n",
    "### Die Anatomie von Software\n",
    "\n",
    "* [Radikale Objektorientierung](anatomie/radikale_oo.ipynb)\n",
    "* [Dimensionen der Differenzierung](anatomie/dimensionen.ipynb)\n",
    "* [IODA Architektur](anatomie/ioda.ipynb)\n",
    "\n",
    "## Analyse\n",
    "* Slicing\n",
    "* Das Softwareuniversum v2\n",
    "\n",
    "## Entwurf\n",
    "* [Datenflüsse](entwurf/datenfluesse.ipynb)\n",
    "* Modulhierarchie\n",
    "\n",
    "## Codierung\n",
    "* Test-first mit Augenmaß\n",
    "* Arbeitsorganisation\n"
   ]
  },
  {
   "cell_type": "code",
   "execution_count": null,
   "metadata": {},
   "outputs": [],
   "source": []
  }
 ],
 "metadata": {
  "kernelspec": {
   "display_name": ".NET (C#)",
   "language": "C#",
   "name": ".net-csharp"
  },
  "language_info": {
   "file_extension": ".cs",
   "mimetype": "text/x-csharp",
   "name": "C#",
   "pygments_lexer": "csharp",
   "version": "8.0"
  }
 },
 "nbformat": 4,
 "nbformat_minor": 4
}
