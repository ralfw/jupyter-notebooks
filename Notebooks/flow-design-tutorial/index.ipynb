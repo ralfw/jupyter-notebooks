{
 "cells": [
  {
   "cell_type": "markdown",
   "metadata": {},
   "source": [
    "# Die Flow-Design Notizbücher\n",
    "\n",
    "* Vorwort\n",
    "\n",
    "## Einleitung\n",
    "\n",
    "* [Anforderungen](anforderungen.ipynb)\n",
    "* [Prozess](prozess.ipynb)\n",
    "* [Anforderung-Logik-Lücke](anforderung-logik-lücke.ipynb)\n",
    "\n",
    "### Die Anatomie von Software\n",
    "\n",
    "* [Radikale Objektorientierung](anatomie_1.ipynb)\n",
    "* [Dimensionen der Differenzierung](anatomie_2.ipynb)\n",
    "* [IODA Architektur](anatomie_3.ipynb)\n",
    "\n",
    "## Analyse\n",
    "* [Slicing](analyse/slicing.ipynb)\n",
    "* Das Softwareuniversum v2\n",
    "\n",
    "## Entwurf\n",
    "* [Datenflüsse](entwurf/datenfluesse.ipynb)\n",
    "* Modulhierarchie\n",
    "\n",
    "## Codierung\n",
    "* Test-first mit Augenmaß\n",
    "* Arbeitsorganisation\n"
   ]
  }
 ],
 "metadata": {
  "kernelspec": {
   "display_name": ".NET (C#)",
   "language": "C#",
   "name": ".net-csharp"
  },
  "language_info": {
   "file_extension": ".cs",
   "mimetype": "text/x-csharp",
   "name": "C#",
   "pygments_lexer": "csharp",
   "version": "8.0"
  }
 },
 "nbformat": 4,
 "nbformat_minor": 4
}
