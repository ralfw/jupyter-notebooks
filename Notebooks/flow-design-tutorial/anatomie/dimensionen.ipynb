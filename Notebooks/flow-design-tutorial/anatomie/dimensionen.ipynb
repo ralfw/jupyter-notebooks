{
 "cells": [
  {
   "cell_type": "markdown",
   "metadata": {},
   "source": [
    "## Dimensionen der Differenzierung\n",
    "\n",
    "Die Radikale Objektorientierung mit ihren Prinzipien PoMO und IOSP definiert für Flow-Design die grundlegende Struktur von Software. *Messaging* ist das Paradigma für die Kommunikation zwischen Funktionseinheiten. Software steht damit dem Lebendigen näher als dem Mechanischen: Software wächst aus einer Zelle heran zu einem komplexen Gebilde, das sich ständig neuen Anforderungen anpasst.\n",
    "\n",
    "Flow-Design versteht Software quasi als \"Schau\", dessen \"Blasen\" sich immer weiter differenzieren. Alles beginnt mit einer \"Blase\" \"für alles\". Sie steht für eine komplette Problemlösung, ein gewünschtes Gesamtverhalten. Sie leistet mit ihrer Logik alle geforderten Nachrichtentransformationen.\n",
    "\n",
    "![](images/dim1.png)\n",
    "\n",
    "Und diese Blase differenziert sich dann funktional, wenn die Anforderungen an sie wachsen. Zuerst zerfällt sie vielleicht in zwei oder drei kleinere Blasen:\n",
    "\n",
    "![](images/dim2.png)\n",
    "\n",
    "Dann differenzieren sich die weiter in jeweils zwei, drei, vier noch spezifischere Blasen, die Detailaspekte des Laufzeitverhaltens herstellen:\n",
    "\n",
    "![](images/dim3.png)\n",
    "\n",
    "Und so weiter und so fort...\n",
    "\n",
    "![](images/dim4.png)\n",
    "\n",
    "Die Verbindungen der Blasen in Form von Nachrichtenkanälen sind in diesem Bild der Einfachheit halber ausgeblendet. Dass zwischen den Blasen in den Strata nur unidirektional Daten fließen und die Blasen einander nicht kennen und dass nur die innersten Blasen Logik enthalten, ist schon ausführlich beschrieben worden. Das Bild vom Schaum soll vielmehr den Gedanken des Wachstums vermitteln: Logik in Software nimmt ständig an Menge zu. Neue Features verändern Logik und fügen vor allem neue hinzu. Um bei dem Wachstum den Überblick zu behalten, um produktiv zu bleiben, ist Logik zu getrennten Verantwortlichkeiten zusammenzufassen. Das ist mit Differenzierung gemeint."
   ]
  },
  {
   "cell_type": "markdown",
   "metadata": {},
   "source": [
    "### Funktionen als Container für Funktionalität\n",
    "\n",
    "Zuerst findet eine funktionale Differenzierung statt. Logik, die bisher \"auf einem Haufen gelegen hat\", wird auf verschiedene \"Haufen\" verteilt. Das geschieht im Code mittels Funktionen als Container; zunächst entstehen also Operationen. Jede Operation stellt einen anderen Teil des Verhaltens her. Integrationen komponieren aus Operationen mit ganz unterschiedlicher Logik für ganz unterschiedliche Verantwortlichkeiten dann höhere Funktionseinheiten, deren Details im Weiteren uninteressant sind. Eine Integration stellt für andere Funktionseinheiten eine Black Box dar.\n",
    "\n",
    "Das schrittweise Wachsen und Ausdifferenzieren von Logik in Funktionen hier an einem kleinen Beispiel. Alles beginnt ganz einfach mit einer Anforderung, zu deren Erfüllung nur wenig Logik nötig ist. Doch dann kommen weitere Anforderungen hinzu und die Software soll \"in geordneter Weise\" wachsen:"
   ]
  },
  {
   "cell_type": "code",
   "execution_count": 94,
   "metadata": {},
   "outputs": [
    {
     "data": {
      "text/html": [
       "10"
      ]
     },
     "metadata": {},
     "output_type": "display_data"
    }
   ],
   "source": [
    "// Anforderung: einziffrige römische Zahlen konvertieren\n",
    "\n",
    "int FromRoman_v1(string roman) { // Operation\n",
    "    return roman[0] switch {\n",
    "        'I' => 1, 'V' => 5, 'X' => 10,\n",
    "        'L' => 50, 'C' => 100, 'D' => 500,\n",
    "        'M' => 1000\n",
    "    };\n",
    "}\n",
    "\n",
    "display(FromRoman_v1(\"X\"));"
   ]
  },
  {
   "cell_type": "code",
   "execution_count": 95,
   "metadata": {},
   "outputs": [
    {
     "data": {
      "text/html": [
       "16"
      ]
     },
     "metadata": {},
     "output_type": "display_data"
    }
   ],
   "source": [
    "// Anforderung: mehrziffrige römische Zahlen konvertieren (ohne Subtraktionsregel)\n",
    "// Die Logik wächst!\n",
    "\n",
    "int FromRoman_v2(string roman) { // Operation\n",
    "    var dezimal = 0;\n",
    "    foreach(var romanDigit in roman.ToCharArray())\n",
    "        dezimal += romanDigit switch {\n",
    "            'I' => 1, 'V' => 5, 'X' => 10,\n",
    "            'L' => 50, 'C' => 100, 'D' => 500,\n",
    "            'M' => 1000\n",
    "        };\n",
    "    return dezimal;\n",
    "}\n",
    "\n",
    "display(FromRoman_v2(\"XVI\"));"
   ]
  },
  {
   "cell_type": "code",
   "execution_count": 96,
   "metadata": {},
   "outputs": [
    {
     "data": {
      "text/html": [
       "166"
      ]
     },
     "metadata": {},
     "output_type": "display_data"
    }
   ],
   "source": [
    "// Ausdifferenzierung der Logik in Funktionen\n",
    "// Refaktorisierung!\n",
    "\n",
    "int FromRoman_v3(string roman) { // Integration\n",
    "    var values = Map(roman);\n",
    "    return Sum(values);\n",
    "}\n",
    "\n",
    "int[] Map(string roman) // Operation\n",
    "    => roman.ToCharArray()\n",
    "            .Select(romanDigit => romanDigit switch {\n",
    "                        'I' => 1, 'V' => 5, 'X' => 10,\n",
    "                        'L' => 50, 'C' => 100, 'D' => 500,\n",
    "                        'M' => 1000\n",
    "                    })\n",
    "            .ToArray();\n",
    "\n",
    "int Sum(IEnumerable<int> values) { // Operation\n",
    "    var sum = 0;\n",
    "    foreach(var v in values) sum += v;\n",
    "    return sum;\n",
    "}\n",
    "\n",
    "\n",
    "display(FromRoman_v3(\"CLXVI\"));"
   ]
  },
  {
   "cell_type": "code",
   "execution_count": 97,
   "metadata": {},
   "outputs": [
    {
     "data": {
      "text/html": [
       "42"
      ]
     },
     "metadata": {},
     "output_type": "display_data"
    }
   ],
   "source": [
    "// Anforderung: Subtraktionsregel beachten\n",
    "// Die Logik wächst!\n",
    "\n",
    "int FromRoman_v4(string roman) { // Widerspruch zum IOSP! Hybride Funktion: operiert und integriert\n",
    "    var values = Map(roman);\n",
    "    for(var i=0; i<values.Length-1; i++)\n",
    "        if (values[i]<values[i+1])\n",
    "            values[i] *= -1;\n",
    "    return Sum(values);\n",
    "}\n",
    "\n",
    "display(FromRoman_v4(\"XLII\"));"
   ]
  },
  {
   "cell_type": "code",
   "execution_count": 98,
   "metadata": {},
   "outputs": [
    {
     "data": {
      "text/html": [
       "1984"
      ]
     },
     "metadata": {},
     "output_type": "display_data"
    }
   ],
   "source": [
    "// Gewachsene Logik weiter in Funktionen ausdifferenzieren\n",
    "// Refaktorisierung!\n",
    "\n",
    "int FromRoman_v5(string roman) { // Integration\n",
    "    var values = Map(roman);\n",
    "    values = Negate(values);\n",
    "    return Sum(values);\n",
    "}\n",
    "\n",
    "int[] Negate(int[] values) { // Operation\n",
    "    var negatedValues = (int[])values.Clone();\n",
    "    for(var i=0; i<negatedValues.Length-1; i++)\n",
    "    if (negatedValues[i]<negatedValues[i+1])\n",
    "        negatedValues[i] *= -1;\n",
    "    return negatedValues;\n",
    "}\n",
    "\n",
    "display(FromRoman_v5(\"MCMLXXXIV\"));"
   ]
  },
  {
   "cell_type": "markdown",
   "metadata": {},
   "source": [
    "Selbstverständlich hätte die ganze Logik in einer Funktion `FromRoman` anwachsen können. Das wäre das übliche Vorgehen - \"bis es irgendwie nicht mehr geht\". Aber wann ist der Punkt erreicht, \"dass es nicht mehr geht\"? Flow-Design ist da sehr rigoros mit dem IOSP: Sobald auch nur ein Teil von Logik aus einer Operation in eine Funktion extrahiert wird, muss die bisherige Operation \"umkippen\" und zu einer Integration werden. Die Refaktorisierung nach `FromRoman_v3` hat sofort das IOSP beachtet. Um schnell das neue Feature herzustellen, hat `FromRoman_v4` jedoch die weitere Logik wider das IOSP zwischen die Funktionsaufrufe geschoben. Das hat `FromRoman_v5` mit einer Refaktorisierung ausgleichen müssen.\n",
    "\n",
    "Das IOSP sorgt mithin dafür, dass unterschiedliche Verantwortlichkeiten sich in einem streng geordneten in der Breite und in der Tiefe wachsenden Funktionsbaum ausdifferenzieren. An der Wurzel steht eine Funktion, die umfassende Verhaltensanforderungen repräsentiert. Darunter hängen Funktionen, die feinere und feinere Teilaspekte erfüllen. Nur die Blätter dieses Baumes enthalten schwer verständliche Logik - allerdings in nur kleinen Mengen.\n",
    "\n",
    "Ohne IOSP können Funktionen beliebig im Umfang wachen. Vorhandener Logik kann weitere hinzugefügt werden; falls Logik unübersichtlich wird, kann ein Teil ausgelagert werden in eine funktionale Abhängigkeit usw. usf. Mit dem IOSP jedoch wachsen Operationen nicht beliebig. Sobald nach vielleicht 20 oder 50 Zeilen Logik die Unverständlichkeit genügend gewachsen ist, muss eine Operation umkippen in eine Integration, sobald auch nur ein Teil der Logik extrahiert wird. Integrationen wachsen auch nicht beliebig, weil schon nach 10 oder 20 Zeilen genügend Funktionsaufrufe beieinander sind, um Teile davon zu extrahieren in eine untergeordnete Integration.\n",
    "\n",
    "Das IOSP sorgt sozusagen dafür, dass die Blasen im Objektschaum immer wieder platzen."
   ]
  },
  {
   "cell_type": "markdown",
   "metadata": {},
   "source": [
    "### Module als Container für Zwecke\n",
    "\n",
    "Alan Kay hat den Begriff Objekt geprägt. In seiner Analogie war von Klassen nicht die Rede. Objekte sind die Funktionseinheiten, die etwas leisten. Die Übersetzung dafür im Code sind Funktionen, die Logik enthalten. Jede steht für einen Teil einer Laufzeitqualität. Was hat es dann aber mit Klassen auf sich?\n",
    "\n",
    "Wachsende Logik differenziert das IOSP in eine wachsende Zahl von Funktionen. Integrationen ordnen darin Operationen. Integrationen abstrahieren also die Verhaltensproduktion. Integrationen komponieren aus Verschiedenem ein neues Ganzes.\n",
    "\n",
    "Doch die wachsende Zahl von Funktionen - so verständlich und testbar sie Logik kapseln mögen oder als Integrationen nicht einmal enthalten - wird mit der Zeit auch unhandlich. Es braucht ein Ordnungsmittel, um darin den Überblick zu behalten.\n",
    "\n",
    "Wie sich bei näherer Betrachtung zeigt, sind zwar alle Funktionen verschieden in ihrem Verhalten, doch sie gleichen sich in ihrem Zweck. Neben der funktionalen Differenzierungsdimension des Schaums gibt es eine weitere, die des Zwecks. Orthogonal zum Funktionsbaum wächst ein zweiter Baum, der der Module.\n",
    "\n",
    "> **Module fassen Funktionen nach Ähnlichkeit, nach Gemeinsamkeit zusammen.**\n",
    "\n",
    "Module sind Container wie Funktionen und Hosts:\n",
    "\n",
    "* Funktionen mit ihrer direkten und indirekten Integration von Logik dienen der Herstellung funktionaler und nicht-funktionaler Qualitäten.\n",
    "* Hosts beherbergen Funktionen zur Laufzeit, um weitere nicht-funktionale Qualitäten herzustellen.\n",
    "* Module enthalten Funktionen zur Entwicklungszeit, um die Produktivitätsqualität zu steigern.\n",
    "\n",
    "![](images/dim5.png)\n",
    "\n",
    "Nach welchen Kriterien Module Funktionen zusammenfassen, sei zunächst dahingestellt. Wesentlich ist, dass ihre Abstraktion eine Aggregation darstellt. Das Motto ist \"Gleich und Gleich gesellt sich gern.\" Integrationen hingegen abstrahierenden Unterschiedliches.\n",
    "\n",
    "Klassen sind nur die unterste Ebene einer Modulhierarchie, die in Erklärungen zum Entwurf noch näher definiert wird. An dieser Stelle soll genügen, Module sehr allgemein als Sammlungen von Funktionen einzuführen, deren Hierarchie orthogonal zur Funktionshierarchie ist.\n",
    "\n",
    "Als Beispiel mag das Modell für folgende Anforderungen dienen:\n",
    "\n",
    "*CSV-Daten sollen in eine simple ASCII-Tabelle gewandelt werden. Die Breite einer Spalte richtet sich dabei nach dem breitesten Wert in ihr. Die zugehörige Funktion soll so aussehen: `string Tabellieren(string csv)`*\n",
    "\n",
    "Beispiel für CSV-Daten:\n",
    "\n",
    "```\n",
    "Name;Strasse;Ort;Alter\n",
    "Peter Pan;Am Hang 5;12345 Einsam;42\n",
    "Maria Schmitz;Kölner Straße 45;50123 Köln;43\n",
    "Paul Meier;Münchener Weg 1;87654 München;65\n",
    "```\n",
    "\n",
    "Beispiel für die daraus zu erzeugende ASCII-Tabelle:\n",
    "\n",
    "```\n",
    "Name         |Strasse         |Ort          |Alter|\n",
    "-------------+----------------+-------------+-----+\n",
    "Peter Pan    |Am Hang 5       |12345 Einsam |42   |\n",
    "Maria Schmitz|Kölner Straße 45|50123 Köln   |43   |\n",
    "Paul Meier   |Münchener Weg 1 |87654 München|65   |\n",
    "```\n",
    "\n",
    "Das Laufzeitmodell zur Lösung der Anforderungen könnte rein aus Operationen bestehen:\n",
    "\n",
    "![](images/dim6.png)\n",
    "\n",
    "Mehr Übersichtlichkeit bietet jedoch eine Hiearchie von Funktionseinheiten:\n",
    "\n",
    "![](images/dim7.png)\n",
    "\n",
    "Jede Funktionseinheit kann als Funktion umgesetzt werden. Mit solcher Differenzierung wäre die Logik verständlich und gut testbar gegliedert. Aber die große Zahl an Funktionen wäre womöglich unübersichtlich. Eine Modularisierung z.B. mittels Klassen würde helfen, Ordnung in die Funktionen zu bringen.\n",
    "\n",
    "![](images/dim8.png)\n",
    "\n",
    "Der Funktionshierarchie stünde damit eine Modulhierarchie gegenüber:\n",
    "\n",
    "![](images/dim9.png)\n",
    "\n",
    "Dass sich ein solches Modell nicht nur aus \"Gedankenblasen\" besteht, sondern handfest nützlich ist, zeigt seine folgende Übersetzung in Code:"
   ]
  },
  {
   "cell_type": "code",
   "execution_count": 99,
   "metadata": {},
   "outputs": [
    {
     "data": {
      "text/plain": [
       "Überschrift: a|bb|c d"
      ]
     },
     "metadata": {},
     "output_type": "display_data"
    },
    {
     "data": {
      "text/plain": [
       "Datensatz  : 1111|22|3"
      ]
     },
     "metadata": {},
     "output_type": "display_data"
    },
    {
     "data": {
      "text/plain": [
       "Spalten: 3"
      ]
     },
     "metadata": {},
     "output_type": "display_data"
    },
    {
     "data": {
      "text/plain": [
       "  Breite[0]: 4"
      ]
     },
     "metadata": {},
     "output_type": "display_data"
    },
    {
     "data": {
      "text/plain": [
       "  Breite[1]: 2"
      ]
     },
     "metadata": {},
     "output_type": "display_data"
    },
    {
     "data": {
      "text/plain": [
       "  Breite[2]: 3"
      ]
     },
     "metadata": {},
     "output_type": "display_data"
    }
   ],
   "source": [
    "class Tabelle {\n",
    "    IEnumerable<string[]> _datensätze;\n",
    "    \n",
    "    public Tabelle(IEnumerable<string[]> datensätze) {\n",
    "        _datensätze = datensätze;\n",
    "    }\n",
    "    \n",
    "    public string[] Überschrift => _datensätze.First();\n",
    "    \n",
    "    public IEnumerable<string[]> Datensätze => _datensätze.Skip(1);\n",
    "    \n",
    "    public int Spaltenzahl => Überschrift.Length;\n",
    "    \n",
    "    public int Spaltenbreite(int spaltenindex) {\n",
    "        return _datensätze.Max(ds => ds[spaltenindex].Trim().Length);\n",
    "    }\n",
    "}\n",
    "\n",
    "\n",
    "var sut = new Tabelle(new[]{\n",
    "    new[]{\"a\", \"bb\", \"c d\"},\n",
    "    new[]{\"1111\", \"22\", \"3\"}\n",
    "});\n",
    "\n",
    "display($\"Überschrift: {string.Join(\"|\", sut.Überschrift)}\");\n",
    "foreach(var ds in sut.Datensätze)\n",
    "    display($\"Datensatz  : {string.Join(\"|\", ds)}\");\n",
    "display($\"Spalten: {sut.Spaltenzahl}\");\n",
    "for(var i=0; i<sut.Spaltenzahl; i++)\n",
    "    display($\"  Breite[{i}]: {sut.Spaltenbreite(i)}\");"
   ]
  },
  {
   "cell_type": "code",
   "execution_count": 100,
   "metadata": {},
   "outputs": [
    {
     "data": {
      "text/html": [
       "<table><thead><tr><th><i>index</i></th><th>value</th></tr></thead><tbody><tr><td>0</td><td>a</td></tr><tr><td>1</td><td>b </td></tr><tr><td>2</td><td>c d</td></tr></tbody></table>"
      ]
     },
     "metadata": {},
     "output_type": "display_data"
    },
    {
     "data": {
      "text/html": [
       "<table><thead><tr><th><i>index</i></th><th>value</th></tr></thead><tbody><tr><td>0</td><td>111</td></tr><tr><td>1</td><td>22</td></tr><tr><td>2</td><td>3</td></tr></tbody></table>"
      ]
     },
     "metadata": {},
     "output_type": "display_data"
    }
   ],
   "source": [
    "static class CsvParser {\n",
    "    public static Tabelle Parse(string csvText) {\n",
    "        var csvLines = csvText.Split(new[]{'\\r','\\n'}, StringSplitOptions.RemoveEmptyEntries);\n",
    "        var datensätze = csvLines.Select(csvLine => csvLine.Split(';'));\n",
    "        return new Tabelle(datensätze);\n",
    "    }\n",
    "}\n",
    "\n",
    "\n",
    "var csvText = \"a;b ;c d\\n111;22;3\";\n",
    "var tabelle = CsvParser.Parse(csvText);\n",
    "display(tabelle.Überschrift);\n",
    "foreach(var ds in tabelle.Datensätze)\n",
    "    display(ds);"
   ]
  },
  {
   "cell_type": "code",
   "execution_count": 101,
   "metadata": {},
   "outputs": [
    {
     "data": {
      "text/plain": [
       "a   |bb|c d|\n",
       "----+--+---+\n",
       "1111|22|3  |"
      ]
     },
     "metadata": {},
     "output_type": "display_data"
    }
   ],
   "source": [
    "static class AsciiTabellenformatierung {\n",
    "    public static string Formatieren(Tabelle tabelle) {\n",
    "        var tabellenteile = Tabellieren(tabelle);\n",
    "        return Verschweißen(tabellenteile);\n",
    "    }\n",
    "    \n",
    "    private static (string überschrift, string trennlinie, IEnumerable<string> datensätze) Tabellieren(Tabelle tabelle) {\n",
    "        var spaltenbreiten = Spaltenbreiten(tabelle);\n",
    "        return (\n",
    "            Formatieren(tabelle.Überschrift, spaltenbreiten),\n",
    "            Trennlinie(spaltenbreiten),\n",
    "            tabelle.Datensätze.Select(ds => Formatieren(ds, spaltenbreiten))\n",
    "        );\n",
    "    }\n",
    "                    \n",
    "    private static string Verschweißen((string überschrift, string trennlinie, IEnumerable<string> datensätze) tabelle)\n",
    "        => string.Join(\"\\n\", new[]{tabelle.überschrift, tabelle.trennlinie}.Concat(tabelle.datensätze));\n",
    "    \n",
    "\n",
    "    \n",
    "    private static int[] Spaltenbreiten(Tabelle tabelle)\n",
    "        => Enumerable.Range(0,tabelle.Spaltenzahl)\n",
    "                         .Select(i => tabelle.Spaltenbreite(i))\n",
    "                         .ToArray();\n",
    "                \n",
    "    private static string Formatieren(string[] datensatz, int[] spaltenbreiten) {\n",
    "        var aufgefüllt = datensatz.Select((w,i) => w.PadRight(spaltenbreiten[i]));\n",
    "        return string.Join(\"|\", aufgefüllt) + \"|\";\n",
    "    }\n",
    "\n",
    "    private static string Trennlinie(int[] spaltenbreiten)\n",
    "        => string.Join(\"+\", spaltenbreiten.Select(b => \"\".PadRight(b, '-'))) + \"+\";\n",
    "}\n",
    "\n",
    "\n",
    "var tabelle = new Tabelle(new[]{\n",
    "    new[]{\"a\", \"bb\", \"c d\"},\n",
    "    new[]{\"1111\", \"22\", \"3\"}\n",
    "});\n",
    "\n",
    "display($\"{AsciiTabellenformatierung.Formatieren(tabelle)}\");"
   ]
  },
  {
   "cell_type": "code",
   "execution_count": 102,
   "metadata": {},
   "outputs": [
    {
     "data": {
      "text/plain": [
       "Name;Strasse;Ort;Alter\n",
       "Peter Pan;Am Hang 5;12345 Einsam;42\n",
       "Maria Schmitz;Kölner Straße 45;50123 Köln;43\n",
       "Paul Meier;Münchener Weg 1;87654 München;65"
      ]
     },
     "metadata": {},
     "output_type": "display_data"
    },
    {
     "data": {
      "text/plain": []
     },
     "metadata": {},
     "output_type": "display_data"
    },
    {
     "data": {
      "text/plain": [
       "Name         |Strasse         |Ort          |Alter|\n",
       "-------------+----------------+-------------+-----+\n",
       "Peter Pan    |Am Hang 5       |12345 Einsam |42   |\n",
       "Maria Schmitz|Kölner Straße 45|50123 Köln   |43   |\n",
       "Paul Meier   |Münchener Weg 1 |87654 München|65   |"
      ]
     },
     "metadata": {},
     "output_type": "display_data"
    }
   ],
   "source": [
    "static class CsvAsciiTabellierer {\n",
    "    public static string Tabellieren(string csvText) {\n",
    "        var tabelle = CsvParser.Parse(csvText);\n",
    "        return AsciiTabellenformatierung.Formatieren(tabelle);\n",
    "    }\n",
    "}\n",
    "\n",
    "\n",
    "var csvText = System.IO.File.ReadAllText(\"samples/adressen.csv\");\n",
    "display($\"{csvText}\");\n",
    "display(\"\");\n",
    "\n",
    "var asciiTabelle = CsvAsciiTabellierer.Tabellieren(csvText);\n",
    "display($\"{asciiTabelle}\")"
   ]
  },
  {
   "cell_type": "markdown",
   "metadata": {},
   "source": [
    "### Das Softwareuniversum v1\n",
    "\n",
    "Evolvierbarkeit ist keine Sache der Logik, sondern der Struktur, in der Logik aufgehängt wird. Für Flow-Design ist es daher wichtig, dass Entwickler sich klar darüber sind, welche Strukturierungsmöglichkeiten es gibt und wie sie zusammenhängen. Dabei will Flow-Design mit dem *Softwareuniversum* helfen, in dem die bisherigen Strukturhierarchien zusammenkommen wie die Dimensionen des Raumes.\n",
    "\n",
    "![](images/dim10.png)\n",
    "\n",
    "Der Dreh- und Angelpunkt der Softwareentwicklung ist die Logik; an ihr ist der Kunde primär interessiert. Sie steht im Zentrum des Softwareuniversums. Aus ihr entspringen die Dimensionen zu ihrer Strukturierung, weil Logik für Funktionalität allein eben nicht genug ist und ohne Hilfe nur schwer weiterentwickelt werden kann.\n",
    "\n",
    "* **Komposition**: Zunächst wird Logik strukturiert in Operationen und Integrationen im Sinne von Datenflüssen, um vor allem Funktionalität verständlich und testbar herzustellen. Verschiedenes wird unter einem Namen zusammengefasst.\n",
    "* **Aggregation**: Diese Kompositionen werden dann mit Modulen strukturiert, um die Verständlichkeit weiter zu erhöhen, aber auch um arbeitsteilige Codierung zu ermöglichen. Ähnliches wird unter einem Namen zusammengefasst.\n",
    "* **Verteilung**: Und schließlich werden Module bei Bedarf zur Laufzeit auf Hosts verteilt betrieben, um noch fehlende nicht-funktionale Qualität herzustellen. Was gemeinsam von Ressourcen abhängig ist, wird an einem Ort zusammengefasst."
   ]
  }
 ],
 "metadata": {
  "kernelspec": {
   "display_name": ".NET (C#)",
   "language": "C#",
   "name": ".net-csharp"
  },
  "language_info": {
   "file_extension": ".cs",
   "mimetype": "text/x-csharp",
   "name": "C#",
   "pygments_lexer": "csharp",
   "version": "8.0"
  }
 },
 "nbformat": 4,
 "nbformat_minor": 4
}
