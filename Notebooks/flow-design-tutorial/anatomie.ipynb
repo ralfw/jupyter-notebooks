{
 "cells": [
  {
   "cell_type": "markdown",
   "metadata": {},
   "source": [
    "# Die Anatomie von Software\n",
    "## Radikale Objektorientierung\n",
    "### EVA\n",
    "### PoMO\n",
    "### ISOP\n",
    "\n",
    "## System vs Umwelt\n",
    "\n",
    "## Softwarezelle\n",
    "### Adapter\n",
    "### Domäne\n",
    "### Integration"
   ]
  },
  {
   "cell_type": "markdown",
   "metadata": {},
   "source": [
    "# Die Anatomie von Software\n",
    "\n",
    "Flow-Design unterliegt - nomen es omen - die Vorstellung, dass es bei Produktionsprozessen immer um Fluss geht. Software als Produkt wird in einem Fluss produziert, das Laufzeitverhalten von Softare jedoch ebenfalls. Flow-Design benutzt daher dieselbe Notation für die Darstellung des Softwareproduktionsprozesses wie für die Modelle von Problemlösungsansätzen. Das hat sich als ganz natürlich und sehr vorteilhaft erwiesen, um in der Softwareentwicklung jederzeit die Perspektive wechseln zu können. Softwareentwickler sind also Arbeiter in und an drei Flüssen:\n",
    "\n",
    "* die des Programmierers, der Datentransformationsprozesse realisiert,\n",
    "* die des Teammitglieds, das in einem Anforderungstransformationsprozess arbeitet und\n",
    "* die einer Prozessproduzenten, der einen Anforderungstransformationsprozess ständig reflektiert und optimiert."
   ]
  },
  {
   "cell_type": "markdown",
   "metadata": {},
   "source": [
    "## Die Grundbausteine: Funktionseinheiten und Nachrichten\n",
    "\n",
    "etwas tut was (ellipse, kreis)\n",
    "\n",
    "etwas fließt\n",
    "\n",
    "### PoMO\n",
    "\n",
    "### IOSP"
   ]
  },
  {
   "cell_type": "code",
   "execution_count": null,
   "metadata": {},
   "outputs": [],
   "source": []
  },
  {
   "cell_type": "markdown",
   "metadata": {},
   "source": [
    "## Objekte als fundamentale Softwarebausteine\n",
    "\n",
    "Die Bausteine, aus denen Flow-Design Produktionsprozesse im Allgemeinen und Software im Speziellen zusammengesetzt sieht, sind Funktionseinheiten die schlicht Input in Output verwandeln:\n",
    "\n",
    "/// funktionseinheit, die input in output verwandelt (1)\n",
    "\n",
    "Wenn solche Funktionseinheiten einen Softwarebaustein repräsentieren, dann wird ihr Verhalten durch Logik hergestellt. In ihnen ist \"irgendwie\" Logik am Werk und transformiert Input-Daten in Output-Daten. Diese Daten können als Nachrichten (messages) verstanden werden und die Funktionseinheiten sind im Grunde Objekte, wie Alan Kay es gemeint hatte.\n",
    "\n",
    "Wie eine solche Software-Funktionseinheit am Ende codiert wird, ist zunächst unerheblich. Eine Möglichkeit ist, sie in eine Funktion zu übersetzen. Beispiel:\n",
    "\n",
    "/// funktionseinheit \"from roman\", die eine römische zahl in eine dezimalzahl wandelt (2)\n",
    "\n",
    "Der Code dafür könnte so aussehen:"
   ]
  },
  {
   "cell_type": "code",
   "execution_count": 6,
   "metadata": {},
   "outputs": [
    {
     "data": {
      "text/plain": [
       "MCMLXXXIV=1984"
      ]
     },
     "metadata": {},
     "output_type": "display_data"
    }
   ],
   "source": [
    "int ConvertFromRoman(string a) {\n",
    "    var b = 0;\n",
    "    var c = int.MaxValue;\n",
    "    foreach(var d in a.ToCharArray()) {\n",
    "        var e = d switch {\n",
    "            'I' => 1, 'V' => 5, 'X' => 10,\n",
    "            'L' => 50, 'C' => 100, 'D' => 500, 'M' => 1000,\n",
    "            _ => throw new InvalidOperationException()\n",
    "        };\n",
    "        if (c < e)\n",
    "            b -= 2*c;\n",
    "        b += e;\n",
    "        c = e;\n",
    "    }\n",
    "    return b;\n",
    "}\n",
    "\n",
    "var roman = \"MCMLXXXIV\";\n",
    "display($\"{roman}={ConvertFromRoman(roman)}\");"
   ]
  },
  {
   "cell_type": "markdown",
   "metadata": {},
   "source": [
    "Die römische Zahl fließt in die Funktionseinheit hinein; sie ist die Input-Nachricht, die die Transformation anstößt. Die Dezimalzahl fließt aus der Funktionseinheit als Output-Nachricht hinaus.\n",
    "\n",
    "Während das Modell sich im Diagramm nur eine Transformation wünscht - das Modell ist deklarativ -, implementiert der Code die Transformation konkret imperativ mit Logik.\n",
    "\n",
    "Dass Flow-Design selbst in diesem Fall von Objekt spricht, mag merkwürdig klingen. Sind Objekte nicht Instanzen von Klassen in objektorientierten Sprachen wie C# oder Java oder Ruby? Müsste eine objektorientierte Lösung nicht mindestens so aussehen?"
   ]
  },
  {
   "cell_type": "code",
   "execution_count": 9,
   "metadata": {},
   "outputs": [
    {
     "data": {
      "text/plain": [
       "MCMLXXXIV=1984"
      ]
     },
     "metadata": {},
     "output_type": "display_data"
    }
   ],
   "source": [
    "class RomanConversions {\n",
    "    public int ConvertFromRoman(string a) {\n",
    "        var b = 0;\n",
    "        var c = int.MaxValue;\n",
    "        foreach(var d in a.ToCharArray()) {\n",
    "            var e = d switch {\n",
    "                'I' => 1, 'V' => 5, 'X' => 10,\n",
    "                'L' => 50, 'C' => 100, 'D' => 500, 'M' => 1000,\n",
    "                _ => throw new InvalidOperationException()\n",
    "            };\n",
    "            if (c < e)\n",
    "                b -= 2*c;\n",
    "            b += e;\n",
    "            c = e;\n",
    "        }\n",
    "        return b;\n",
    "    }\n",
    "}\n",
    "\n",
    "var converter = new RomanConversions();\n",
    "var roman = \"MCMLXXXIV\";\n",
    "display($\"{roman}={converter.ConvertFromRoman(roman)}\");"
   ]
  },
  {
   "cell_type": "markdown",
   "metadata": {},
   "source": [
    "Flow-Design sieht das entspannt. Für Alan Kay waren Objekte \"die Dinger\", die transformierend in einem Nachrichtenfluss miteinander verbunden sind.\n",
    "\n",
    "Das, was in einer Programmiersprache eine Transformation durchführt, ist Logik. Das, was in einer Programmiersprache eine Nachricht konsumiert (empfängt) und eine Nachricht produziert (sendet) ist aber eine Funktion. Ob die Funktion eine Methode in einer Klasse ist oder nicht, ist einerlei. Die Nachricht sind die Daten, die einer Funktion als Parameter übergeben werden und die sie als Resultat liefert.\n",
    "\n",
    "Für Flow-Design sind beide obige Übersetzungen valide. Eine statische Funktion ohne Modul (wie es z.B. in Python möglich ist) oder eine Methode in einer zu instanziierenden Klasse sind grundsätzlich gleichwertig. Allerdings sollte überlegt werden, wann welche Übersetzung gewählt wird."
   ]
  },
  {
   "cell_type": "markdown",
   "metadata": {},
   "source": [
    "### Substantiv vs Verb\n",
    "\n",
    "Für Flow-Design steht Verhalten im Vordergrund. Verhalten wird durch Logik hergestellt, die in Funktionen bedeutungsvoll zusammengefasst werden. Funktionseinheiten werden deshalb zunächst mit einem Verb (z.B. \"summieren\") oder einer Verbphrase (z.B. \"Report generieren\") bezeichnet. Sie repräsentieren dann eine konkrete Transformation. Solche Funktionseinheiten können intuitiv in Funktionen übersetzt werden wie oben geschehen. Das ist vor allem der Fall, wenn konkrete Transformationen entworfen werden.\n",
    "\n",
    "Wenn es hingegen um die Strukturierung von Code geht und größere Funktionseinheiten \n",
    "\n"
   ]
  },
  {
   "cell_type": "markdown",
   "metadata": {},
   "source": [
    "\n",
    "## Objekte im Fluss verbunden\n",
    "\n",
    "Funktionseinheiten als nachrichtenverarbeitende Bausteine können und sollen miteinander verbunden werden. Das geschieht in einem Datenfluss. Entscheidend dabei ist, dass eine produziernde Funktionseinheit nicht weiß, ob es eine konsumierende Funktionseinheit für ihren Output gibt oder welche das ist. Nachrichtenfluss ist immer unidirektional zwischen Funktionsein\n",
    "## Funktionseinheiten in Hierarchie\n",
    "\n",
    "Nachrichtenverarbeitende Funktionseinheiten "
   ]
  },
  {
   "cell_type": "markdown",
   "metadata": {},
   "source": [
    "# todo\n",
    "\n",
    "holarchie von objekten\n",
    "softwarezelle\n",
    "\n",
    "pomo\n",
    "iosp"
   ]
  }
 ],
 "metadata": {
  "kernelspec": {
   "display_name": ".NET (C#)",
   "language": "C#",
   "name": ".net-csharp"
  },
  "language_info": {
   "file_extension": ".cs",
   "mimetype": "text/x-csharp",
   "name": "C#",
   "pygments_lexer": "csharp",
   "version": "8.0"
  }
 },
 "nbformat": 4,
 "nbformat_minor": 4
}
