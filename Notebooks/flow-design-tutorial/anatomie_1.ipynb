{
 "cells": [
  {
   "cell_type": "markdown",
   "metadata": {},
   "source": [
    "# Die Anatomie von Software\n",
    "\n",
    "Der Codeproduktion im Flow-Design, d.h. den Phasen Analyse, Entwurf und Codierung, unterliegt eine gemeinsame Vorstellung davon, \"was Software ist\". Oder sogar noch allgemeiner: eine allgemeine Vorstellung davon, wie Produktion \"von irgendetwas\" funktioniert. Für Flow-Design sind Software und Unternehmen nämlich vergleichbar. Beide produzieren in Prozessen. Beide stellen Verhalten her. Deshalb benutzt Flow-Design auch dieselbe Notation zur Modellierung von Software und Unternehmen(steilen). (Flow-Design hegt den Verdacht, dass Software nicht nach dem Bilde von Maschinen geschaffen wird, sondern nach dem von menschlichen Organisationen. Deshalb teilen Software und Organisationen auch einige Probleme.)\n",
    "\n",
    "## Radikale Objektorientierung\n",
    "\n",
    "Für Flow-Design ist Software insgesamt eine Datentransformationsmaschine - die wiederum zusammengesetzt ist aus Datentransformationsmaschinen, die verschaltet sind Produktionsprozessen: *It's message processors all the way down.* Alan Kay hat diese Datentransformationsmaschinen *Objekt* genannt. Den Begriff nimmt Flow-Design in seiner ursprünglichen Bedeutung auf. Flow-Design vertritt insofern eine *radikale* Objektorientierung: Sie ist radikal, weil sie [\"in besonderem Maß von der Norm abweicht\"](https://www.wortbedeutung.info/radikal/) und in gewisser Weise auch unnachgiebig erscheinen mag. Und sie ist radikal, weil sie zurück an [die Wurzel](https://www.wortbedeutung.info/radix/) des Begriffs bei Alan Kay geht.\n",
    "\n",
    "### EVA\n",
    "Laufzeitverhalten ist für Flow-Design definiert durch die Transformation von Daten. Was aus `(1,1)` eine `2` macht, verhält sich gegenüber seiner Umwelt. In der nächsten Zelle dieses Notebooks zeigt die zweite Zeile rechts vom Zuweisungsoperstor solches Verhalten. Logik stellt das Verhalten her."
   ]
  },
  {
   "cell_type": "code",
   "execution_count": 14,
   "metadata": {},
   "outputs": [],
   "source": [
    "var eingabe = (1,1);\n",
    "var ausgabe = eingabe.Item1 + eingabe.Item2;"
   ]
  },
  {
   "cell_type": "markdown",
   "metadata": {},
   "source": [
    "`eingabe` und `ausgabe` sind die Daten, anhand derer sich das Verhalten beobachten lässt. Noch deutlicher wird das jedoch, wenn die Daten wirklich \"nach draußen\" verlagert sind, z.B. in eine Datei:"
   ]
  },
  {
   "cell_type": "code",
   "execution_count": 19,
   "metadata": {},
   "outputs": [],
   "source": [
    "var eingabeText = System.IO.File.ReadAllText(\"samples/eingabe.txt\").Split(',');\n",
    "eingabe = (int.Parse(eingabeText[0]), int.Parse(eingabeText[1]));\n",
    "\n",
    "ausgabe = eingabe.Item1 + eingabe.Item2;\n",
    "\n",
    "System.IO.File.WriteAllText(\"samples/ausgabe.txt\", ausgabe.ToString());"
   ]
  },
  {
   "cell_type": "code",
   "execution_count": 20,
   "metadata": {},
   "outputs": [
    {
     "data": {
      "text/plain": [
       "eingabe.txt: 1,1"
      ]
     },
     "metadata": {},
     "output_type": "display_data"
    },
    {
     "data": {
      "text/plain": [
       "ausgabe.txt: 2"
      ]
     },
     "metadata": {},
     "output_type": "display_data"
    }
   ],
   "source": [
    "display($\"eingabe.txt: { System.IO.File.ReadAllText(\"samples/eingabe.txt\")}\");\n",
    "display($\"ausgabe.txt: { System.IO.File.ReadAllText(\"samples/ausgabe.txt\")}\");"
   ]
  },
  {
   "cell_type": "markdown",
   "metadata": {},
   "source": [
    "Die vorhergehende Zelle ist eine ausgewachsene Datentransformationsmaschine mit klar erkennbarem Verhalten: \"auf Zuruf\" (hier: durch Ausführung der Zelle mit `Shift-Enter` im interaktiven Jupyter Notebook) beantwortet sie die Frage nach der Summe zweier Zahlen. Dieses Verhalten ist wahrnehmbar für die Umwelt, weil sie Daten in einer Datei in einem bestimmten Format anliefern und das Ergebnis ebenfalls aus einer Datei abholen muss."
   ]
  },
  {
   "cell_type": "markdown",
   "metadata": {},
   "source": [
    "Datentransformationsmaschinen werden mit Eingabedaten gespeist, verarbeiten sie und liefern Ausgabedaten. Sie folgen schlicht dem alten \"EVA-Prinzip\": **E**ingabe, **V**erarbeitung, **A**usgabe. Flow-Design besinnt sich wirlich auf die Anfänge:\n",
    "\n",
    "> Daten fließen aus einer Quelle zu einem Konsumenten, der aus ihnen andere Daten produziert.\n",
    "\n",
    "Dass Eingabe- und Ausgabedaten *Nachrichten (message)* heißen, dass Alan Kay diesen \"Prosumenten\" *Objekt* genannt hat... das ist nicht so wichtig. Der Grundgedanke ist entscheidend!\n",
    "\n",
    "Flow-Design abstrahiert Nachrichtenverarbeiter als \"Blasen\", in die Input-Daten hineinfließen und Output-Daten herausfließen. Von wo nach wo Nachrichten fließen zeigen jeweils Pfeile an.\n",
    "\n",
    "![](images/ro1.png)\n",
    "\n",
    "Wie genau die Datentransformation funktioniert, ist bei der Darstellung auch nicht wichtig. Sie ist nur ein Modell einer Transformation. Wird es später codiert, löst Logik das Problem der Transformation. In der ersten Beispielzelle oben hat `eingabe.Item1 + eingabe.Item2` dafür ausgereicht. In der zweiten Beispielzelle war schon mehr Logik nötig, weil Daten zuerst aus der Umwelt beschafft und am Ende in ihr bereitgestellt werden mussten.\n",
    "\n",
    "Solche Datentransformationsmaschinen - oder kürzer: Funktionseinheiten - können für eine Zeile Logik stehen oder vier oder 100.000. Sie können eine Art Input-Daten verarbeiten oder viele verschiedene Arten. Sie können eine Art Output-Daten produzieren oder viele verschiedene Arten. Das alles ändert nichts an ihrer grundsätzlichen \"Natur\".\n",
    "\n",
    "![](images/ro2.png)\n",
    "\n",
    "Eine \"Blase\" kann also die Logik ganzer Programme oder nur kleine Ausschnitte daraus repräsentieren. Deshalb hat Software für Flow-Design eine rekursive Struktur. Sie sieht auf allen verhaltenserzeugenden Abstraktionsebenen gleich aus:\n",
    "\n",
    "![](images/ro3.png)\n",
    "\n",
    "Software kann damit auf allen Ebenen - auch genannt Strata nach [Abelson/Sussman *Stratified Design*](https://dspace.mit.edu/bitstream/handle/1721.1/6064/AIM-986.pdf) - getrennt vollständig beschrieben werden. Jedes Stratum repräsentiert das volle Laufzeitverhalten.\n",
    "\n",
    "![](images/ro3a.png)\n",
    "\n",
    "Allerdings ist zu beachten, dass dieses einfache Bild von Software - ihr Meta-Modell - auf zwei Prinzipien ruht. Damit unterscheidet es sich für Flow-Design radikal von sonst üblichen Vorstellungen von Software:"
   ]
  },
  {
   "cell_type": "markdown",
   "metadata": {},
   "source": [
    "### PoMO - Principle of Mutual Obliviousness\n",
    "\n",
    "Wenn Software prinzipiell aus nachrichtenverarbeitenden Funktionseinheiten besteht, dann ist als erstes zu definieren, was es bedeutet, dass die Verbindungen zwischen ihnen nur aus \"Kanälen\" bestehen, durch die Nachrichten fließen. Für Alan Kay war dieser Aspekt zentral, als er diese Funktionseinheiten \"Objekt\" taufte:\n",
    "\n",
    ">  \"The big idea is 'messaging'\", [Alan Kay in einer Email](http://wiki.c2.com/?AlanKayOnMessaging)\n",
    "\n",
    "Flow-Design interpretiert die Analogie der über Nachrichten in Verbindung stehenden Objekte\n",
    "\n",
    "> \"I thought of objects being like biological cells and/or individual computers on a network, only able to communicate with messages\", [Alan Kay in einem Interview](http://userpage.fu-berlin.de/~ram/pub/pub_jf47ht81Ht/doc_kay_oop_en)\n",
    "\n",
    "sehr konkret so:\n",
    "\n",
    "> **Objekte sind einander unbekannte Datenprozessoren, zwischen denen Nachrichten unidirektional fließen.**\n",
    "\n",
    "Das bedeutet:\n",
    "\n",
    "* Kein Objekt in einem mehrschrittigen Transformationsprozess weiß also, ob und welche Objekte ihm als Produzent seiner Input-Nachrichten vorangestellt sind. Kein Objekt in einem solchen Prozess weiß darüber hinaus, ob und welche Objekte im als Konsumenten seiner Output-Nachrichten nachgestellt sind. Objekte sind quasi selbstvergessene Datenprozessoren, die einfach nur gewissenhaft bearbeiten, was bei ihnen ankommt. Warum und wieso das geschieht, ist ihnen einerlei. Ein \"intelligent designer\" hat sie einfach erschaffen und in einen Zusammenhang gestellt, der ihnen selbst aber unbekannt ist.\n",
    "* Zwischen Objekten gibt es keine Request/Response-Beziehungen. Objekte produzieren keine Nachrichten, für die sie von anderen eine Antwort erwarten. Oder zumindest warten sie nicht auf Antwort auf ihre Output-Nachrichten. Alan Kay hat seine Analogie bewusst an der Natur angelehnt. Die dortige Abwesenheit von Request/Response-Beziehungen wollte er in die Softwarewelt übertragen.\n",
    "\n",
    "Oder in Kurzform: **Principle of Mutual Obliviousness (PoMO)**\n",
    "\n",
    "Objekte leisten eine Transformation; das steckt schon in Alan Kays Analogie, die biologische Zellen mit Objekten gleichsetzt. Übersetzt in Code bedeutet das, in ihnen läuft Logik, die Input-Daten in Output-Daten übersetzen. Diese Logik im Objekt hat jedoch keine Kenntnis darüber, wer sie aufruft/anstößt. Sie weiß nicht, wer was mit ihrem Resultat tut. Deshalb stoßen Objekte auch keine Aktivitäten bei anderen an; sie kennen keine anderen. Daraus folgt, dass Objekte nicht auf Rückmeldungen zu ihren produzierten Daten warten.\n",
    "\n",
    "Im \"Blasendiagramm\" eines Datenflusses wird das PoMO ganz natürlich eingehalten. Verbindungen zwischen den Datenprozessoren sind über die Pfeile nur unidirektional. Und da die Verarbeitungsdetails in ihnen bewusst ausgeblendet sind, ist die gegenseitige Unkenntnis der Funktionseinheiten selbstverständlich oder nicht mal kein Thema, über das sich nachzudenken lohnt.\n",
    "\n",
    "Doch wie kann solch radikale, konzeptionelle Objektorientierung übersetzt werden in Code? Immerhin musste Alan Kay zugeben\n",
    "\n",
    "> \"\\[I\\]t took a while to see how to do messaging in a programming language efficiently enough to be useful\", [Alan Kay in einem Interview](http://userpage.fu-berlin.de/~ram/pub/pub_jf47ht81Ht/doc_kay_oop_en)\n",
    "\n",
    "Lässt sich das PoMO, lässt sich radikale Objektorientierung, lässt sich die Vorstellung der grundlegenden Bausteine von Software, die Flow-Design hegt, mit weit verbreiteten objektorientierten Sprachen wie Java, C#, C++, Ruby, Python praktikabel umsetzen?\n",
    "\n",
    "Flow-Design sagt dazu ein klares Ja."
   ]
  },
  {
   "cell_type": "markdown",
   "metadata": {},
   "source": [
    "#### Funktionen als Funktionseinheiten\n",
    "\n",
    "Ein Datenprozessor im Sinne des PoMO enthält Logik, der Nachrichten gesendet werden können und die Nachrichten produziert - ohne dass sie zu den Nachrichten wissen müsste, woher und wohin. Das lässt sich mit programmiersprachlichen Funktionen intuitiv abbilden.\n",
    "\n",
    "Die folgende Funktion stellt den Datenprozessor für das obige erste EVA-Beispiel dar:"
   ]
  },
  {
   "cell_type": "code",
   "execution_count": 21,
   "metadata": {},
   "outputs": [],
   "source": [
    "int Addieren(int a, int b) => a + b;"
   ]
  },
  {
   "cell_type": "markdown",
   "metadata": {},
   "source": [
    "Zum Einsatz kommt der Datenprozessor durch Aufruf:"
   ]
  },
  {
   "cell_type": "code",
   "execution_count": 23,
   "metadata": {},
   "outputs": [
    {
     "data": {
      "text/plain": [
       "Ausgabe: 2"
      ]
     },
     "metadata": {},
     "output_type": "display_data"
    }
   ],
   "source": [
    "var ausgabe = Addieren(1, 1);\n",
    "display($\"Ausgabe: {ausgabe}\");"
   ]
  },
  {
   "cell_type": "markdown",
   "metadata": {},
   "source": [
    "Die Funktion `Addieren` hat keine Kenntnis darüber (und interessiert sich auch nicht dafür), in welchem Zusammenhang sie genutzt wird. Sie verarbeitet schlicht gewissenhaft mit ihrer Logik den Input (aktuelle Funktionsparameter) zu einem Output (Funktionsresultat).\n",
    "\n",
    "Ob die Funktion frei steht wie oben oder einem Modul angehört oder gar einer instanziierbaren Klasse, ist für das PoMO nicht wichtig. Die folgenden Lösungen entsprechen nicht mehr oder weniger dem PoMO als die vorhergehende:"
   ]
  },
  {
   "cell_type": "code",
   "execution_count": 27,
   "metadata": {},
   "outputs": [
    {
     "data": {
      "text/plain": [
       "Ausgabe der statischen Methode: 2"
      ]
     },
     "metadata": {},
     "output_type": "display_data"
    }
   ],
   "source": [
    "static class Mathematik_statisch {\n",
    "    public static int Addieren(int a, int b) => a + b;\n",
    "}\n",
    "\n",
    "display($\"Ausgabe der statischen Methode: {Mathematik_statisch.Addieren(1,1)}\");"
   ]
  },
  {
   "cell_type": "code",
   "execution_count": 28,
   "metadata": {},
   "outputs": [
    {
     "data": {
      "text/plain": [
       "Ausgabe der Instanzmethode: 2"
      ]
     },
     "metadata": {},
     "output_type": "display_data"
    }
   ],
   "source": [
    "class Mathematik_instanziierbar {\n",
    "    public int Addieren(int a, int b) => a + b;\n",
    "}\n",
    "\n",
    "var o = new Mathematik_instanziierbar();\n",
    "display($\"Ausgabe der Instanzmethode: {o.Addieren(1,1)}\");"
   ]
  },
  {
   "cell_type": "markdown",
   "metadata": {},
   "source": [
    "Module im Allgemeinen bzw. Klassen im Speziellen sind orthogonal zum PoMO. Sie sind ganz und gar nicht unwichtig - doch die Grundidee der radikalen Objektorientierung, die Software aus Nachrichtenprozessoren zusammengesetzt versteht, kommt erstmal ohne sie aus.\n",
    "\n",
    "Hier das zweite EVA-Beispiel zunächst übersetzt in einen mehrschrittigen Nachrichtenrproduktionsfluss als Modell\n",
    "\n",
    "![](images/ro4.png)\n",
    "\n",
    "und dann das Modell übersetzt in Code:"
   ]
  },
  {
   "cell_type": "code",
   "execution_count": 40,
   "metadata": {},
   "outputs": [],
   "source": [
    "// Implementation der noch fehlenden Datenprozessoren\n",
    "class IO {\n",
    "    public (int a, int b) Laden(string dateiname) {\n",
    "        var eingabeText = System.IO.File.ReadAllText(dateiname).Split(',');\n",
    "        return (int.Parse(eingabeText[0]), int.Parse(eingabeText[1]));\n",
    "    }\n",
    "    \n",
    "    public void Speichern(string dateiname, int ausgabe) {\n",
    "        System.IO.File.WriteAllText(dateiname, ausgabe.ToString());\n",
    "    }\n",
    "}"
   ]
  },
  {
   "cell_type": "code",
   "execution_count": 39,
   "metadata": {},
   "outputs": [],
   "source": [
    "var io = new IO();\n",
    "\n",
    "// Die gesamte Transformation als Datenfluss\n",
    "var eingabe = io.Laden(\"samples/eingabe.txt\");\n",
    "var ausgabe = Mathematik_statisch.Addieren(eingabe.a, eingabe.b);\n",
    "io.Speichern(\"samples/ausgabe.txt\", ausgabe);"
   ]
  },
  {
   "cell_type": "code",
   "execution_count": 38,
   "metadata": {},
   "outputs": [
    {
     "data": {
      "text/plain": [
       "eingabe.txt: 1,1"
      ]
     },
     "metadata": {},
     "output_type": "display_data"
    },
    {
     "data": {
      "text/plain": [
       "ausgabe.txt: 2"
      ]
     },
     "metadata": {},
     "output_type": "display_data"
    }
   ],
   "source": [
    "display($\"eingabe.txt: {System.IO.File.ReadAllText(\"samples/eingabe.txt\")}\");\n",
    "display($\"ausgabe.txt: {System.IO.File.ReadAllText(\"samples/ausgabe.txt\")}\");"
   ]
  },
  {
   "cell_type": "markdown",
   "metadata": {},
   "source": [
    "Während Alan Kay sich scheinbar gezwungen sah, *messaging* in spezieller Weise zu implementieren und dafür Smalltalk wählte, versteht Flow-Design *messaging* zunächst viel einfacher. \n",
    "\n",
    "Polymorphie ist für Flow-Design schon weit mehr als \"bloßes\" *messaging*. Solange also keine Polymorphie nötig ist, genügen dem radikalen objektorientierten Gedanken schlichte Funktionen für die Übersetzung. Aus ihnen können Produktionsflüsse für Datentransformationen zusammengesetzt werden, wie vorstehend demonstriert. Und wenn Polymorphie interessant wird, dann kann sie sehr unterschiedlich implementiert werden von textueller Nachrichtencodierung über dynamische Sprachen bis zu Interfaces in objektorientierten Sprachen.\n",
    "\n",
    "Einzelne Funktionen leisten im *messaging* ihren Beitrag mit ihrer Logik und müssen dafür keine andere Funktion um sich herum kennen und wissen nicht, in welchem Fluss sie wo stehen.\n",
    "\n",
    "Damit solche Produktionsflüsse jedoch skalieren, ist noch ein weiteres Prinzip nötig. Das liest Flow-Design ebenfalls aus Alan Kays Zellenanalogie heraus."
   ]
  },
  {
   "cell_type": "markdown",
   "metadata": {},
   "source": [
    "### ISOP - Integration Operation Segregation Principle\n",
    "\n",
    "Alan Kay spricht in seiner Analogie von atomaren Softwareeinheiten. Biologische Zellen sind die kleinsten Lebewesen. Für Leben sind sie die atomaren Bausteine. Ebenso sind Objekte atomar für die Herstellung von Softwareverhalten.\n",
    "\n",
    "Biologische Zellen erbringen ihre Leistung durch chemische Prozesse. Objekte in einer Software erbringen ihre Leistung durch Logik. Ob ein Modell für das obige Beispiel die einzelnen Transformationsschritte (Verben) in einen Datenfluss bringt\n",
    "\n",
    "![](images/ro4.png)\n",
    "\n",
    "oder sich auf größere Funktionseinheiten konzentriert (Substantive), ist zunächst nur eine Frage von Abstraktionsebene und Verständlichkeit. Das PoMO ist aus beiden Perspektiven eingehalten:\n",
    "\n",
    "![](images/ro5.png)\n",
    "\n",
    "Auch wenn Nachrichten hier \"im Kreis\" fließen, besteht immer noch keine Request/Response-Beziehung zwischen den Funktionseinheiten. Die Leistung der Funktionseinheiten wird durch die Logik erbracht, die sie enthalten.\n",
    "\n",
    "Eine Frage bleibt dabei jedoch unbeantwortet: Wie werden die Funktionseinheiten zu einem Datenfluss verbunden?"
   ]
  },
  {
   "cell_type": "markdown",
   "metadata": {},
   "source": [
    "#### Funktionale Abhängigkeiten\n",
    "\n",
    "Das Beispiel oben zeigt eine Verbindung in Form von sequenziellen Funktionsaufrufen:"
   ]
  },
  {
   "cell_type": "code",
   "execution_count": 41,
   "metadata": {},
   "outputs": [],
   "source": [
    "var eingabe = io.Laden(\"samples/eingabe.txt\");\n",
    "var ausgabe = Mathematik_statisch.Addieren(eingabe.a, eingabe.b);\n",
    "io.Speichern(\"samples/ausgabe.txt\", ausgabe);"
   ]
  },
  {
   "cell_type": "markdown",
   "metadata": {},
   "source": [
    "Auch wenn das für dieses kleine Beispiel nicht verwundern mag, ist es doch im Grunde ungewöhnlich. Vorherrschend ist eine Verbindung von Funktionen über funktionale Abhängigkeiten. Die könnte so aussehen:"
   ]
  },
  {
   "cell_type": "code",
   "execution_count": 54,
   "metadata": {},
   "outputs": [],
   "source": [
    "class IO_v2 {\n",
    "    public void Laden(string eingabeDateiname, string ausgabeDateiname) {\n",
    "        var eingabeText = System.IO.File.ReadAllText(eingabeDateiname).Split(',');\n",
    "        var eingabe = (int.Parse(eingabeText[0]), int.Parse(eingabeText[1]));\n",
    "        \n",
    "        Mathematik_statisch_v2.Addieren(eingabe.Item1, eingabe.Item2, ausgabeDateiname);\n",
    "    }\n",
    "    \n",
    "    public void Speichern(string dateiname, int ausgabe) {\n",
    "        System.IO.File.WriteAllText(dateiname, ausgabe.ToString());\n",
    "    }\n",
    "}\n",
    "\n",
    "static class Mathematik_statisch_v2 {\n",
    "    public static void Addieren(int a, int b, string dateiname) {\n",
    "        var ausgabe = a + b;\n",
    "        \n",
    "        var io = new IO_v2();\n",
    "        io.Speichern(dateiname, ausgabe);\n",
    "    }\n",
    "}\n",
    "\n",
    "var io = new IO_v2();\n",
    "io.Laden(\"samples/eingabe.txt\", \"samples/ausgabe.txt\");"
   ]
  },
  {
   "cell_type": "markdown",
   "metadata": {},
   "source": [
    "Doch bei dieser \"Verdrahtung\" der Funktionen gruselt es inzwischen jeden Programmierer, weil hier Abhängigkeiten zirkulär sind: die IO-Verantwortlichkeit ist abhängig von der Mathematik-Verantwortlichkeit, die wiederum von der IO-Verantwortlichkeit abhängig ist. Das ist erstens schwer verständlich und zweitens nicht gut testbar.\n",
    "\n",
    "Aber die funktionalen Abhängigkeiten könnten auch so aussehen:"
   ]
  },
  {
   "cell_type": "code",
   "execution_count": 55,
   "metadata": {},
   "outputs": [],
   "source": [
    "static class Mathematik_statisch_v3 {\n",
    "    public static void Addieren(string eingabeDateiname, string ausgabeDateiname) {\n",
    "        var io = new IO();\n",
    "        var eingabe = io.Laden(eingabeDateiname);\n",
    "        \n",
    "        var ausgabe = eingabe.Item1 + eingabe.Item2;\n",
    "        \n",
    "        io.Speichern(ausgabeDateiname, ausgabe);\n",
    "    }\n",
    "}\n",
    "\n",
    "Mathematik_statisch_v3.Addieren(\"samples/eingabe.txt\", \"samples/ausgabe.txt\");"
   ]
  },
  {
   "cell_type": "markdown",
   "metadata": {},
   "source": [
    "Hier sind die Abhängigkeiten nicht mehr zirkulär; nur noch die Mathematik-Verantwortlichkeit hängt von der IO-Verantwortlichkeit ab. Das entspricht der Idee der Schichtenarchitektur, bei der die Geschäftslogik von der Datenzugriffslogik abhängig ist.\n",
    "\n",
    "Diese Struktur ist besser verständlich - doch die Testbarkeit ist weiterhin nicht optimal: Um nur die Geschäftslogik testen zu können, müsste die Datenzugriffslogik \"ausgeblendet\" werden. Das kann mit einer Attrappe geschehen, die der Geschäftslogik injiziert wird. In objektorientierten Sprachen kommen dafür Interfaces zum Einsatz, weil Polymorphie benötigt wird."
   ]
  },
  {
   "cell_type": "code",
   "execution_count": 56,
   "metadata": {},
   "outputs": [
    {
     "data": {
      "text/html": [
       "Installing package NSubstitute.done!"
      ]
     },
     "metadata": {},
     "output_type": "display_data"
    },
    {
     "data": {
      "text/html": [
       "Successfully added reference to package NSubstitute, version "
      ]
     },
     "metadata": {},
     "output_type": "display_data"
    }
   ],
   "source": [
    "#r \"nuget:NSubstitute\"\n",
    "using NSubstitute;\n",
    "\n",
    "interface IIO {\n",
    "    (int a, int b) Laden(string dateiname);\n",
    "    void Speichern(string dateiname, int ausgabe);\n",
    "}\n",
    "\n",
    "class IO_v3 : IIO {\n",
    "    public (int a, int b) Laden(string dateiname) {\n",
    "        var eingabeText = System.IO.File.ReadAllText(dateiname).Split(',');\n",
    "        return (int.Parse(eingabeText[0]), int.Parse(eingabeText[1]));\n",
    "    }\n",
    "    \n",
    "    public void Speichern(string dateiname, int ausgabe) {\n",
    "        System.IO.File.WriteAllText(dateiname, ausgabe.ToString());\n",
    "    }\n",
    "}\n",
    "\n",
    "class Mathematik_instanziierbar_v2 {\n",
    "    private IIO _io;\n",
    "    public Mathematik_instanziierbar_v2(IIO io) => _io = io;\n",
    "    \n",
    "    public void Addieren(string eingabeDateiname, string ausgabeDateiname) {\n",
    "        var eingabe = _io.Laden(eingabeDateiname);\n",
    "        var ausgabe = eingabe.Item1 + eingabe.Item2;\n",
    "        _io.Speichern(ausgabeDateiname, ausgabe);\n",
    "    }\n",
    "}\n",
    "\n",
    "var io_attrappe = Substitute.For<IIO>();\n",
    "io_attrappe.Laden(\"samples/eingabe.txt\").Returns((1,1));\n",
    "\n",
    "var o = new Mathematik_instanziierbar_v2(io_attrappe);\n",
    "o.Addieren(\"samples/eingabe.txt\", \"samples/ausgabe.txt\");\n",
    "\n",
    "io_attrappe.Received().Speichern(\"samples/ausgabe.txt\", 2);"
   ]
  },
  {
   "cell_type": "markdown",
   "metadata": {},
   "source": [
    "Mit Interfaces und Mock-Framework (hier: NSubstitute) können funktionale Abhängigkeiten testbar gemacht werden, doch ein Schmerz bleibt. Interfaces und Mock-Frameworks erzeugen zusätzliche Komplexität.\n",
    "\n",
    "Das hat Alan Kay sicherlich nich im Sinn gehabt, als der Objektorientierung der Natur angelehnt hatte. In seinem Bild vom *messaging* sind keine funktionalen Abhängigkeiten enthalten. *Das* ist entscheidend. *Das* macht seine Vorstellung von Objektorientierung so anders als die real existierende Objektorientierung im Gebrauch von Sprachen wie C++, Java, C#.\n",
    "\n",
    "Real existierende objektorientierte Codebasen sind voll von funktionalen Abhängigkeiten:\n",
    "\n",
    "> Funktional abhängig ist eine Funktion, wenn sie ihre Leistung zum Teil durch eigene Logik erbringt, zum Teil aber auch durch Aufruf von Logik in anderen Funktionen.\n",
    "\n",
    "Verhaltenserzeugende Logik ist dadurch in der Tiefe gestaffelt:\n",
    "\n",
    "![](images/ro6.png)\n",
    "\n",
    "Der Produktionsfluss ist nicht auf einen Blick erkennbar. Das behindert das Verständnis erheblich. Ein übersichtlicher Datenfluss verkommt zu kryptischem Code, wenn er mit geschachtelten Funktionsaufrufen übersetzt wird.\n",
    "\n",
    "Funktionale Abhängigkeiten widersprechen dem PoMO. Eine Funktion, die Logik enthält, also eine Nachrichtentransformation implementiert, darf nicht wissen, wie der weitere Verarbeitungsprozess in einem Datenfluss aussieht. Das würde sie aber, wenn sie eine andere Funktion aufriefe, um ihr Ergebnis weiterfließen zu lassen. Beispiel:\n",
    "\n",
    "```csharp\n",
    "public void Addieren(string eingabeDateiname, string ausgabeDateiname) {\n",
    "    var eingabe = _io.Laden(eingabeDateiname); 😱 // funktionale Abhängigkeit; Kenntnis über upstream Prozess\n",
    "    \n",
    "    // die eigentliche Logik von Addieren; sie ist abhängig von den Funktionen um sie herum\n",
    "    var ausgabe = eingabe.Item1 + eingabe.Item2;\n",
    "    \n",
    "    _io.Speichern(ausgabeDateiname, ausgabe);  😱 // funktionale Abhängigkeit; Kenntnis über downstream Prozess\n",
    "}\n",
    "```\n",
    "\n",
    "`Addieren` hat die Verantwortlichkeit zur Addition. Dafür enthält sie Logik. Doch sie beschafft sich mit `Laden` dafür auch noch ihren Input, d.h. weiß etwas über den upstream Prozess, und sie schiebt ihren Output weiter mit `Speichern`, weiß also ebenfalls etwas über den downstream Prozess.\n",
    "\n",
    "So ist die eigentliche Logik gekoppelt an das, was vorher und hinterher passiert. Das drückt sich in ihrer schlechten Testbarkeit aus, die durch weitere Komplexität kompensiert werden muss,.\n",
    "\n",
    "Wenn hingegen auf funktionale Abhängigkeiten verzichtet wird, wenn das PoMO eingehalten wird, dann ist Logik entkoppelt vom Prozess, in dem sie eine Verantwortlichkeit hat. Das zeigt die erste Implementation des EVA-Beispiels, in der die Funktionen nicht durch funktionale Abhängigkeiten miteinander zu einem Fluss verbunden waren:"
   ]
  },
  {
   "cell_type": "code",
   "execution_count": null,
   "metadata": {},
   "outputs": [],
   "source": [
    "var eingabe = io.Laden(\"samples/eingabe.txt\");\n",
    "var ausgabe = Mathematik_statisch.Addieren(eingabe.a, eingabe.b);\n",
    "io.Speichern(\"samples/ausgabe.txt\", ausgabe);"
   ]
  },
  {
   "cell_type": "markdown",
   "metadata": {},
   "source": [
    "#### Integration als Verantwortlichkeit\n",
    "\n",
    "Funktional abhängige Funktionen erfüllen nicht das PoMO, d.h. sie entkoppeln nicht sauber, machen also Logik mindestens schwer testbar. Schon das ist ein Grund, auf sie zu verzichten.\n",
    "\n",
    "Ein weiterer Grund besteht jedoch darin, dass funktionale Abhängigkeiten auch einen Widerspruch zum Prinzip *Single Level of Abstraction (SLA)* darstellen. Das wird ebenfalls an diesem Beispiel deutlich:\n",
    "\n",
    "\n",
    "```csharp\n",
    "public void Addieren(string eingabeDateiname, string ausgabeDateiname) {\n",
    "    var eingabe = _io.Laden(eingabeDateiname);   ⬆️ // hohes Abstraktionsniveau\n",
    "    var ausgabe = eingabe.Item1 + eingabe.Item2; ⬇️ // niedriges Abstraktionsniveau\n",
    "    _io.Speichern(ausgabeDateiname, ausgabe);    ⬆️ // hohes Abstraktionsniveau\n",
    "}\n",
    "```\n",
    "\n",
    "Logik und Aufrufe von Logik in anderen Funktionen liegen auf unterschiedlichen Abstraktionsniveaus. Das behindert den Verständnisaufbau für eine Funktion.\n",
    "\n",
    "Im Sinne des *Single Responsibility Principle (SPR)* definiert Flow-Design daher \"die Verdrahtung\" von Funktionen, d.h. ihre Verbindung zu einem nachrichtenverarbeitenden Fluss als eigene formale Verantwortlichkeit *Integration*.\n",
    "\n",
    "Integration ist eine Form von Komposition: Es werden verschiedene Funktionalitäten zu einer neuen, umfassenden zusammengefasst.\n",
    "\n",
    "Integration steht für die Komposition von Aufrufen eigener Funktionen.\n",
    "\n",
    "Dem stellt Flow-Design die formale Verantwortlichkeit *Operation* gegenüber, die als Komposition ausschließlich Logik zusammenfasst. Als Logik werden fremde Funktionen angesehen.\n",
    "\n",
    "Dass beide Kompositionen nicht vermischt werden sollen, drückt das **Integration Operation Segregation Principle (IOSP)** aus:\n",
    "\n",
    "> **Funktionen sollen entweder Operationen sein, d.h. Logik enthalten, oder Integrationen anderer Funktionen, d.h. keine Logik enthalten.**\n",
    "\n",
    "Die vorstehende Funktion `Addieren` folgt offensichtlich nicht dem IOSP: sie enthält Logik und Aufrufe anderer eigener Funktionen. Die nachstehende Funktion hingegen entspricht dem IOSP:"
   ]
  },
  {
   "cell_type": "code",
   "execution_count": 59,
   "metadata": {},
   "outputs": [],
   "source": [
    "void Addieren(string eingabeDateiname, string ausgabeDateiname) {\n",
    "    var io = new IO();\n",
    "    \n",
    "    var eingabe = io.Laden(\"samples/eingabe.txt\");\n",
    "    var ausgabe = Mathematik_statisch.Addieren(eingabe.a, eingabe.b);\n",
    "    io.Speichern(\"samples/ausgabe.txt\", ausgabe);\n",
    "}\n",
    "\n",
    "Addieren(\"samples/eingabe.txt\", \"samples/ausgabe.txt\");"
   ]
  },
  {
   "cell_type": "markdown",
   "metadata": {},
   "source": [
    "Diese Funktion ruft nur andere eigene auf; sie enthält keine Logik. Ob die integrierten Funktionen nur eine Zeile Code enthalten oder viele, ob es statische Methoden sind oder zuerst ein Objekt instanziiert werden muss, ist für das IOSP einerlei. Der Gewinn an Verständlichkeit tritt in jedem Fall ein. Das SLA ist eingehalten, das SRP ist eingehalten - zumindest in formaler Hinsicht, d.h. was die Codestruktur angeht.\n",
    "\n",
    "Für Alan Kay war nicht so wichtig, wer die Verbindung zwischen biologischen Zellen bzw. Objekten herstellt. Seine Analogie konzentriert sich darauf, dass es eine Verbindung in bestimmter Weise gibt. Ihm ging es um *messaging*, d.h. unidirektionalen Nachrichtenfluss. Das spiegelt sich im PoMO.\n",
    "\n",
    "In der Praxis muss die Frage jedoch beantwortet werden: Wer stellt die Verbindung zwischen den Funktionseinheiten wie her? Flow-Design versteht die Funktionseinheiten eines Datenflusses daher integrierend umfangen von einer Funktionseinheit auf höherer Abstraktionsebene.\n",
    "\n",
    "![](images/ro7.png)\n",
    "\n",
    "Deren einzige Aufgabe ist es, die eingebetteten Funktionseinheiten zweckvoll miteinander zu verbinden. Ist das geschehen, unterscheidet sie sich formal nicht von den integrierten Funktionseinheiten. Während bei Alan Kay Objekte als Zellen unmittelbar die Funktionsträger sind, gibt es im Flow-Design eine Unterscheidung. Das, was in einem Nachrichtenfluss verbunden ist, kann selbst Funktionsträger sein, d.h. Logik enthalten, oder \"nur\" integrieren.\n",
    "\n",
    "Ob eine Integration dann Operationen integriert oder auch andere Integrationen, ist ihr nicht anzusehen. Operationen sind im Datenfluss lediglich dadurch gekennzeichnet, dass sie seine Blätter sind. In der Form unterscheiden sich ansonsten Integrationen nicht von Operationen.\n",
    "\n",
    "![](images/ro8.png)\n",
    "\n",
    "Übersetzt in Code bedeutet das: Integrationen wie Operationen werden zu Funktionen. Letztere enthalten nur Logik, erstere keine.\n",
    "\n",
    "Die Vermeidung von funktionalen Abhängigkeiten führt mithin nicht zu einem Verzicht auf Funktionshierarchien. Auch in den Übersetzungen von Flow-Design Modellen sind Funktionshierarchien tief. Allerdings haben die Funktionshierarchien basierend auf PoMO und IOSP eine andere Qualität: sie sind besser verständlich und leichter testbar. In der Praxis zeigt sich, dass insbesondere das IOSP dazu führt, dass Funktionen stets klein bleiben. Funktionen mit 500 oder gar 5.000 Zeilen Logik finden sich nicht in IOSP-Codebasen. Konkreter werden die Vorteile der radikalen Objektorientierung in den Kapiteln zu Entwurf und Codierung spürbar."
   ]
  }
 ],
 "metadata": {
  "kernelspec": {
   "display_name": ".NET (C#)",
   "language": "C#",
   "name": ".net-csharp"
  },
  "language_info": {
   "file_extension": ".cs",
   "mimetype": "text/x-csharp",
   "name": "C#",
   "pygments_lexer": "csharp",
   "version": "8.0"
  }
 },
 "nbformat": 4,
 "nbformat_minor": 4
}
