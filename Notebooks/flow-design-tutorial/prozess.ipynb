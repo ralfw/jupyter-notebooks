{
 "cells": [
  {
   "cell_type": "markdown",
   "metadata": {},
   "source": [
    "# Ein Prozess für langfristig hohe Produktivität in der Softwareentwicklung\n",
    "\n",
    "Funktionale und nicht-funktionale Qualitäten kurzfristig herzustellen, ist Softwareentwickern zumindest anfänglich intuitiv möglich. Irgendwie ist das immer zu schaffen. Ob anschließend der Code jedoch in einem Zustand ist, um auch die nächsten Qualitätsanforderungen umzusetzen... das steht auf einem anderen Blatt. Kurzfristige Lieferung heute, legt kurzfristiger Lieferung morgen schnell Steine in den Weg. Und über kurz oder lang sinkt die Produktivität auf ein frustrierend niedriges Niveau, das immer wieder zu Konflikten und Unzuverlässigkeit und schließlich zu weiterem Sinken der Produktivität führt.\n",
    "\n",
    "Saubere oder nachhaltige Softwareentwicklung zeichnet sich deshalb dadurch aus, dass sie in einem unverbrüchlichen Prozess gegründet ist, der darauf achtet, langfristig hohe Produktivität zu bieten. Kurzfristig mag die Lieferung anfänglich dabei weniger zügig erfolgen, doch langfristig ist ist die Produktivität höher. Zwar lässt sich nichts dagegen tun, dass sie grunsätzlich fällt - doch zumindest fällt sie mit einem auch Nachhaltigkeit bedachten prozess langsamer.\n",
    "\n",
    "![](images/prozess05.png)"
   ]
  },
  {
   "cell_type": "markdown",
   "metadata": {},
   "source": [
    "## Merkmale eines nachhaltigen Prozesses\n",
    "\n",
    "Die Konstante in der Softwareentwicklung ist Unklarheit. Kunden sich sich unklar darüber, was sie wollen. Welche Technologien heute oder in Zukunft besonderns hilfreich sind, um die Anforderungen der Kunden zu erfüllen, ist ebenfalls unklar. Und schließlich ist unklar, wer an der Entwicklung eines Softwareproduktes über seine Lebensdauer hinweg beteiligt sein wird.\n",
    "\n",
    "Aus dieser fundamentalen und allseitigen Unklarheit folgt, dass sich die Softwareentwicklung immer wieder anpassen muss. Code muss um neue Qualitäten erweiter werden (oder schon versprochene endlich bekommen). Code muss auf neue Technologien umgestellt werden, weil alte nicht mehr zeitgemäß sind oder geforderte Qualitäten nicht unterstützen. Teams müssen sich auf neue Technologien, neue Anforderungen, neue Methoden, neue Kollegen einstellen. Alles ist also in steter Veränderung begriffen.\n",
    "\n",
    "Und diese Veränderungen sollen natürlich zügig umgesetzt werden. Bummelei kann sich Softwareentwicklung nicht erlauben. Sie ist ein ökonomisches Unterfangen unter dem Zwang zur ständigen Anpassung. Das erzeugt ungeheuren Druck."
   ]
  },
  {
   "cell_type": "markdown",
   "metadata": {},
   "source": [
    "### Iterative und inkrementelle Produktion\n",
    "\n",
    "Die Agilität hat das schon vor Jahrzehnten erkannt. Sie reagiert mit einem iterativen und inkrementellen Vorgehen insbesondere auf die Unklarheit des Kunden. Wenn der nicht den vollen Umfang seiner Anforderungen kennt (oder auch nur kennen kann), wenn der die ihm scheinbar bekannten Anforderungen nicht klar formulieren kann, dann können Anforderungen nicht nur einmal aufgenommen werden, dann kann nicht dafür einmal eine Lösung geplant werden, und dann kann die Planung nicht einmal umgesetzt werden. Eine Produktion von Software in einem solchen \"Wasserfall\" einmaliger Schritte ist nicht wirtschaftlich möglich. Sie führt entweder in die Paralyse langer Planung oder in die tiefe Unzufriedenheit durch Lieferung von Lückenhaftem.\n",
    "\n",
    "Wo große Unklarheit herrscht, muss vielmehr iteratativ und inkrementell vorgegangen werden. Der Anspruch ist nicht mehr, Anforderungen komplett und detailreich aufzunehmen, sondern anzuerkennen, dass sie lückenhaft und grob sind und nicht anders sein könnnen.\n",
    "\n",
    "* Iteration: Iterativ ist das Vorgehen, weil es durch die nötigen Schritte der Softwareentwicklung mehrfach läuft. Jede Iteration zielt dabei auf die Lieferung von gebrauchsfähigen Qualitäten ab, auch wenn die noch nicht auf letztlich wünschenswertem Niveau sind.\n",
    "* Inkrement: Je Iteration werden eines oder mehrere Inkremente umgesetzt, die jedes für sich wertvolle \"Scheiben\" der bekannten Anforderungen sind. Grobe Anforderungen werden zerschnitten in feine Anforderungen.\n",
    "\n",
    "Inkremente haben Wert, weil sie entweder dem Kunden nach Abschluss der Iteration schon einen Teilnutzen liefern, also gewisse Laufzeitqualitäten bieten, ohne vollständig sein zu müssen. Oder Inkremente haben Wert, weil sie Kunde und/oder Softwareentwicklung Klarheit liefern. Ein umgesetztes Inkrement ist dann nicht unbedingt nutzbar durch den Kunden, aber er kann zumindest Feedback geben, ob sich die Qualität der Software in die richtige Richtung entwickelt hat.\n",
    "\n",
    "Die Qualität der Software wächst mithin schrittweise mit jedem Inkrement in jeder Iteration.\n",
    "\n",
    "![](images/prozess06.png)"
   ]
  },
  {
   "cell_type": "markdown",
   "metadata": {},
   "source": [
    "Zur Illustration eine kleine Beispielanforderung:\n",
    "\n",
    "> Eine Software soll Zahlen zwischen der dezimalen und der römischen Darstellung konvertieren.\n",
    "\n",
    "Diese Anforderungen scheinen klar, sind es aber letztlich nicht. Es fehlt eigentlich Bekanntes (z.B. der Zahlenbereich, in dem die Umwandlung funktionieren soll, die Benutzerschnittstelle), es fehlt vor allem aber Unbekanntes (von dem sich zum aktuellen Zeitpunkt naturgemäß nicht sagen lässt, was es ist).\n",
    "\n",
    "Rein iterative Entwicklung könnte nun so aussehen:\n",
    "\n",
    "1. In der ersten Iteration wird die Benutzerschnittstelle \"vollständig\" produziert.\n",
    "2. In der zweiten Iteration wird \"das Backend\" \"vollständig\" produziert.\n",
    "\n",
    "Analyse und Umsetzung würden zweimal durchlaufen. Allerdings hätte der Kunde nach der ersten Iteration nichte Gebrauchsfähiges in der Hand. Die Benutzerschnittstelle allein würde zwar zeigen, wie die Software zu bedienen ist - doch die Bedienung würde zu keinem Umwandlungsergebnissen führen.\n",
    "\n",
    "Oder die iterative Entwicklung könnte auch noch inkrementell verlaufen:\n",
    "\n",
    "1. In der ersten Iteration wird die Umwandlung für römische Zahlen in Dezimalzahlen inkl. Benutzerschnittstelle und Backend umgesetzt, allerdings ohne die Subtraktionsregel zu berücksichtigen.\n",
    "2. Dann wird die Umwandlung von Dezimalzahlen in römische Zahlen inkl. Benutzerschnittstelle und Backend umgesetzt, allerdings nur für einziffrige römische Zahlen.\n",
    "3. Dann wird die Umwandlung der römischen in dezimale Zahlen um die Berücksichtigung der Subtraktionsregel ergänzt.\n",
    "4. Und zum Abschluss wird die Umwandlung von Dezimalzahlen in römische auch für mehrziffrige römische Zahlen realisiert.\n",
    "\n",
    "Inkremente sind quasi Durchstiche durch eine Software \"durch alle Schichten\"."
   ]
  },
  {
   "cell_type": "markdown",
   "metadata": {},
   "source": [
    "### Geklammerte Produktion\n",
    "\n",
    "Iterativ inkrementelle Softwareentwicklung trägt der Unklarheit des Kunden Rechnung. Inwiefern jedoch spezifizierte (wenn auch letztlich unvollständige) Anforderungen auch umgesetzt werden und ob dabei auch wandlungsfähiger Code entsteht... das steht auf einem anderen Blatt. Grundsätzlich iterativ inkrementelle Entwicklung sorgt nicht automatisch für starke Säulen der Produktivitätsqualität!\n",
    "\n",
    "Für die langfristig hohe Qualität muss vielmehr darauf geachtet werden, dass...\n",
    "\n",
    "* erstens alle Produktionsschritte der Entwicklung mit Input von hoher Qualität versorgt werden und dass\n",
    "* zweitens alle Produktionsschritte Output von hoher Qualität herstellen.\n",
    "\n",
    "Der Produktionsschritt im Kern der Softwareentwicklung ist natürlich die Codierung. In einer idealen (oder trivialen) Welt wäre er der einzige und würde aus glasklaren Anforderungen einfach hochqualitative Software machen. Doch so ist die Welt nicht und deshalb muss die Codierung vorbereitet werden und ihr Ergebnis muss kontrolliert werden.\n",
    "\n",
    "Ganz allgemein sieht das so aus:\n",
    "\n",
    "![](images/prozess07.png)\n",
    "\n",
    "Auch hier wieder grundsätzlich iterative Entwicklung, allerdings keine inkrementelle. Die Iterationen sind auch nicht beabsichtigt, sondern nur manchmal leider notwendig, weil es dem Ergebnis an Qualität fehlt. Sie stehen für unbeabsichtigte und teure Nacharbeit/Korrektur.\n",
    "\n",
    "Aber besser, die schlechte Qualität wird von einer Kontrollinstanz aufgedeckt, als dass sie beim Kunden im Tagesgeschäft zu Irritationen führt."
   ]
  },
  {
   "cell_type": "markdown",
   "metadata": {},
   "source": [
    "#### Die großen Klammern\n",
    "\n",
    "Die Codeproduktion selbst hat einen eigenen klammernden Prozess, [der näher zu betrachten ist](anforderung-logik-lücke.ipynb). Die Versorgung der Codeproduktion mit Anforderungen als Input erfordert um sie herum jedoch weitere Klammern.\n",
    "\n",
    "Wünsche des Kunden dürfen nicht einfach die Codeproduktion treffen; sie sind zu unklar und treten zu erratisch auf. Allemal wenn mehrere Kunden zu befriedigen sind, ist der Codeproduktion auch noch eine Ordnung und Filterung der Wünsche vorzuschalten.\n",
    "\n",
    "Und was die Codeproduktion liefert, darf nicht sofort \"scharfgeschaltet\" werden. Auch bei aller internen Qualitätssicherung ist das Risiko zu groß, dass im Produktiveinsatz unschöne Qualitätsmängel festgestellt würden, die sofort große Kreise ziehen würden.\n",
    "\n",
    "![](images/prozess08.png)"
   ]
  },
  {
   "cell_type": "markdown",
   "metadata": {},
   "source": [
    "Die großen Klammern der Softwareproduktion haben insofern noch gar nicht im Detail mit Software zu tun. Sie sind vielmehr allgemeine qualitätssichernde Schritte in einem grundsätzlich iterativ inkrementellen Prozess.\n",
    "\n",
    "Aber sie sind entscheidende Voraussetzung für den runden Lauf der Produktion in der Mitte. Vorhersagbare und verlässliche Lieferung basieren darauf, dass die Klammerung ernst genommen und \"nach innen\" fortgeführt wird."
   ]
  },
  {
   "cell_type": "markdown",
   "metadata": {},
   "source": [
    "Aber Achtung: Ein solcher iterativ inkrementeller Prozess bedeutet nicht, dass für jeden \"Wunsch\", der vom Kunden in ihn hineinfließt, ein \"Release\" hinten hinausfließt! Vielmehr wird ein Input-Element in *n* Output-Elemente übersetzt. Pro Wunsch ist vielmehr mit einem Strom an Releases zu rechnen.\n",
    "\n",
    "Release Candidates oder Releases werden abgeschöpft, wenn genügend Wert aus den vorhergehenden Schritten herausgeflossen ist.\n",
    "\n",
    "![](images/prozess09.png)"
   ]
  }
 ],
 "metadata": {
  "kernelspec": {
   "display_name": ".NET (C#)",
   "language": "C#",
   "name": ".net-csharp"
  },
  "language_info": {
   "file_extension": ".cs",
   "mimetype": "text/x-csharp",
   "name": "C#",
   "pygments_lexer": "csharp",
   "version": "8.0"
  }
 },
 "nbformat": 4,
 "nbformat_minor": 4
}
