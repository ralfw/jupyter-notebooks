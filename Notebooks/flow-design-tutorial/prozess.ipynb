{
 "cells": [
  {
   "cell_type": "markdown",
   "metadata": {},
   "source": [
    "# Ein Prozess für langfristig hohe Produktivität in der Softwareentwicklung\n",
    "\n",
    "![](images/serenity/serenity3.jpg)\n",
    "\n",
    "Funktionale und nicht-funktionale Qualitäten kurzfristig herzustellen, ist Softwareentwickern zumindest anfänglich intuitiv möglich. Irgendwie ist das immer zu schaffen. Ob anschließend der Code jedoch in einem Zustand ist, um auch die nächsten und die nächsten und die nächsten Qualitätsanforderungen zügig umzusetzen... das steht auf einem anderen Blatt. Kurzfristige Lieferung heute, legt kurzfristiger Lieferung morgen schnell Steine in den Weg. Und über kurz oder lang sinkt die Produktivität auf ein frustrierend niedriges Niveau, das immer wieder zu Konflikten und Unzuverlässigkeit und schließlich zu weiterem Sinken der Produktivität führt.\n",
    "\n",
    "Saubere oder nachhaltige Softwareentwicklung zeichnet sich deshalb dadurch aus, dass sie in einem unverbrüchlichen Prozess gegründet ist, der darauf achtet, langfristig hohe Produktivität zu bieten. Kurzfristig mag die Lieferung anfänglich dabei weniger zügig erfolgen, doch langfristig ist die Produktivität höher. Zwar lässt sich nichts dagegen tun, dass sie grunsätzlich über die Lebensdauer einer Software fällt - doch zumindest fällt sie mit einem auf Nachhaltigkeit bedachten Prozess langsamer.\n",
    "\n",
    "![](images/prozess05.png)"
   ]
  },
  {
   "cell_type": "markdown",
   "metadata": {},
   "source": [
    "## Merkmale eines nachhaltigen Softwareentwicklungsprozesses\n",
    "\n",
    "Die Konstante in der Softwareentwicklung ist Unklarheit. Kunden sind sich unklar darüber, was sie wollen. Welche Technologien heute oder in Zukunft besonderns hilfreich sind, um die Anforderungen der Kunden zu erfüllen, ist ebenfalls unklar. Und schließlich ist unklar, wer an der Entwicklung eines Softwareproduktes über seine Lebensdauer hinweg beteiligt sein wird.\n",
    "\n",
    "Aus dieser fundamentalen und allseitigen Unklarheit folgt, dass sich die Softwareentwicklung immer wieder anpassen muss. Code muss um neue Qualitäten erweitert werden (Feature Development) oder schon versprochene endlich bekommen (Bug Fixing). Code muss auf neue Technologien umgestellt werden, weil alte nicht mehr zeitgemäß sind oder geforderte Qualitäten nicht unterstützen. Teams müssen sich auf neue Technologien, neue Anforderungen, neue Methoden, neue Kollegen einstellen. Alles ist also in steter Veränderung begriffen.\n",
    "\n",
    "Und diese Veränderungen sollen natürlich zügig implementiert werden. Bummelei kann sich Softwareentwicklung nicht erlauben. Sie ist ein ökonomisches Unterfangen *unter dem Zwang zur ständigen Anpassung von Produkt und auch Organisation*. Das erzeugt ungeheuren Druck.\n",
    "\n",
    "Agilität ist der Ausdruck der Erkenntnis, dass Laufzeitanforderungen stets unklar sind und daher nicht geradlinig umgesetzt werden können. Flow-Design (basierend auf Clean Code) ist Ausdruck der Erkenntnis, dass geeignete Strukturen für die Logik zur Erfüllung der Laufzeitanforderungen sich deshalb ebenfalls nicht geradlinig aufbauen lassen und zudem die Veränderbarkeit der Logik unterstützen müssen."
   ]
  },
  {
   "cell_type": "markdown",
   "metadata": {},
   "source": [
    "### Iterative und inkrementelle Produktion\n",
    "\n",
    "Die Agilität reagiert mit einem iterativen und inkrementellen Vorgehen insbesondere auf die Unklarheit des Kunden. Wenn der nicht den vollen Umfang seiner Anforderungen kennt (oder auch nur kennen kann), wenn der die ihm scheinbar bekannten Anforderungen nicht klar formulieren kann, dann können Anforderungen nicht nur einmal aufgenommen werden, dann kann nicht dafür einmal eine Lösung geplant werden, und dann kann die Planung nicht nur einmal umgesetzt werden. Eine Produktion von Software in einem solchen \"Wasserfall\" einmaliger Schritte ist nicht wirtschaftlich möglich. Sie führt entweder in die Paralyse langer Planung oder in die tiefe Unzufriedenheit durch Lieferung von Lückenhaftem.\n",
    "\n",
    "Wo große Unklarheit herrscht, muss vielmehr iterativ und inkrementell vorgegangen werden. Der Anspruch ist nicht mehr, Anforderungen komplett und detailreich aufzunehmen, sondern anzuerkennen, dass sie lückenhaft und grob sind und nicht anders sein könnnen.\n",
    "\n",
    "* Iteration: Iterativ ist das Vorgehen, weil es durch die nötigen Schritte der Softwareentwicklung mehrfach läuft. Jede Iteration zielt dabei auf die Lieferung von gebrauchsfähigen Qualitäten ab, auch wenn die noch nicht auf letztlich wünschenswertem Niveau sind. Über mehrere Iterationen werden alle Qualitäten dem (wandernden) Soll angenähert.\n",
    "* Inkrement: Je Iteration werden eines oder mehrere Inkremente umgesetzt, die jedes für sich wertvolle \"Scheiben\" der bekannten Anforderungen sind. Grobe Anforderungen werden zerschnitten in feine Anforderungen.\n",
    "\n",
    "Inkremente haben Wert, weil sie entweder dem Kunden nach Abschluss der Iteration schon einen Teilnutzen liefern, also gewisse Laufzeitqualitäten bieten, ohne vollständig sein zu müssen.\n",
    "\n",
    "Oder Inkremente haben Wert, weil sie Kunde und/oder Softwareentwicklung Klarheit liefern. Ein umgesetztes Inkrement ist dann noch nicht unbedingt nutzbar durch den Kunden, aber er kann zumindest Feedback geben, ob sich die Qualität der Software in die richtige Richtung entwickelt hat.\n",
    "\n",
    "Die Qualität der Software wächst mithin schrittweise mit jedem Inkrement in jeder Iteration.\n",
    "\n",
    "![](images/prozess06.png)"
   ]
  },
  {
   "cell_type": "markdown",
   "metadata": {},
   "source": [
    "Zur Illustration eine kleine Beispielanforderung:\n",
    "\n",
    "> Eine Software soll Zahlen zwischen der dezimalen und der römischen Darstellung konvertieren.\n",
    "\n",
    "Diese Anforderungen scheinen klar, sind es aber letztlich nicht. Es fehlt eigentlich Bekanntes (z.B. der Zahlenbereich, in dem die Umwandlung funktionieren soll, die Benutzerschnittstelle), es fehlt vor allem aber Unbekanntes (von dem sich zum aktuellen Zeitpunkt naturgemäß nicht sagen lässt, was es ist).\n",
    "\n",
    "Rein iterative Entwicklung könnte nun so aussehen:\n",
    "\n",
    "1. In der ersten Iteration wird die Benutzerschnittstelle geklärt und \"vollständig\" produziert.\n",
    "2. In der zweiten Iteration wird \"das Backend\" zur Umwandlung von römischen in dezimale und von dezimalen in römische Zahlen \"vollständig\" produziert.\n",
    "\n",
    "Analyse und Umsetzung würden zweimal durchlaufen. Allerdings hätte der Kunde nach der ersten Iteration nichts Gebrauchsfähiges in der Hand. Die Benutzerschnittstelle allein würde zwar zeigen, wie die Software zu bedienen ist - doch die Bedienung würde zu keinen Umwandlungsergebnissen führen.\n",
    "\n",
    "Anders wäre das, wenn die iterative Entwicklung auch noch inkrementell verliefe, z.B.\n",
    "\n",
    "1. In der ersten Iteration wird die Umwandlung für römische Zahlen in Dezimalzahlen inkl. Benutzerschnittstelle und \"Backend\" umgesetzt, allerdings ohne die Subtraktionsregel zu berücksichtigen, z.B. VI->6, ~IV->4~.\n",
    "2. Dann wird die Umwandlung von Dezimalzahlen in römische Zahlen inkl. Benutzerschnittstelle und Backend umgesetzt, allerdings nur für einziffrige römische Zahlen, z.B. 5->V, 10->X, ~6->VI~.\n",
    "3. Dann wird die Umwandlung der römischen in dezimale Zahlen um die Berücksichtigung der Subtraktionsregel ergänzt, z.B. IV->4.\n",
    "4. Und zum Abschluss wird die Umwandlung von Dezimalzahlen in römische auch für mehrziffrige römische Zahlen realisiert, z.B. 6->VI.\n",
    "\n",
    "Inkremente sind quasi Durchstiche durch eine Software \"durch alle Schichten\"."
   ]
  },
  {
   "cell_type": "markdown",
   "metadata": {},
   "source": [
    "### Geklammerte Produktion\n",
    "\n",
    "Iterativ inkrementelle Softwareentwicklung trägt der Unklarheit des Kunden Rechnung. Inwiefern jedoch spezifizierte (wenn auch letztlich unvollständige) Anforderungen umgesetzt werden und ob dabei wandlungsfähiger Code entsteht... das steht auf einem anderen Blatt. Grundsätzlich iterativ inkrementelle Entwicklung sorgt nicht automatisch für starke Säulen der Produktivitätsqualität!\n",
    "\n",
    "Für die langfristig hohe Produktivität muss vielmehr darauf geachtet werden, dass...\n",
    "\n",
    "* erstens alle Produktionsschritte der Entwicklung mit Input von hoher Qualität versorgt werden und dass\n",
    "* zweitens alle Produktionsschritte Output von hoher Qualität herstellen.\n",
    "\n",
    "Langfristig hohe Produktivität erfordert ein allseitiges Qualitätsbewusstsein!\n",
    "\n",
    "Der Produktionsschritt im Kern der Softwareentwicklung ist natürlich die Codierung. In einer idealen (oder trivialen) Welt wäre er der einzige und würde aus glasklaren Anforderungen einfach hochqualitative Software machen. Doch so ist die Welt nicht und deshalb muss die Codierung vorbereitet werden und ihr Ergebnis muss kontrolliert werden.\n",
    "\n",
    "Ganz allgemein sieht ein qualitätsorientierter Prozess deshalb so aus:\n",
    "\n",
    "![](images/prozess07.png)\n",
    "\n",
    "Der eigentliche Schritt im Bild ist \"tun\". Wenn es weitere Schritte drumherum gibt, dann sind die dem Willen geschuldet, unbeabsichtigte Iterationen für Nacharbeiten und Korrekturen zu vermeiden.\n",
    "\n",
    "Guter Input erhöht die Wahrscheinlichkeit für guten Output. Guter Input ist eine Sache guter Vorbereitung; das ist die öffnende Klammer der Produktion.\n",
    "\n",
    "Und Kontrolle des Output erhöht die Wahrscheinlichkeit, dass keine widererwarten schlechte Qualität trotz guten Inputs zu nachgelagerten Schritten oder gar zum Kunden durchschlüpft. Besser, evtl. schlechte Qualität wird von einer Kontrollinstanz aufgedeckt, als dass sie beim Kunden im Tagesgeschäft zu Irritationen führt. Das ist die schließende Klammer der Produktion.\n",
    "\n",
    "Iterativ-inkrementelle und geklammerte Produktion sind orthogonal. Eine \"geklammerte\" Produktion für sich genommen hat nichts mit gewollten Iterationen zu tun. Wenn dennoch von einem downstream Schritt zurückgegangen wird zu einem upstream Schritt, dann ist das unabsichtlich. Der Grund dafür ist eine mangelnde Output-Qualität, die downstream erst festgestellt wird."
   ]
  },
  {
   "cell_type": "markdown",
   "metadata": {},
   "source": [
    "#### Die äußeren Klammern der Softwareentwicklung\n",
    "\n",
    "Die Codeproduktion selbst hat einen eigenen klammernden Prozess, [der näher zu betrachten ist](anforderung-logik-lücke.ipynb). Der ist mit hoher Input-Qualität zu versehen. Für die Aufbereitung der Anforderungen sind deshalb öffnende Klammern nötig.\n",
    "\n",
    "Wünsche des Kunden dürfen nicht einfach die Codeproduktion treffen; sie sind zu unklar und treten zu erratisch auf. Allemal wenn mehrere Kunden zu befriedigen sind, ist der Codeproduktion auch noch eine Ordnung und Filterung der Wünsche vorzuschalten.\n",
    "\n",
    "Und andererseits darf das, was die Codeproduktion liefert, nicht sofort \"scharfgeschaltet\" werden. Auch bei aller internen Qualitätssicherung ist das Risiko zu groß, dass im Produktiveinsatz unschöne Qualitätsmängel festgestellt werden, die sofort große Kreise ziehen würden. Der Codeproduktion müssen also schließende Klammern nachgeschaltet werden, in denen geprüft wird, ob das, was an hoher Anforderungsqualität geliefert wurde, auch tatsächlich umgesetzt wurde.\n",
    "\n",
    "![](images/prozess08.png)"
   ]
  },
  {
   "cell_type": "markdown",
   "metadata": {},
   "source": [
    "Die großen Klammern der Softwareproduktion haben insofern noch gar nicht im Detail mit Software zu tun. Sie sind vielmehr allgemeine qualitätssichernde Schritte in einem grundsätzlich iterativ inkrementellen Prozess.\n",
    "\n",
    "* Zunächst werden unscharfe Kundenwünsche konkretisiert. Was \"zwischen Tür und Angel\" vom Kunden geäußert wurde, wird formalisiert (z.B. Use Cases) und ihm gespiegelt. Teil der Konkretisierung ist auch eine Triage und grundsätzliche Einordnung im Spektrum von essenziell bis nice-to-have.\n",
    "* Genügend wichtige bzw. dringende Anforderungen werden anschließend in grobe Inkremente zerlegt (z.B. User Stories) und priorisiert. Es entsteht ein Plan für die Produktion.\n",
    "* Abnahme und Beta-Test überprüfen schließlich, ob planmäßig produziert wurde und das Produktionsergebnis tatsächlich den erwarteten Nutzen in der Praxis entfalten.\n",
    "\n",
    "Gerade die öffnenden Klammern sie sind entscheidende Voraussetzung für den runden Lauf der Produktion in der Mitte.\n",
    "\n",
    "Vorhersagbare und verlässliche Lieferung basieren darauf, dass die Klammerung ernst genommen und \"nach innen\" fortgeführt wird. Die darauf folgenden schließenden Klammern prüfen, ob die eröffneten Erwartungen tatsächlich erfüllt wurden. Sollte das nicht der Fall sein, kann sofort eine Nachbesserung eingeleitet werden.\n",
    "\n",
    "Interativ-inkrementelle Entwicklung erwartet Nachbesserungen, klammernde Produktion stellt sicher, dass deren Notwendigkeit frühestmöglich festgestellt wird. Flow-Design formalisiert diese grundsätzliche Erkenntnis der Agilität und trägt sie weiter in die Codeproduktion. *High quality rulez!*"
   ]
  },
  {
   "cell_type": "markdown",
   "metadata": {},
   "source": [
    "### Entkoppelte Zyklen\n",
    "\n",
    "Aber Achtung: Ein iterativ inkrementeller Prozess bedeutet nicht, dass für jeden \"Wunsch\", der vom Kunden in ihn hineinfließt, ein \"Release\" hinten hinausfließt! Vielmehr wird ein Input-Element in *n* Output-Elemente übersetzt. Pro Wunsch ist mit einem Strom von implementierten Inkrementen zu rechnen, die von einem Strom an Releases aggregiert werden.\n",
    "\n",
    "[Release Candidates oder Releases werden abgeschöpft](https://ralfw.de/2015/12/ladle-from-the-feature-stream/), wenn genügend Wert aus den vorhergehenden Schritten herausgeflossen ist.\n",
    "\n",
    "![](images/prozess09.png)\n",
    "\n",
    "Ein äußerer Zyklus, in dem Wünsche umgesetzt werden, hat daher eine andere Frequenz als ein innerer Zyklus z.B. für die Produktion einer User Story. Flow-Design favorisiert eine Zykluszeit von max. 16 Stunden (d.h. \"von heute 9:00 Uhr bis morgen 17:00 Uhr\") für die Umsetzung eines Issue, d.h. eine von der Programmierung akzeptiertem Inkrement. Siehe dazu auch [Spinning und das Elastic Manifesto](https://www.notion.so/spatzlnest/Spinning-and-the-Elastic-Manifesto-9cbb0bfc293a41df89baf9a26bab2b42)."
   ]
  }
 ],
 "metadata": {
  "kernelspec": {
   "display_name": ".NET (C#)",
   "language": "C#",
   "name": ".net-csharp"
  },
  "language_info": {
   "file_extension": ".cs",
   "mimetype": "text/x-csharp",
   "name": "C#",
   "pygments_lexer": "csharp",
   "version": "8.0"
  }
 },
 "nbformat": 4,
 "nbformat_minor": 4
}
