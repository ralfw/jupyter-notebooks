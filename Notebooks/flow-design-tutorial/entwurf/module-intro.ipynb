{
 "cells": [
  {
   "cell_type": "markdown",
   "metadata": {},
   "source": [
    "## Mit Modulen Zwecke modellieren\n",
    "\n"
   ]
  },
  {
   "cell_type": "markdown",
   "metadata": {},
   "source": [
    "* Was ist ein Modul?\n",
    "* Klassen\n",
    "* Bibliotheken\n",
    "* Pakete\n",
    "* Komponenten\n",
    "* Services\n",
    "* Module in der Softwarezelle\n",
    "* Module im Softwareuniversum"
   ]
  }
 ],
 "metadata": {
  "kernelspec": {
   "display_name": ".NET (C#)",
   "language": "C#",
   "name": ".net-csharp"
  },
  "language_info": {
   "name": ""
  }
 },
 "nbformat": 4,
 "nbformat_minor": 4
}
