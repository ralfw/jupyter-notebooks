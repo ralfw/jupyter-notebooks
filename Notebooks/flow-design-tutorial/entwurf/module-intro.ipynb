{
 "cells": [
  {
   "cell_type": "markdown",
   "metadata": {},
   "source": [
    "## Mit Modulen Zwecke modellieren\n",
    "\n",
    "Software leistet für den Anwender vor allem mittels Logik. Wächst Logik über wenige Zeilen hinaus, sinkt ihre Verständlichkeit und Testbarkeit rapide. Darüber hinaus leistet \"Logik auf einem Haufen\" Wiederholungen Vorschub, die zu doppelter Arbeit und Inkonsistenzen führen.\n",
    "\n",
    "Diesen negativen Effekten wirkt die Gruppierung von Logik in Funktionen entgegen. Funktionen fassen Logik zu verhaltenserzeugenden Einheiten auf höheren Abstraktionsniveau zusammen. Operationen tun das in direkt und in reiner Form: sie enthalten ausschließlich Logik. Integrationen hingegen tun das indirekt durch die Zusammenfassung von Operationen oder anderen Integrationen.\n",
    "\n",
    "Die direkte oder indirekte Gruppierung von Logik nennt Flow-Design Komposition. In einer Komposition wird bewusst Verschiedenartiges zusammengestellt zu etwas Neuartigem.\n",
    "\n",
    "/// komposition: komplementäre puzzleteile zu einer neuen figur zusammensetzen (tangram) (mod1)\n",
    "\n",
    "Wenn es nur Addition, Vergleich und eine Schleife gibt, dann kann aus diesen Logik-Bausteinen der \"neue\" (vereinfachte) mathematische Operator Multiplikation komponiert werden:"
   ]
  },
  {
   "cell_type": "code",
   "execution_count": 3,
   "metadata": {},
   "outputs": [
    {
     "data": {
      "text/html": [
       "6"
      ]
     },
     "metadata": {},
     "output_type": "display_data"
    },
    {
     "data": {
      "text/html": [
       "0"
      ]
     },
     "metadata": {},
     "output_type": "display_data"
    }
   ],
   "source": [
    "int Multiply(int a, int b) {\n",
    "    if (a == 0) return 0;\n",
    "    \n",
    "    var result = 0;\n",
    "    while(a > 0) {\n",
    "        result += b;\n",
    "        a += -1;\n",
    "    }\n",
    "    return result;\n",
    "}\n",
    "\n",
    "display(Multiply(2,3));\n",
    "display(Multiply(0,3));"
   ]
  },
  {
   "cell_type": "markdown",
   "metadata": {},
   "source": [
    "Einfache Kompositionen lassen sich zu komplizierteren zusammensetzen, aus denen wiederum kompliziertere komponiert werden können usw. usf. So kann das Verhalten von Software Ebene für Ebene einfacher und einfacher zugänglich gemacht werden.\n",
    "\n",
    "Komposition ist die Abstraktion, mit der Logik verwendbar, gar wiederverwendbar, und testbar und einmalig gemacht wird.\n",
    "\n",
    "Viele kleine Komposite (Funktionen) sind eine gute Sache als feines Granulat für den Bau von Verhalten. Allerdings werfen sie am Ende auch ein Problem durch wachsende Masse auf: man verliert alsbald die Übersicht.\n",
    "\n",
    "Wachsende Logik \"auf einem Haufen\" hat bei allen Nachteilen zumindest noch für sich, dass man sie von oben nach unten lesend deuten kann. Die \"Geschichte\", wie sie Verhalten herstellt, wird linear erzählt. Insofern ist Logik sogar weniger \"Haufen\" als \"Liste\".\n",
    "\n",
    "Funktionen \"auf einem Haufen\" stehen hingegen in keinem solch simplen Zusammenhang. Von außen betrachtet sind sie ohne Ordnung. In der einen oder anderen Programmiersprache mag zwar eine gewisse Reihenfolge erzwungen werden, als dass eine Definition der Nutzung vorhergehen muss. Doch auch das macht am Ende keinen großen Unterschied.\n",
    "\n",
    "Ohne weitere Maßnahmen bilden Funktionen \"einen Haufen\", in dem alle Elemente mit allen verbunden sein könn(t)en. Und das ist ein Rezept für Chaos. Ordnung sieht anders aus. Ordnung braucht Unterscheidung, sie braucht Grenzen.\n",
    "\n",
    "Funktionen ziehen auch Grenzen in die Logik ein. Die dienen primär der Herstellung von Verhaltenseinheiten im Sinne von Schritten in einem Produktionsprozess.\n",
    "\n",
    "Was es nun aber braucht, um eine wachsende Zahl von Funktionen im Griff zu behalten, das sind Grenzen der Verständlichkeit. Es braucht Geltungsbereiche (scope), damit nicht alles überall gleich relevant erscheint.\n",
    "\n",
    "### Geltungsbereiche abgrenzen mit Modulen\n",
    "\n",
    "Module sind das Mittel in Programmiersprachen, um Geltungsbereiche abzugrenzen. Es sind Container zur Sammlung von Funktionen. Das Kriterium für die Gruppierung ist dabei jedoch nicht Verschiedenheit, sondern Ähnlichkeit. Die Komposition lebt davon, dass Verschiedenes zu etwas Neuem zusammengefasst wird. Module hingegen stehen für Aggregation und die lebt davon, dass Ähnliches unter einem gemeinsamem Zweck zusammengefasst wird.\n",
    "\n",
    "/// aggregation: verschiedene komplementäre formen nach farbe od einem anderen kriterium gruppieren (2)\n",
    "\n",
    "Zunächst sind da nur Funktionen als Kompositionen:"
   ]
  },
  {
   "cell_type": "code",
   "execution_count": 23,
   "metadata": {},
   "outputs": [
    {
     "data": {
      "text/html": [
       "<table><thead><tr><th><i>index</i></th><th>value</th></tr></thead><tbody><tr><td>0</td><td>the</td></tr><tr><td>1</td><td>quick</td></tr><tr><td>2</td><td>brown</td></tr><tr><td>3</td><td>fox</td></tr></tbody></table>"
      ]
     },
     "metadata": {},
     "output_type": "display_data"
    },
    {
     "data": {
      "text/html": [
       "<table><thead><tr><th><i>index</i></th><th>Item1</th><th>Item2</th></tr></thead><tbody><tr><td>0</td><td>samples/poem.txt</td><td>Humpty Dumpty sat on the wall\n",
       "Humpty Dumpty had a great fall\n",
       "All the king’s horses and all the king’s men\n",
       "Couldn’t put Humpty together again\n",
       "\n",
       "Humpty Dumpty sat on the wall\n",
       "Humpty Dumpty had a great fall\n",
       "All the king’s horses and all the king’s men\n",
       "Couldn’t put Humpty together again\n",
       "\n",
       "Humpty Dumpty sat on the wall\n",
       "Humpty Dumpty had a great fall\n",
       "All the king’s horses and all the king’s men\n",
       "Couldn’t put Humpty together again\n",
       "1870</td></tr><tr><td>1</td><td>samples/shakespeare.txt</td><td>She should have died hereafter;\n",
       "There would have been a time for such a word.\n",
       "To-morrow, and to-morrow, and to-morrow,\n",
       "Creeps in this petty pace from day to day\n",
       "To the last syllable of recorded time,\n",
       "And all our yesterdays have lighted fools\n",
       "The way to dusty death. Out, out, brief candle!\n",
       "Life&#39;s but a walking shadow, a poor player\n",
       "That struts and frets his hour upon the stage\n",
       "And then is heard no more: it is a tale\n",
       "Told by an idiot, full of sound and fury,\n",
       "Signifying nothing.</td></tr></tbody></table>"
      ]
     },
     "metadata": {},
     "output_type": "display_data"
    },
    {
     "data": {
      "text/html": [
       "2"
      ]
     },
     "metadata": {},
     "output_type": "display_data"
    },
    {
     "data": {
      "text/plain": [
       "foo.txt,1\n",
       "bar.txt,41\n"
      ]
     },
     "metadata": {},
     "output_type": "display_data"
    }
   ],
   "source": [
    "string[] SplitIntoWords(string text) => text.Split(new[]{' ', '\\t', '\\n', '\\r'}, StringSplitOptions.RemoveEmptyEntries);\n",
    "\n",
    "IEnumerable<(string filename, string text)> LoadTexts(string path)\n",
    "    => System.IO.Directory.GetFiles(path, \"*.txt\").Select(x => (x, System.IO.File.ReadAllText(x)));\n",
    "\n",
    "int CountWords(IEnumerable<string> words) => words.Count(x => x.Length > 3);\n",
    "\n",
    "void SaveAnalysis(string filename, IEnumerable<(string filename, int numberOfWords)> analysis) {\n",
    "    using(var sw = new System.IO.StreamWriter(filename, false)) {\n",
    "        foreach(var a in analysis)\n",
    "            sw.WriteLine($\"{a.filename},{a.numberOfWords}\");\n",
    "    }\n",
    "}\n",
    "\n",
    "\n",
    "display(SplitIntoWords(\"the quick brown fox\"));\n",
    "\n",
    "display(LoadTexts(\"samples\"));\n",
    "\n",
    "display(CountWords(new[]{\"the\", \"quick\", \"brown\", \"fox\"}));\n",
    "\n",
    "SaveAnalysis(\"samples/analysis.csv\", new[]{(\"foo.txt\", 1), (\"bar.txt\", 41)});\n",
    "display(System.IO.File.ReadAllText(\"samples/analysis.csv\"));"
   ]
  },
  {
   "cell_type": "markdown",
   "metadata": {},
   "source": [
    "Mit diesen Funktionen kann eine umfassendere komponiert werden, in der sie zu einem Prozess zusammengefügt sind, der ein gewünschtes Gesamtverhalten herstellt. (Dass dabei noch ein wenig _glue logic_ hinzukommt, sei an dieser Stelle vernachlässigt; die folgende Integration ist also nicht 100% sauber.) "
   ]
  },
  {
   "cell_type": "code",
   "execution_count": 28,
   "metadata": {},
   "outputs": [
    {
     "data": {
      "text/html": [
       "2"
      ]
     },
     "metadata": {},
     "output_type": "display_data"
    }
   ],
   "source": [
    "int AnalyzeFiles(string path) {\n",
    "    var content = LoadTexts(path);\n",
    "    var parsed = content.Select(x => (x.filename, words:SplitIntoWords(x.text)));\n",
    "    var analyzed = parsed.Select(x => (x.filename, numberOfWords:CountWords(x.words)));\n",
    "    SaveAnalysis(System.IO.Path.Combine(path, \"analysis.csv\"), analyzed);\n",
    "    return content.Count();\n",
    "}\n",
    "\n",
    "\n",
    "display(AnalyzeFiles(\"samples\"));"
   ]
  },
  {
   "cell_type": "markdown",
   "metadata": {},
   "source": [
    "Überblick über die Funktionen entsteht durch die Komposition jedoch nicht. Wären es mehr als die vier, müsste einiger Aufwand getrieben werden, um die \"Bausteinvorrat\" erstmal zu sichten.\n",
    "\n",
    "Dem kann mit Modulen abgeholfen werden. Mehr Übersichtlichkeit entsteht, wenn Funktionen \"thematisch\" gruppiert vorliegen. Eine solche Gruppierung könnte z.B. so aussehen:"
   ]
  },
  {
   "cell_type": "code",
   "execution_count": 34,
   "metadata": {},
   "outputs": [
    {
     "data": {
      "text/html": [
       "2"
      ]
     },
     "metadata": {},
     "output_type": "display_data"
    }
   ],
   "source": [
    "class FileAccess {\n",
    "    public static IEnumerable<(string filename, string text)> LoadTexts(string path)\n",
    "        => System.IO.Directory.GetFiles(path, \"*.txt\").Select(x => (x, System.IO.File.ReadAllText(x)));\n",
    "    \n",
    "    public static void SaveAnalysis(string filename, IEnumerable<(string filename, int numberOfWords)> analysis) {\n",
    "        using(var sw = new System.IO.StreamWriter(filename, false)) {\n",
    "            foreach(var a in analysis)\n",
    "                sw.WriteLine($\"{a.filename},{a.numberOfWords}\");\n",
    "        }\n",
    "    }\n",
    "}\n",
    "\n",
    "    \n",
    "class Domain {\n",
    "    public static IEnumerable<(string filename, int numberOfWords)> Analyze(IEnumerable<(string filename, string text)> files) {\n",
    "            var parsed = files.Select(x => (x.filename, words:SplitIntoWords(x.text)));\n",
    "            return parsed.Select(x => (x.filename, numberOfWords:CountWords(x.words)));\n",
    "    }\n",
    "\n",
    "    private static string[] SplitIntoWords(string text) => text.Split(new[]{' ', '\\t', '\\n', '\\r'}, StringSplitOptions.RemoveEmptyEntries);\n",
    "\n",
    "    private static int CountWords(IEnumerable<string> words) => words.Count(x => x.Length > 3);\n",
    "}\n",
    "\n",
    "\n",
    "class FileAnalysis {\n",
    "    public static int Analyze(string path) {\n",
    "        var content = FileAccess.LoadTexts(path);\n",
    "        var result = Domain.Analyze(content);\n",
    "        FileAccess.SaveAnalysis(System.IO.Path.Combine(path, \"analysis.csv\"), result);\n",
    "        return content.Count();\n",
    "    }\n",
    "}\n",
    "\n",
    "\n",
    "display(FileAnalysis.Analyze(\"samples\"));"
   ]
  },
  {
   "cell_type": "markdown",
   "metadata": {},
   "source": [
    "Aus 5 Funktionen sind 3 Module geworden. Auch wenn diese Reduktion der Strukturelemente noch nicht aufsehenerregend ist, zeigt sie in die richtige Richtung. 40% weniger Teile machen die Lösung übersichtlicher.\n",
    "\n",
    "/// zuerst 4+1 funktionen, dann 3 module mit (4+1)+1 funktionen; sichtbarkeit andeuten durch positionierung auf dem rand des moduls (3)\n",
    "\n",
    "Die erste Leistung der Module besteht in der _physischen Klammerung_. Die geschieht hier mit programmiersprachlichen Mitteln, also syntaktisch. Das ist in Sprachen wie Java oder C# nötig, in denen es keine \"freien\" Funktionen gibt. In anderen Sprachen, z.B. Phython oder Kotlin, kann jedoch auch durch schiere Zusammenfassung von Funktionen in derselben Datei geklammert werden.\n",
    "\n",
    "Die zweite Leistung der Module besteht in der _Beschränkung des Geltungsbereiches_. Öffentliche (public) Funktionen der Module sind global gültig, private Funktionen hingegen nur innerhalb ihres Moduls. Davon macht `Domain` Gebrauch, um zwei Funktionen \"zu verstecken\". Stattdessen veröffentlicht das Modul eine Komposition beider, um es ihren Nutzern einfacher zu machen, eine Analyse durchzuführen.\n",
    "\n",
    "Module sind also nicht nur passive Sammelkörbe, sondern steuern den Detailreichtum der Funktionslandschaft aktiv über Sichtbarkeitsattribute. So definieren sie eine _Schnittstelle_ für den Zweck, den sie repräsentieren."
   ]
  },
  {
   "cell_type": "markdown",
   "metadata": {},
   "source": [
    "#### Zweckmäßige Zusammenfassungen\n",
    "\n",
    "Worin die Gemeinsamkeit von Funktionen besteht, die in einem Modul aggregiert werden, das liegt letztlich im Auge des Entwicklers. Eine Zusammenfassung in einem Modul ist für ihn Ausdruck eines gewissen Zwecks, den sie gemeinsam verfolgen.\n",
    "\n",
    "Auch wenn die Bestimmung eines solchen Zwecks recht subjektiv sein und zu Diskussionen führen kann, kennt Flow-Design einige \"harte\" Kriterien, die als Ausgangspunkt herangezogen werden können:\n",
    "\n",
    "* Funktionen nutzen denselben API, d.h. sie greifen auf dieselbe (Art von) Ressource zu.\n",
    "* Funktionen haben gemeinsamen in-memory Zustand.\n",
    "* Funktionen arbeiten auf denselben Input-Daten.\n",
    "* Funktionen sind relevant für denselben Stakeholder.\n",
    "\n",
    "Ein Beispiel für das erste Kriterium sind die Funktionen, die in `FileAccess` zusammengefasst wurden. Beide greifen auf das Dateisystem zu. Die eine lesend, die andere schreibend, aber sie benutzen denselben API (repräsentiert durch den .NET CLR Namespace `System.IO`).\n",
    "\n",
    "Ein Beispiel für das dritte Kriterium sind die Funktionen in `Domain`. Beide arbeiten auf Input, der Dateiinhalte repräsentiert, die zu transformieren sind. Zuerst mit einem map-, dann mit einem reduce-Schritt.\n",
    "\n",
    "Funktionen sind Antworten auf eine Wie-Frage: Wie wird ein Verhalten hergestellt?\n",
    "\n",
    "Module sind Antworten auf die Was-Frage: Was für grundsätzliche \"Verhaltensbereiche\", d.h. Zwecke gibt es überhaupt?\n",
    "\n",
    "Selbstverständlich profitieren auch Module bei der Beantwortung dieser Frage von Fokus. Je fokussierter, je klarer Umrissen der Zweck, zu dem Funktionen in ihnen zusammenkommen, desto leichter ist zu verstehen, was ein Modul bietet.\n",
    "\n",
    "Während Funktionen für Entscheidungen zur Laufzeit stehen, die das Verhalten beeinflussen, stehen Module für Entscheidungen zur Entwicklungszeit; Entscheidungen des Kunden, d.h. Festlegungen zu Aspekten der Anforderungen, und Entwurfsentscheidungen der Entwickler können mit Modulen besonders ausdruckskräftig repräsentiert werden. Das Modul `FileAccess` steht z.B. für die grundlegende Entscheidung, dass die Analyse auf dem Dateisystem abläuft und nicht mit Texten arbeitet, die der Benutzer eingibt."
   ]
  },
  {
   "cell_type": "markdown",
   "metadata": {},
   "source": [
    "#### Abhängigkeiten zwischen Modulen\n",
    "\n",
    "Funktionen sind von einander abhängig, wenn die eine die andere benutzt. Das ist unumgänglich, sollte allerdings aus Sicht von Flow-Design durch Einhaltung des IOSP unter Kontrolle gehalten werden.\n",
    "\n",
    "/// abhängigkeit der funktionen aus dem obigen beispiel (4)\n",
    "\n",
    "Da Module Funktionen aggregieren, stehen Module indirekt auch in Abhängigkeitsverhältnissen. Auch das ist unumgänglich.\n",
    "\n",
    "/// abhängigkeit der module aus dem beispiel (5)\n",
    "\n",
    "IOSP für module\n",
    "\n",
    "#### Datenstrukturen\n",
    "\n",
    "sind keine module"
   ]
  },
  {
   "cell_type": "markdown",
   "metadata": {},
   "source": [
    "* Namensraum\n",
    "  keine instanziierung\n",
    "  nicht in allen sprachen\n",
    "* Klassen\n",
    "* Bibliotheken\n",
    "* Pakete\n",
    "* Komponenten\n",
    "* Services\n",
    "* Module in der Softwarezelle\n",
    "* Module im Softwareuniversum"
   ]
  },
  {
   "cell_type": "code",
   "execution_count": null,
   "metadata": {},
   "outputs": [],
   "source": []
  }
 ],
 "metadata": {
  "kernelspec": {
   "display_name": ".NET (C#)",
   "language": "C#",
   "name": ".net-csharp"
  },
  "language_info": {
   "file_extension": ".cs",
   "mimetype": "text/x-csharp",
   "name": "C#",
   "pygments_lexer": "csharp",
   "version": "8.0"
  }
 },
 "nbformat": 4,
 "nbformat_minor": 4
}
