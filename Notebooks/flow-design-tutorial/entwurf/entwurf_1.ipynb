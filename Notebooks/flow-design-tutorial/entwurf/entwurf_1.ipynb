{
 "cells": [
  {
   "cell_type": "markdown",
   "metadata": {},
   "source": [
    "# Lösungsmodelle entwerfen\n",
    "\n",
    "![](../images/serenity/serenity8.jpg)\n",
    "\n",
    "Flow-Design verfolgt einen verhaltensorientierten Ansatz. Lösungen werden von der SOLL-Funktionalität her angegangen. Für Flow-Design lautet die Frage zuerst: Was soll Software tun?\n",
    "\n",
    "Nicht Datenstrukturen stehen also im Vordergrund, sondern Verhaltensstrukturen. Verhalten konsumiert und produziert Daten. Um zu wissen, wie Daten strukturiert sein sollen, ist also zuerst die Verhaltensproduktion zu klären.\n",
    "\n",
    "Was wie womit getan werden soll, entsteht dabei zunächst in den Köpfen der Entwickler und auf Papier. Die Codierung ist zurückgestellt, bis für ein klar umrissenes Problem die Lösung als Modell vorliegt.\n",
    "\n",
    "Ein Modell versteht Flow-Design dabei ganz allgemein so:\n",
    "\n",
    "> Modell = (Funktion, Beziehung, Funktion)\\*\n",
    "\n",
    "Ein Modell ist eine Menge von Tupeln, in denen je zwei Funktion in Beziehung zueinander gesetzt werden.\n",
    "\n",
    "Wie auch immer Modelle dargestellt werden, aus ihnen müssen programmiersprachliche Funktionen abgeleitet werden können. In Modellen findet sich keine Logik; sie sind deklarativ. Aber ihre Bausteine stehen für Funktionen, die später in der Codierung mit Logik gefüllt werden.\n",
    "\n",
    "Beziehungen zwischen Funktionen können unter anderem sein:\n",
    "\n",
    "* Abhängigkeit: Eine Funktion ruft eine andere auf.\n",
    "* Sequenz: Eine Funktion steht in einem Fluss vor oder nach einer anderen.\n",
    "* Parallelität: Eine Funktion kann/muss parallel zu einer anderen ausgeführt werden.\n",
    "* Aggregation: Zwei Funktionen sind in einem Modul zusammengefasst.\n",
    "* Gemeinsame Daten: Zwei Funktionen nutzen dieselben Daten.\n",
    "* Konkretisierung: Zwei Funktionen stehen in einer Vererbungsbeziehung.\n",
    "\n",
    "Die Deklarativität von Modellen im Flow-Design macht aus, dass ihre Bausteine für angenommene Problemlösungen stehen. Entweder wird dann das Problem an anderer Stelle im Modell durch eine Verfeinerung gelöst. Oder eine offen gebliebene Annahme wird spätestens in der Codierung mittels Logik erfüllt.\n",
    "\n",
    "/// modellbaum: große probleme werden in kleinere zerlegt und die wieder in kleinere. kleinere lösen größere probleme im modell. aber die blätter müssen im code gelöst werden. (1)\n",
    "\n",
    "Bei all dieser Allgemeinheit in der Definition von Modellen hat Flow-Design allerdings einen klaren Favoriten als Modellierungsansatz. Flow-Design steht für die Überzeugung, dass Softwarelösungen zunächst und ganz fundamental Produktionsprozesse sind, die auf Daten arbeiten und also als Datenflüsse modelliert werden können. Der Entwurf im Flow-Design beginnt daher gemeinhin mit einer Datenflussmodellierung."
   ]
  },
  {
   "cell_type": "markdown",
   "metadata": {},
   "source": [
    "## Mit Datenflüssen modellieren\n",
    "\n",
    "Die Datenflussmodellierung beginnt gewöhnlich mit einer in der Analyse ermittelten Interaktion repräsentiert durch ein Nachrichtenpaar und ggf. Seiteneffekte. Ausgangspunkt ist eine Funktionseinheit, die Verhalten zeigen soll in Form einer klar definierten Datentransformation. Sie stellt die Wurzel des Lösungsansatzes dar. Sie repräsentiert die angenommen erfüllten Anforderungen.\n",
    "\n",
    "/// eine abbildung für das vorher gesagte?\n"
   ]
  },
  {
   "cell_type": "markdown",
   "metadata": {},
   "source": [
    "### 0-dimensionale Datenflüsse\n",
    "\n",
    "### 1-dimensionale Datenflüsse\n",
    "\n",
    "### 2-dimensionale Datenflüsse\n",
    "\n",
    "### 3-dimensionale Datenflüsse"
   ]
  }
 ],
 "metadata": {
  "kernelspec": {
   "display_name": ".NET (C#)",
   "language": "C#",
   "name": ".net-csharp"
  },
  "language_info": {
   "file_extension": ".cs",
   "mimetype": "text/x-csharp",
   "name": "C#",
   "pygments_lexer": "csharp",
   "version": "8.0"
  }
 },
 "nbformat": 4,
 "nbformat_minor": 4
}
