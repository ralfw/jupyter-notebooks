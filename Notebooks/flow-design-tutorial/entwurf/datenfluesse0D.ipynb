{
 "cells": [
  {
   "cell_type": "markdown",
   "metadata": {},
   "source": [
    "### 0-dimensionale Datenflüsse\n",
    "\n",
    "Eine Funktionseinheit, die Input in Output überführt, ist das kleinstmögliche Datenfluss-Modell. Sie entspricht einem Punkt im dreidimensionalen Raum, ist also 0-dimensional.\n",
    "\n",
    "![](images/df3.png)\n",
    "\n",
    "#### Notation\n",
    "\n",
    "So leichtgewichtig die Notation für solch eine Repräsentanz einer Problemlösung sein mag, so sind doch ein paar Hinweise angebracht:\n",
    "\n",
    "* Eine Funktionseinheit dargestellt als \"Blase\" oder Kreis oder Ellipse, also als \"runde Form\" steht für etwas, das getan werden soll; sie löst ein Problem durch ihre Transformation von Input zu Output. Deshalb ist ihre Benennung mit einem Verb oder einer Verbphrase sinnvoll. Ein Imperativ muss es nicht sein, aber darf es natürlich. Zudem sollte die Benennung relevant für das Umfeld sein, also orientiert an der Domänensprache statt technisch. Außerdem - und vielleicht sogar am wichtigsten - sollte die Bennung keinen Hinweis auf die Lösung(simplementation) enthalten. Die wird im Modell nur gewünscht, nicht gewusst. **Es geht im Modell ums Was und Warum, nicht ums Wie.**\n",
    "* Datenflüsse werden durch Pfeile zur und von der Funktionseinheit angezeigt. Pfeile werden im Flow-Design ausschließlich für diesen Zweck benutzt! Pfeile stellen also keine Abhängigkeiten dar, sondern unidirektionale Datenkanäle, deren Quellen und Senken einander nicht kennen.\n",
    "* Was fließt, wird immer (!) an Pfeilen in Klammern kurz beschrieben. Auch hier geht es vor allem ums Was, nicht ums Wie. Daten werden mit Substantiven benannt. Meist geschieht das in Kleinschreibung und ohne Datentyp, weil der offensichtlich ist. Aber es kann auch ein Datentyp explizit hinzugefügt werden. Oder Daten werden in Großschreibung benannt und stehen damit selbst für einen Datentyp.\n",
    "\n",
    "![](images/df4.png)\n",
    "\n",
    "##### Zustandsbehaftete Funktionseinheiten\n",
    "\n",
    "Funktionseinheiten arbeiten vor allem auf dem Input, der in sie einfließt. Eintreffender Input triggert ihr Verhalten. Aber Funktionseinheiten sind nicht per se *pur*. Flow-Design hat kein Ideal von \"pure functional units\" wie die Funktionale Programmierung \"pure functions\" favorisiert. Flow-Design empfiehlt Zustandslosigkeit bzw. Seiteneffektfreiheit, wo sie sinnvoll und machbar sind. Doch wenn sich das (zunächst) als unintuitiv erweisen sollte, sind Zustand und Seiteneffekte völlig akzeptable - sollten jedoch angezeigt werden.\n",
    "\n",
    "![](images/df5.png)\n",
    "\n",
    "Wie Zustand genau realisiert wird, ist wieder nicht Sache des Modells. Es soll vor allem klar gemacht werden, dass es eine Einflussgröße für die Transformation gibt, die über Nachrichten hinweg relevant ist.\n",
    "\n",
    "Wenn Zustand an gewisser Stelle vermieden werden soll, kann er auch in den Fluss extrahiert werden:\n",
    "\n",
    "![](images/df6.png)\n",
    "\n",
    "Dasselbe gilt für Seiteneffekte. Die werden über einen API hergestellt, der auch in spezifischeren Funktionseinheiten up-/downstream enger gekapselt werden könnte:\n",
    "\n",
    "![](images/df7.png)\n",
    "\n",
    "##### Datenströme\n",
    "\n",
    "Die meisten Funktionseinheiten transformieren eine Input-Nachricht in eine Output-Nachricht. Dabei ist es unerheblich, ob Input oder Output aus einem Datum bestehen oder ein Feld sind, eine Liste oder eine andere Sammlung von vielen Daten.\n",
    "\n",
    "![](images/df8.png)\n",
    "\n",
    "Wenn Sammlungen (*collections*) fließen, kann deren Typ explizit angeben werden - z.B. `(dateiname[])`, `(dateinamen:List<string>)`. Im Allgemeinen ist das jedoch schon zu viel Implementationsdetail für ein Modell. Deshalb ziegt Flow-Design ein schlichtere Angabe für \"mehrere Daten\" vor, die \"in einem Schwung\" ein-/ausfließen: `(dateiname*)`. Der Datenangabe ist einfach nur unmittelbar und in der Klammer ein Sternchen nachzustellen.\n",
    "\n",
    "![](images/df9.png)\n",
    "\n",
    "Eine oft zu vernachlässigende, am Ende jedoch sehr interessante Eigenschaft von Datenflüssen im Gegensatz zu Kontrollflüssen ist jedoch, dass alle Funktionseinheiten im Grunde *gleichzeitig* aktiv sind. Nur weil Daten produziert sind und ausfließen, heißt das nicht, dass eine Funktionseinheit die Kontrolle abgibt. Sie kann auch weiterarbeiten, während der Output zu einer anderen Funktionseinheit fließt und gleichzeitig dort verarbeitet wird. Produzenten und Konsumenten sind grundsätzlich nebenläufig und asynchron - und nur, wenn das nicht wichtig ist, werden sie sequenziell und synchron implementiert.\n",
    "\n",
    "Die grundsätzliche Nebenläufigkeit hat nun zur Folge, dass eine Funktionseinheit nicht nur einmal für einen Input einen Output produzieren kann, sondern mehrfach. Dann entsteht keine *collection* von Nachrichten, sondern ein *stream*. Jedes Element in solch einem  Strom ist eine eigene Nachricht. Angezeigt wird das im Modell durch ein Sternchen *hinter* der Klammer, z.B. `(dateiname)*`.\n",
    "\n",
    "Ströme sind nur relevant zu markieren als Output. Die Anlieferung von Input erfolgt im Grunde immer als Strom. Notiert wird das nur nicht speziell; es ist normal. Auf jede Nachricht im Input-Strom reagiert eine Funktionseinheit dann.\n",
    "\n",
    "![](images/df10.png)\n",
    "\n",
    "#### Übersetzung\n",
    "\n",
    "\"Bubbles don't crash\" - das ist wahr und deshalb ist es Flow-Design wichtig, dass die \"Bubbles\" seiner Modelle möglichst einfach in Code übersetzt werden können, der crashen kann, um Modell-Ideen zu überprüfen.\n",
    "\n",
    "Die naheliegende Übersetzung einer Funktionseinheit ist die in eine Funktion:\n",
    "\n",
    "![](images/df11.png)"
   ]
  },
  {
   "cell_type": "code",
   "execution_count": null,
   "metadata": {},
   "outputs": [],
   "source": [
    "int CalcAverage(IEnumerable<int> werte) {\n",
    "    return werte.Sum() / werte.Count();\n",
    "}\n",
    "\n",
    "display($\"Durchschnitt von [1,5,9,3]: {CalcAverage(new[]{1,5,9,3})}\")"
   ]
  },
  {
   "cell_type": "markdown",
   "metadata": {},
   "source": [
    "Das funktioniert gut, solange für jeden Input-Wert ein Output-Wert bzw. eine Output-Collection erzeugt wird. Und auch mit Tupeln funktioniert es, wenn die Programmiersprache Tupel direkt unterstützt oder man gewillt ist, für ein Tupel einen Datentypen zu definieren:"
   ]
  },
  {
   "cell_type": "code",
   "execution_count": null,
   "metadata": {},
   "outputs": [],
   "source": [
    "(T head, IEnumerable<T> tail) Split<T>(IEnumerable<T> list)\n",
    "    => (list.First(), list.Skip(1));\n",
    "\n",
    "var result = Split(new[]{2,7,9,3});\n",
    "display($\"head: {result.head}\");\n",
    "foreach(var e in result.tail) display($\"  tail element: {e}\");"
   ]
  },
  {
   "cell_type": "markdown",
   "metadata": {},
   "source": [
    "Funktionen sind natürliche \"Objekte\" im Sinne von Alan Kay, weil sie für eine empfangene Nachricht - *dass* man sie aufruft und mit welchen Parametern man sie aufruft - ein Resulat herstellen, ohne zu wissen, woher sie aufgerufen wurden und wie das Resultat benutzt wird. Das PoMO wird eingehalten.\n",
    "\n",
    "##### Datenströme\n",
    "\n",
    "Allerdings können Funktionen für jedes eintreffende Nachricht, d.h. für jeden Aufruf, nur einmal ein Resultat herstellen (auch wenn das womöglich aus mehreren Elementen besteht). Was aber, wenn Input in einen Strom von Resultaten umzuwandeln ist?\n",
    "\n",
    "Hier bricht die Übersetzung der \"Blase\" in eine Funktion. Bei genauerem Hinsehen ist es stattdessen so, dass die Punkte, wo Pfeile auf eine Funktionseinheit treffen und wo sie sie verlassen, getrennt übersetzt werden:\n",
    "\n",
    "* Ein eintreffender Pfeil wird in eine Funktion mit Parametern übersetzt.\n",
    "* Ein ausgehender Pfeil wird in ein Funktionsresultat oder eine *continuation* übersetzt.\n",
    "\n",
    "Ein Funktionsresultat ist dann möglich, wenn nur einmal ein Output generiert wird. Andernfalls muss Output über einen Funktionszeiger an die Umwelt weitergeschoben werden. Dieser Funktionszeiger muss eine *Prozedur* beschreiben (Funktion ohne Rückgabewert), deren Name nicht auf weitere downstream Verarbeitung des Output hindeutet, da sonst das PoMO verletzt würde.\n",
    "\n",
    "![](images/df12.png)"
   ]
  },
  {
   "cell_type": "code",
   "execution_count": 42,
   "metadata": {},
   "outputs": [
    {
     "data": {
      "text/plain": [
       "the"
      ]
     },
     "metadata": {},
     "output_type": "display_data"
    },
    {
     "data": {
      "text/plain": [
       "quick"
      ]
     },
     "metadata": {},
     "output_type": "display_data"
    },
    {
     "data": {
      "text/plain": [
       "brown"
      ]
     },
     "metadata": {},
     "output_type": "display_data"
    },
    {
     "data": {
      "text/plain": [
       "fox"
      ]
     },
     "metadata": {},
     "output_type": "display_data"
    }
   ],
   "source": [
    "IEnumerable<string> SplitIntoWords(string text)\n",
    "    => text.Split(new[]{' ', '\\n', '\\t'}, StringSplitOptions.RemoveEmptyEntries);\n",
    "\n",
    "var words = SplitIntoWords(\"the quick brown fox\");\n",
    "foreach(var w in words) display(w);"
   ]
  },
  {
   "cell_type": "code",
   "execution_count": 43,
   "metadata": {},
   "outputs": [
    {
     "data": {
      "text/plain": [
       "humpty"
      ]
     },
     "metadata": {},
     "output_type": "display_data"
    },
    {
     "data": {
      "text/plain": [
       "dumpty"
      ]
     },
     "metadata": {},
     "output_type": "display_data"
    },
    {
     "data": {
      "text/plain": [
       "sat"
      ]
     },
     "metadata": {},
     "output_type": "display_data"
    },
    {
     "data": {
      "text/plain": [
       "on"
      ]
     },
     "metadata": {},
     "output_type": "display_data"
    },
    {
     "data": {
      "text/plain": [
       "a"
      ]
     },
     "metadata": {},
     "output_type": "display_data"
    },
    {
     "data": {
      "text/plain": [
       "wall"
      ]
     },
     "metadata": {},
     "output_type": "display_data"
    }
   ],
   "source": [
    "void EnumerateWords(string text, Action<string> onWord)\n",
    "    => text.Split(new[]{' ', '\\n', '\\t'}, StringSplitOptions.RemoveEmptyEntries).ToList()\n",
    "           .ForEach(onWord);\n",
    "\n",
    "EnumerateWords(\"humpty dumpty sat on a wall\",\n",
    "    word => display(word));"
   ]
  },
  {
   "cell_type": "markdown",
   "metadata": {},
   "source": [
    "Die Codierung eines Output-Datenkanals mit einer continuation ist die universellere. Aber sie ist weniger intuitiv und umständlicher. Deshalb zieht Flow-Design die Übersetzung mit Funktionsresultaten vor, wo sie offensichtlich ist oder auch machbar durch Sprachkonstrukte wie Iteratoren (z.B. `IEnumerable<>` in C#).\n",
    "\n",
    "Streams sind Mengen von einzelnen Werten. Wo sie naheliegend und nützlich im Modell sind, sollten sie angemessen in der Übersetzung repräsentiert werden. Das ist mit continuations, also Funktionszeigern in vielen Programmiersprachen möglich, wenn auch ein wenig gewöhnungsbedürftig. Aber die Gewöhnung lohnt sich: die Übersetzung von Modellen wird einfacher, die Testbarkeit des Codes steigt.\n",
    "\n",
    "##### Zustand\n",
    "\n",
    "Zustand bzw. Ressourcenzugriff sind Abhängigkeiten einer Funktionseinheit. Sie werden als Abhängigkeiten übersetzt. Zustand ist dabei eine globale Variable im aggregierenden Modul einer Funktion:\n",
    "\n",
    "![](images/df13.png)"
   ]
  },
  {
   "cell_type": "code",
   "execution_count": 44,
   "metadata": {},
   "outputs": [
    {
     "data": {
      "text/plain": [
       "add 1: 1"
      ]
     },
     "metadata": {},
     "output_type": "display_data"
    },
    {
     "data": {
      "text/plain": [
       "add 2: 3"
      ]
     },
     "metadata": {},
     "output_type": "display_data"
    },
    {
     "data": {
      "text/plain": [
       "add 3: 6"
      ]
     },
     "metadata": {},
     "output_type": "display_data"
    }
   ],
   "source": [
    "class Accumulator {\n",
    "    private int _value;\n",
    "    \n",
    "    public int Add(int a) {\n",
    "        _value += a;\n",
    "        return _value;\n",
    "    }\n",
    "}\n",
    "\n",
    "var accu = new Accumulator();\n",
    "display($\"add 1: {accu.Add(1)}\");\n",
    "display($\"add 2: {accu.Add(2)}\");\n",
    "display($\"add 3: {accu.Add(3)}\");"
   ]
  },
  {
   "cell_type": "markdown",
   "metadata": {},
   "source": [
    "Weiter mit [1-dimensionalen Datenflüssen](datenfluesse1D.ipynb)"
   ]
  }
 ],
 "metadata": {
  "kernelspec": {
   "display_name": ".NET (C#)",
   "language": "C#",
   "name": ".net-csharp"
  },
  "language_info": {
   "file_extension": ".cs",
   "mimetype": "text/x-csharp",
   "name": "C#",
   "pygments_lexer": "csharp",
   "version": "8.0"
  }
 },
 "nbformat": 4,
 "nbformat_minor": 4
}
