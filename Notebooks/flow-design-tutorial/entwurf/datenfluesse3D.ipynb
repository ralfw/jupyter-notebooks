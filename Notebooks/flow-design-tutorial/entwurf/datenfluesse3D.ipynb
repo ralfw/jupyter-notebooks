{
 "cells": [
  {
   "cell_type": "markdown",
   "metadata": {},
   "source": [
    "### 3-dimensionale Datenflüsse\n",
    "\n",
    "Das erste Kennzeichen von Flow-Design Datenflüssen ist die Abwesenheit von Schleifen. Daten fließen nur downstream: \"Vorwärts immer, rückwärts nimmer!\"😉 ist das Motto.\n",
    "\n",
    "Der Verzicht auf Schleifen ist eine \"freiwillige Selbstbeschränkung\". Er trägt dazu bei, dass Datenflüsse deklarativ sind, und erhöht die Verständlichkeit. Schleifen fordern mehr kognitiven Aufwand bei der Analyse von Code, weil sie dazu zwingen, etwas im Gedächtnis zu behalten, z.B. den Zustand einer Schleifenvariablen. Außerdem vergrößern sie das Risiko eines Bug z.B. durch 1-off Fehler:\n",
    "\n",
    "```\n",
    "var numbers = new[]{1,2,3};\n",
    "var sum = 0;\n",
    "for(var i=0; i<=numbers.Length; i++) //😱\n",
    "    sum += numbers[i];\n",
    "```\n",
    "\n",
    "Moderne, abstraktere Sprachkonstrukte verringern zwar solches Risiko...\n",
    "\n",
    "```\n",
    "var numbers = new[]{1,2,3};\n",
    "var sum = 0;\n",
    "foreach(var n in numbers) //😇\n",
    "    sum += numbers[i];\n",
    "```\n",
    "\n",
    "...und\\/oder erhöhen die Verständlichkeit:\n",
    "\n",
    "```\n",
    "var numbers = new[]{1,2,3};\n",
    "var sum = numbers.Sum(); //🥳\n",
    "```\n",
    "\n",
    "Letztlich bleiben Schleifen aber problematisch: Es sind Kontrollstrukturen, die zur Schachtelung einladen und unübersichtlich werden, wenn sie wachsen. Nicht in allen Fällen helfen moderne Abstraktionen. Deshalb gilt das Prinzip des Verzichts auf Schleifen in Datenflüssen.\n",
    "\n",
    "Doch wie sieht es mit Fallunterscheidungen aus? Lassen sie sich auch vermeiden? Nein, Fallunterscheidungen definieren alternative Verhalten. Das ist notwendig und nicht zu vermeiden, auch wenn die Verhaltensproduktion mit Datenflüssen modelliert wird.\n",
    "\n",
    "#### Kategorisierung\n",
    "\n",
    "Eine häufige Anforderung im Rahmen der Verhaltensproduktion ist die Kategorisierung von Daten mit anschließend unterschiedlicher Behandlung je nach Kategorie. Beispiel: Eine Eingabe soll in eine Dezimalzahl konvertiert werden, wenn sie eine binäre Zahl ist, oder umgekehrt. Eine binäre Zahl liegt vor, wenn die Eingabe auf \"b\" endet.\n",
    "\n",
    "Eine Lösung könnte mit Flow-Design so aussehen:\n",
    "\n",
    "![](images/df109.png)\n",
    "\n",
    "Neu ist hier, dass eine Funktionseinheit wie `Determine number system` mehrere Ausgänge haben kann. Die stehen für die Alternativen, dass der Input als binäre oder dezimale Zahl vorliegt. Jenachdem, zu welcher Kategorie der Input gehört, fließt die Verarbeitung entlang des einen oder des anderen Datenflussarms weiter."
   ]
  },
  {
   "cell_type": "code",
   "execution_count": 129,
   "metadata": {},
   "outputs": [
    {
     "data": {
      "text/plain": [
       "10b=2"
      ]
     },
     "metadata": {},
     "output_type": "display_data"
    },
    {
     "data": {
      "text/plain": [
       "10=1010"
      ]
     },
     "metadata": {},
     "output_type": "display_data"
    }
   ],
   "source": [
    "class NumberConverter {\n",
    "    public static string Convert(string number) {\n",
    "        var result = \"\";\n",
    "        DetermineNumberSystem(number,\n",
    "            decimalNumber => result = ToBinary(decimalNumber),\n",
    "            binaryNumber => result = ToDecimal(binaryNumber)\n",
    "        );\n",
    "        return result;\n",
    "    }\n",
    "    \n",
    "    private static void DetermineNumberSystem(string number, Action<string> onIsDecimal, Action<string> onIsBinary) {\n",
    "        if (number.EndsWith(\"b\"))\n",
    "            onIsBinary(number.Substring(0, number.Length-1));\n",
    "        else\n",
    "            onIsDecimal(number);\n",
    "    }\n",
    "    \n",
    "    \n",
    "    private static string ToBinary(string number)\n",
    "        => System.Convert.ToString(int.Parse(number), 2);\n",
    "    \n",
    "    private static string ToDecimal(string number)\n",
    "        => System.Convert.ToInt32(number,2).ToString();\n",
    "}\n",
    "\n",
    "\n",
    "display($\"10b={NumberConverter.Convert(\"10b\")}\");\n",
    "display($\"10={NumberConverter.Convert(\"10\")}\");"
   ]
  },
  {
   "cell_type": "markdown",
   "metadata": {},
   "source": [
    "Mehrere parallele Datenflüsse fügen den bisherigen 2-dimensionalen Modellen eine dritte Dimension hinzu:\n",
    "\n",
    "![](images/df109a.png)\n",
    "\n",
    "Wie schon vorher bei den 1-dimensionalen Datenflüssen gilt auch hier: alle Funktionseinheiten arbeiten grundsätzlich unabhängig voneinander. Nacheinander geschaltete Funktionseinheiten können gleichzeitig aktiv sein, parallel geschaltete ebenfalls. Dass das oft nicht der Fall ist, weil nicht nötig wie im obigen Beispiel, tut dem keinen Abbruch. 3-dimensionale Datenflüsse erlauben die modellierung synchroner wie asynchroner, gar paralleler Verarbeitung.\n",
    "\n",
    "##### Übersetzungsalternativen\n",
    "\n",
    "Auffallend an den alternativen Ausgängen der Funktionseinheit `DetermineNumberSystem` ist, dass Output auf beiden als stream herausfließt. Das ist immer der Fall, wenn Output-Nachrichten entstehen können oder auch nicht. Wenn der Input eine dezimale Zahl darstellt, dann fließt Output auf dem zugehörigen Port heraus - und beim anderen nicht. Und umgekehrt. Nur mit streams ist es möglich, keinen Output zu erzeugen.\n",
    "\n",
    "Das führt dann dazu, dass in der Übersetzung continuations zum Einsatz kommen. Nur mit ihnen lässt sich der Fall ohne Output für eine Alternative sauber implementieren.\n",
    "\n",
    "Alternativ wäre in einer Sprache wie C# mit Tupel-Unterstützung zwar auch folgende Übersetzung möglich:"
   ]
  },
  {
   "cell_type": "code",
   "execution_count": 131,
   "metadata": {},
   "outputs": [
    {
     "data": {
      "text/plain": [
       "10b=2"
      ]
     },
     "metadata": {},
     "output_type": "display_data"
    },
    {
     "data": {
      "text/plain": [
       "10=1010"
      ]
     },
     "metadata": {},
     "output_type": "display_data"
    }
   ],
   "source": [
    "class NumberConverter_v2 {\n",
    "    public static string Convert(string number) {\n",
    "        var categorization = DetermineNumberSystem(number);\n",
    "        if (categorization.isBinary)\n",
    "            return ToDecimal(categorization.normalizedNumber);\n",
    "        else\n",
    "            return ToBinary(categorization.normalizedNumber);\n",
    "    }\n",
    "    \n",
    "    private static (bool isBinary, string normalizedNumber) DetermineNumberSystem(string number) {\n",
    "        if (number.EndsWith(\"b\"))\n",
    "            return (true, number.Substring(0, number.Length-1));\n",
    "        else\n",
    "            return (false, number);\n",
    "    }\n",
    "    \n",
    "    \n",
    "    private static string ToBinary(string number)\n",
    "        => System.Convert.ToString(int.Parse(number), 2);\n",
    "    \n",
    "    private static string ToDecimal(string number)\n",
    "        => System.Convert.ToInt32(number,2).ToString();\n",
    "}\n",
    "\n",
    "\n",
    "display($\"10b={NumberConverter_v2.Convert(\"10b\")}\");\n",
    "display($\"10={NumberConverter_v2.Convert(\"10\")}\");"
   ]
  },
  {
   "cell_type": "markdown",
   "metadata": {},
   "source": [
    "Doch damit würde die Integration `Convert` durch eine Kontrollstruktur verschmutzt. Das ist zwar nur minimal... dennoch sollte man sich dessen bewusst sein.\n",
    "\n",
    "Im allgemeinen Fall würde diese Variante die Kategorie über einen `enum`-Datentyp zurückliefern.\n",
    "\n",
    "Oder sie könnte sogar noch weitergehen und die downstream Verarbeitung selbst dynamisch bestimmen. Hierin könnte man zwar einen Widerspruch zum PoMO sehen... doch wenn Kategorisierung und Mapping auf eine Verarbeitung getrennt sind, mag das der Verständlichkeit und Testbarkeit nicht abträglich, sondern sogar zuträglich sein.\n",
    "\n",
    "![](images/df110.png)\n",
    "\n",
    "Jetzt gibt es keine Continuations mehr im Code. Jetzt gibt es keine unsauberen Kontrollstrukturen mehr in Integrationen."
   ]
  },
  {
   "cell_type": "code",
   "execution_count": 136,
   "metadata": {},
   "outputs": [
    {
     "data": {
      "text/plain": [
       "10b=2"
      ]
     },
     "metadata": {},
     "output_type": "display_data"
    },
    {
     "data": {
      "text/plain": [
       "10=1010"
      ]
     },
     "metadata": {},
     "output_type": "display_data"
    }
   ],
   "source": [
    "class NumberConverter_v3 {\n",
    "    public static string Convert(string number) {\n",
    "        var conversion = ChooseConverter(number);\n",
    "        return conversion.convert(conversion.normalizedNumber);\n",
    "    }\n",
    "    \n",
    "    private static (Func<string,string> convert, string normalizedNumber) ChooseConverter(string number) {\n",
    "        var categorization = DetermineNumberSystem(number);\n",
    "        var convert = PickConverter(categorization.isBinary);\n",
    "        return (convert, categorization.normalizedNumber);\n",
    "    }\n",
    "    \n",
    "    private static (bool isBinary, string normalizedNumber) DetermineNumberSystem(string number) {\n",
    "        if (number.EndsWith(\"b\"))\n",
    "            return (true, number.Substring(0, number.Length-1));\n",
    "        else\n",
    "            return (false, number);\n",
    "    }\n",
    "    \n",
    "    private static Func<string,string> PickConverter(bool isBinary) => isBinary switch {\n",
    "        true => ToDecimal,\n",
    "        false => ToBinary\n",
    "    };\n",
    "    \n",
    "    \n",
    "    private static string ToBinary(string number)\n",
    "        => System.Convert.ToString(int.Parse(number), 2);\n",
    "    \n",
    "    private static string ToDecimal(string number)\n",
    "        => System.Convert.ToInt32(number,2).ToString();\n",
    "}\n",
    "\n",
    "\n",
    "display($\"10b={NumberConverter_v3.Convert(\"10b\")}\");\n",
    "display($\"10={NumberConverter_v3.Convert(\"10\")}\");"
   ]
  },
  {
   "cell_type": "markdown",
   "metadata": {},
   "source": [
    "Dem Anfänger in Sachen Flow-Design fällt es gewöhnlich nicht leicht, sich vorzustellen, dass Kontrollstrukturen und insbesondere Fallunterscheidungen wirklich nur in den Blättern des Zerlegungsbaumes stehen. Das ist verständlich, weil es so ungewohnt ist. In den Bäumen tiefer funktionaler Abhängigkeiten ist das undenkbar und scheint auch gar nicht nötig.\n",
    "\n",
    "Doch gerade hierin liegt das Geheimnis der Verständlichkeit und Testbarkeit von Code, der mit Flow-Design modelliert und IOSP/PoMO folgend übersetzt wird! Deshalb sollten alle Anstrengungen unternommen werden, Schleifen und Fallunterscheidungen wirklich in die Operation-Funktionen hinunter zu drücken. Es ist in jedem Fall machbar und ist der Default im Flow-Design. Abweichungen davon sollten sehr bewusst eingegangen werden; sie lassen dark logic entstehen und verwässern das stratified design.\n",
    "\n",
    "#### Fehler\n",
    "\n",
    "Ein weiterer typischer Fall für parallele Datenflüsse stellen Fehler dar. Da gibt es einerseits den Datenfluss für den \"happy day\", d.h. wenn alles wie erwartet läuft. Und andererseits gibt es den Datenfluss für den \"rainy day\", d.h. den Fehlerfall.\n",
    "\n",
    "Ein typisches Szenario ist die Validation: Wenn ankommende Daten bestimmten Kriterien genügen, scheint die Sonne, ansonsten regnet es. Gutfall und Fehlerfall zu unterscheiden ist ein nicht zu vernachlässigender Teil jedes Modells. Im Flow-Design geschieht das wieder mit mehreren Ausgängen und parallelen Datenflüssen.\n",
    "\n",
    "Als Beispiel die Addition mehrerer durch Leerzeichen getrennter Zahlen. Sind alle Zahlen valide, kann die Summe gebildet und ausgegeben werden. Falls nicht, gibt es eine Fehlermeldung.\n",
    "\n",
    "![](images/df111.png)\n",
    "\n",
    "Gutfall oder Fehlerfall sind also im Grunde nur zwei Kategorien. Deren Bestimmung erfolgt oft jedoch nicht in einer speziellen Funktionseinheit zur Kategorisierung wie bei der Zahlenwandlung oben, sondern ist ein Beiprodukt. Hier nimmt z.B. `Parse` den Gutfall an, ist jedoch darauf vorbereitet, dass es zum Fehlerfall kommt."
   ]
  },
  {
   "cell_type": "code",
   "execution_count": 142,
   "metadata": {},
   "outputs": [
    {
     "data": {
      "text/plain": [
       "sum of 1 2 3 = 6"
      ]
     },
     "metadata": {},
     "output_type": "display_data"
    },
    {
     "data": {
      "text/plain": [
       "Error: Cannot sum numbers! 'foo' is not a number."
      ]
     },
     "metadata": {},
     "output_type": "display_data"
    }
   ],
   "source": [
    "public class StringMath {\n",
    "    public static void Sum(string source, Action<int> onOk, Action<string> onError) {\n",
    "        Parse(source,\n",
    "             numbers => {\n",
    "                 var sum = numbers.Sum();\n",
    "                 onOk(sum);\n",
    "             },\n",
    "             erroneousNumber => {\n",
    "                 var error = $\"Cannot sum numbers! '{erroneousNumber}' is not a number.\";\n",
    "                 onError(error);\n",
    "             }\n",
    "         );\n",
    "    }\n",
    "    \n",
    "    private static void Parse(string source, Action<int[]> onSuccess, Action<string> onFailure) {\n",
    "        var candidateNumbers = source.Split(' ');\n",
    "        var numbers = new List<int>();\n",
    "        foreach(var cn in candidateNumbers)\n",
    "            if (int.TryParse(cn, out var n))\n",
    "                numbers.Add(n);\n",
    "            else {\n",
    "                onFailure(cn);\n",
    "                return;\n",
    "            }\n",
    "        onSuccess(numbers.ToArray());\n",
    "    }\n",
    "}\n",
    "\n",
    "\n",
    "var input = \"1 2 3\";\n",
    "StringMath.Sum(input,\n",
    "    sum => display($\"sum of {input} = {sum}\"),\n",
    "    error => display($\"Error: {error}\")\n",
    ");\n",
    "\n",
    "input = \"1 foo 3\";\n",
    "StringMath.Sum(input,\n",
    "    sum => display($\"sum of {input} = {sum}\"),\n",
    "    error => display($\"Error: {error}\")\n",
    ");"
   ]
  },
  {
   "cell_type": "markdown",
   "metadata": {},
   "source": [
    "Das der Gutfall der wünschenswerte und meist interessantere und hoffentlich auch der häufigere ist, könnte man versucht sein, die Asymmetrie zwischen Gutfall und Fehlerfall im Code auszudrücken. Warum nicht den Output des Gutfalls über das Funktionsresultat zurückliefern und den Fehlerfall in einer continuation abhandeln?\n",
    "\n",
    "```csharp\n",
    "private static int[] Parse(string source, Action<string> onFailure) {\n",
    "    var candidateNumbers = source.Split(' ');\n",
    "    var numbers = new List<int>();\n",
    "    foreach(var cn in candidateNumbers)\n",
    "        if (int.TryParse(cn, out var n))\n",
    "            numbers.Add(n);\n",
    "        else {\n",
    "            onFailure(cn);\n",
    "            return null; //😱\n",
    "        }\n",
    "    return numbers.ToArray();\n",
    "}\n",
    "```\n",
    "\n",
    "Das Problem ist der Rückgabewert der Funktion im Fehlerfall. Warum sollte der wie hier `null` sein? Darauf muss die Gutfall-Bearbeitung vorbereitet sein. Das vergrößert die Komplexität des Codes.\n",
    "\n",
    "Einer symmetrische Behandlung ist der Vorzug zu geben. Wenn die nicht durch continuations stattfinden soll, dann wäre es besser, die Alternative Klassifizierungsübersetzung zum Einsatz zu bringen:\n",
    "\n",
    "```csharp\n",
    "private static (bool success, int[] numbers, string error) Parse(string source) {\n",
    "    var candidateNumbers = source.Split(' ');\n",
    "    var numbers = new List<int>();\n",
    "    foreach(var cn in candidateNumbers)\n",
    "        if (int.TryParse(cn, out var n))\n",
    "            numbers.Add(n);\n",
    "        else \n",
    "            return (false, new int[0], cn);\n",
    "    return (true, numbers.ToArray(), \"\");\n",
    "}\n",
    "```\n",
    "\n",
    "Das ist ein anerkanntes Muster neben der einfacheren Variante einer `Try`-Funktion, z.B. `bool TryParse(string source, out int[] numbers)`.\n",
    "\n",
    "Ohne continuations rutscht aber in jedem Fall Kontrollstruktur-Logik in die Integration, in der eine solche Funktion aufgerufen wird. Es ist also sensibel abzuwägen.\n",
    "\n",
    "#### Ausnahmen\n",
    "\n",
    "Es gibt erwartete Fehler und unerwartet. Letztere werden im Notfall durch Exceptions angezeigt. Die können wie rainy-day Fehler modelliert werden und insofern erwartet aussehen. Oder man benutzt eine spezielle Datenflussnotation, um anzuzeigen, dass Ausnahme nicht näher bestimmt aus einer Reihe von Funktionseinheiten herausspringen können.\n",
    "\n",
    "Als Beispiel ein Datenfluss der eine Reihe von Dateien verarbeitet: Sie werden gelesen, analysiert und das Analyseergebnis am Ende ausgegeben. In jedem der Schritte könnte eine Ausnahme geworfen werden. Das wird nicht erwartet, aber die Möglichkeit besteht. Deshalb gibt es keine speziellen Fehlerausgänge bei allen Funktionseinheiten, sondern sie werden in einen \"Kontext\" gesteckt, der allgemein darauf reagiert. (Die Funktionale Programmierung könnte dazu wohl auch *Monade* sagen.)\n",
    "\n",
    "![](images/df112.png)\n",
    "\n",
    "Für den möglichen, aber nicht wahrscheinlichen Fall einer Ausnahme jede Funktionseinheit mit einem speziellen Output-Port dafür zu versehen, würde die Komplexität des Modells und des Codes stark erhöhen."
   ]
  },
  {
   "cell_type": "code",
   "execution_count": 152,
   "metadata": {},
   "outputs": [
    {
     "name": "stdout",
     "output_type": "stream",
     "text": [
      "23 files with 28384 lines in total\n",
      "Exception: Could not find a part of the path '/Users/ralfw/Projects/jupyter-notebooks.github/Notebooks/flow-design-tutorial/foo'.\n"
     ]
    }
   ],
   "source": [
    "class FileStats {\n",
    "    public static void CountLines(string path) {\n",
    "        try {\n",
    "            (int numberOfFiles, int totalNumberOfLines) accumulator = (0,0);\n",
    "            EnumerateFiles(path,\n",
    "                filename => {\n",
    "                    var lines = System.IO.File.ReadAllLines(filename);\n",
    "                    accumulator.numberOfFiles += 1;\n",
    "                    accumulator.totalNumberOfLines += lines.Length;\n",
    "                });\n",
    "            DisplayResult(accumulator);\n",
    "        }\n",
    "        catch(Exception ex) {\n",
    "            DisplayException(ex);\n",
    "        }\n",
    "    }\n",
    "    \n",
    "    \n",
    "    private static void EnumerateFiles(string path, Action<string> onFile) {\n",
    "        foreach(var filename in System.IO.Directory.GetFiles(path, \"*.*\", System.IO.SearchOption.AllDirectories))\n",
    "            onFile(filename);\n",
    "    }\n",
    "    \n",
    "    \n",
    "    private static void DisplayResult((int numberOfFiles, int totalNumberOfLines) result)\n",
    "        => Console.WriteLine($\"{result.numberOfFiles} files with {result.totalNumberOfLines} lines in total\");\n",
    "    \n",
    "    private static void DisplayException(Exception ex)\n",
    "        => Console.WriteLine($\"Exception: {ex.Message}\");\n",
    "}\n",
    "\n",
    "\n",
    "FileStats.CountLines(\"../entwurf\");\n",
    "FileStats.CountLines(\"../foo\");"
   ]
  },
  {
   "cell_type": "markdown",
   "metadata": {},
   "source": [
    "Die Übersetzung des Kontextes mit `try`-`catch` ist naheliegend. Dass diese Kontrollstruktur jedoch in der Integration liegt, ist ein Widerspruch zum IOSP. Da Verständlichkeit und Testbarkeit dadurch jedoch nicht beeinträchtigt werden, ist das ausnahmsweise jedoch kein Problem.\n",
    "\n",
    "Wer jedoch auf Nummer sicher gehen will, insbesondere wenn noch weitere Logik in beiden Fällen hinzukommen soll, der lagert die Kontrollstruktur aus in eine eigene Methode wie die folgende:"
   ]
  },
  {
   "cell_type": "code",
   "execution_count": 154,
   "metadata": {},
   "outputs": [],
   "source": [
    "class Exceptionhandling {\n",
    "    public static void Try(Action tryThis, Action<Exception> onException) {\n",
    "        try {\n",
    "            display($\"trying...\");\n",
    "            tryThis();\n",
    "            display($\"succeeded!\");\n",
    "        }\n",
    "        catch(Exception ex) {\n",
    "            display($\"failed!\");\n",
    "            onException(ex);\n",
    "        }\n",
    "    }\n",
    "}"
   ]
  },
  {
   "cell_type": "markdown",
   "metadata": {},
   "source": [
    "Zusätzliche Logik ist hier angedeutet durch die Protokollnachrichten. Sie würden die eigentliche Logik verrauschen und sind ein einem \"Kontext\" als separater Aspekt gut ausgelagert.\n",
    "\n",
    "Die Lösung sieht dann nur wenig anders aus, enthält aber keine Logik mehr in der Integration `CountLines`:"
   ]
  },
  {
   "cell_type": "code",
   "execution_count": 155,
   "metadata": {},
   "outputs": [
    {
     "data": {
      "text/plain": [
       "trying..."
      ]
     },
     "metadata": {},
     "output_type": "display_data"
    },
    {
     "name": "stdout",
     "output_type": "stream",
     "text": [
      "23 files with 28936 lines in total\n"
     ]
    },
    {
     "data": {
      "text/plain": [
       "succeeded!"
      ]
     },
     "metadata": {},
     "output_type": "display_data"
    },
    {
     "data": {
      "text/plain": [
       "trying..."
      ]
     },
     "metadata": {},
     "output_type": "display_data"
    },
    {
     "data": {
      "text/plain": [
       "failed!"
      ]
     },
     "metadata": {},
     "output_type": "display_data"
    },
    {
     "name": "stdout",
     "output_type": "stream",
     "text": [
      "Exception: Could not find a part of the path '/Users/ralfw/Projects/jupyter-notebooks.github/Notebooks/flow-design-tutorial/foo'.\n"
     ]
    }
   ],
   "source": [
    "class FileStats_v2 {\n",
    "    public static void CountLines(string path) {\n",
    "        Exceptionhandling.Try(\n",
    "            () => Analyze(path),\n",
    "            DisplayException\n",
    "        );\n",
    "    }\n",
    "    \n",
    "    private static void Analyze(string path) {\n",
    "        (int numberOfFiles, int totalNumberOfLines) accumulator = (0,0);\n",
    "        EnumerateFiles(path,\n",
    "            filename => {\n",
    "                var lines = System.IO.File.ReadAllLines(filename);\n",
    "                accumulator.numberOfFiles += 1;\n",
    "                accumulator.totalNumberOfLines += lines.Length;\n",
    "            });\n",
    "        DisplayResult(accumulator);\n",
    "    }\n",
    "    \n",
    "    private static void EnumerateFiles(string path, Action<string> onFile) {\n",
    "        foreach(var filename in System.IO.Directory.GetFiles(path, \"*.*\", System.IO.SearchOption.AllDirectories))\n",
    "            onFile(filename);\n",
    "    }\n",
    "    \n",
    "    \n",
    "    private static void DisplayResult((int numberOfFiles, int totalNumberOfLines) result)\n",
    "        => Console.WriteLine($\"{result.numberOfFiles} files with {result.totalNumberOfLines} lines in total\");\n",
    "    \n",
    "    private static void DisplayException(Exception ex)\n",
    "        => Console.WriteLine($\"Exception: {ex.Message}\");\n",
    "}\n",
    "\n",
    "\n",
    "FileStats_v2.CountLines(\"../entwurf\");\n",
    "FileStats_v2.CountLines(\"../foo\");"
   ]
  },
  {
   "cell_type": "markdown",
   "metadata": {},
   "source": [
    "#### Flüsse teilen und zusammenführen\n",
    "\n",
    "Mehrere Datenflüsse können nicht nur alternativ durchflossen werden, sondern auch gleichzeitig. Das ist z.B. der Fall, wenn Input Teile enthält, die unabhägig von einander verarbeitet werden können. Von der Datenflussnotation her könnte solche Verarbeitung zwar mit einem 1-dimensionalen Datenfluss modelliert werden, aber klarer ist es, wenn Parallelität auch visuell ausgedrückt wird.\n",
    "\n",
    "##### Split/Join\n",
    "\n",
    "Als Beispiel mag die Analyse von Dateien in Bezug auf zwei Aspekte dienen: einerseits soll ihre Zeilenzahl bestimmt werden, andererseits ihre Wortanzahl. Beide Informationen werden anschließend zu einem Ergebnis zusammengeschnürt.\n",
    "\n",
    "![](images/df113.png)\n",
    "\n",
    "Nach dem Laden der Datei wird der Datenfluss geteilt (split), beide Verarbeitungszweige laufen unabhängig, am Ende werden deren Teilergebnisse zu einem Gesamtergebnis zusammengeführt (join).\n",
    "\n",
    "Sofern eine Zusammenführung unaufwändig ist, muss keine eigens benannte Funktionseinheit dafür modelliert werden. Es reicht das join-Symbol wie hier gezeigt."
   ]
  },
  {
   "cell_type": "code",
   "execution_count": 164,
   "metadata": {},
   "outputs": [
    {
     "data": {
      "text/html": [
       "<table><thead><tr><th>NumberOfLines</th><th>NumberOfWords</th></tr></thead><tbody><tr><td>15</td><td>79</td></tr></tbody></table>"
      ]
     },
     "metadata": {},
     "output_type": "display_data"
    }
   ],
   "source": [
    "class FileAnalysis {\n",
    "    public class Result {\n",
    "        internal Result(int numberOfLines, int numberOfWords) {\n",
    "            NumberOfLines = numberOfLines;\n",
    "            NumberOfWords = numberOfWords;\n",
    "        }\n",
    "        \n",
    "        public int NumberOfLines {get;}\n",
    "        public int NumberOfWords {get;}\n",
    "    }\n",
    "    \n",
    "    \n",
    "    public static Result Analyze(string filename) {\n",
    "        var text = Load(filename);\n",
    "        return new Result(\n",
    "            CountLines(text),\n",
    "            CountWords(text)\n",
    "        );\n",
    "    }\n",
    "    \n",
    "    \n",
    "    private static string Load(string filename)\n",
    "        => System.IO.File.ReadAllText(filename);\n",
    "    \n",
    "    \n",
    "    private static int CountLines(string text) {\n",
    "        var lines = text.Split('\\n');\n",
    "        return lines.Length;\n",
    "    }\n",
    "    \n",
    "    private static int CountWords(string text) {\n",
    "        var words = text.Split(new[]{' ', '\\t', '\\n', '\\r'}, StringSplitOptions.RemoveEmptyEntries);\n",
    "        return words.Count();\n",
    "    }\n",
    "}\n",
    "\n",
    "\n",
    "display(FileAnalysis.Analyze(\"samples/poem.txt\"));"
   ]
  },
  {
   "cell_type": "markdown",
   "metadata": {},
   "source": [
    "Was im Modell noch explizit ist, geschieht im Code dann fast unmerklich:\n",
    "\n",
    "* Der split findet keine spezielle Übersetzung; dieselben Daten werden einfach als aktuelle Parameter zweier Funktionsaufrufe benutzt.\n",
    "* Die Parallelität der Datenflüsse ist nicht deutlich zu sehen, weil der lineare Quelltext das nicht erlaubt. Nur aus der Benutzung derselben Daten als Input für aufeinander folgende Funktionsaufrufe ist Parallelität herauszulesen.\n",
    "* Der join besteht schlicht in der Nutzung beider Teilergebnisse als Parameter eines weiteren Funktionsaufrufs.\n",
    "\n",
    "In anderen Fällen mögen split und join hingegen sowohl im Modell wie im Code deutlicher zu sehen sein.\n",
    "\n",
    "![](images/df114.png)\n",
    "\n",
    "Zweierlei ist dabei dann zu bedenken:\n",
    "\n",
    "* Split: Fließt Output aus den Ports optional/alternativ oder stets? Optionalität fordert die Modellierung als stream und legt eine Implementation als continuation nahe.\n",
    "* Join: Soll Verarbeitung bei jedem Eintreffen von Input stattfinden, egal auf welchem Port er hineinfließt, oder nur, wenn an allen Ports Input anliegt? Letzteres lässt sich leicht in mehrere Funktionsparameter übersetzen wie oben beim `Result`-Konstruktor zu sehen. Ersteres legt eine Übersetzung in mehrere separate Funktionen einer Klasse nahe.\n",
    "\n",
    "##### Scatter/Gather\n",
    "\n",
    "Ein Beispiel für explizite splits und joins sind echte Parallelverarbeitungsszenarien, d.h. Übersetzungen, in denen mehrere Threads zum Einsatz kommen.\n",
    "\n",
    "Beispiel: Dateien sollen parallel analysiert werden. Anschließend werden alle Analyseergebnisse zu einem zusammengeführt. Die Analyse kann so simpel sein wie die Zählung der Zeilen je Datei.\n",
    "\n",
    "![](images/df115.png)\n",
    "\n",
    "Zunächst findet hier eine unbekannt große Aufsplittung des Datenflusses in parallele/konkurrente Flüsse statt (scatter). Das kann mit einem stream geschehen, bei dem für jedes Element ein Thread gestartet wird.\n",
    "\n",
    "Wie lange die einzelnen Analysen dauern und wieviele es sind, ist bei der Akkumulation des Ergebnisses jedoch nicht bekannt (gather). Wann soll also deren Output ausfließen? Wie weiß die Akkumulation, dass das letzte Analyseergebnis eingetroffen ist? Das kann implizit mittels einer Framework-Abstraktion geschehen (z.B. ein `Task.WaitAll` im .NET Framework) oder explizit durch Vergleich der Zahl der eingetroffenen Ergebnisse mit der zu erwartenden Zahl, die von scatter gemeldet wird. Das Modell zeigt den zweiten Ansatz für gather, um technologieneutraler und expliziter zu sein.\n",
    "\n",
    "Modelle, in denen Parallelverarbeitung eine Rolle spielt, können durch Farben deutlich machen, wie Funktionseinheiten auf Threads verteilt sind. Dadurch kann z.B. Synchronisationsbedarf erkannt und modelliert werden."
   ]
  },
  {
   "cell_type": "code",
   "execution_count": 12,
   "metadata": {},
   "outputs": [
    {
     "data": {
      "text/plain": [
       "  analyzing ../prozess.ipynb"
      ]
     },
     "metadata": {},
     "output_type": "display_data"
    },
    {
     "data": {
      "text/plain": [
       "  analyzing ../anforderungen.ipynb"
      ]
     },
     "metadata": {},
     "output_type": "display_data"
    },
    {
     "data": {
      "text/plain": [
       "  analyzing ../anforderung-logik-lücke.ipynb"
      ]
     },
     "metadata": {},
     "output_type": "display_data"
    },
    {
     "data": {
      "text/plain": [
       "  analyzing ../index.ipynb"
      ]
     },
     "metadata": {},
     "output_type": "display_data"
    },
    {
     "data": {
      "text/plain": [
       "  analyzing ../entwurf/entwurf_1.ipynb"
      ]
     },
     "metadata": {},
     "output_type": "display_data"
    },
    {
     "data": {
      "text/plain": [
       "  analyzing ../codierung/arbeitsorganisation.ipynb"
      ]
     },
     "metadata": {},
     "output_type": "display_data"
    },
    {
     "data": {
      "text/plain": [
       "  analyzing ../analyse/slicing.ipynb"
      ]
     },
     "metadata": {},
     "output_type": "display_data"
    },
    {
     "data": {
      "text/plain": [
       "  analyzing ../anatomie/radikale_oo.ipynb"
      ]
     },
     "metadata": {},
     "output_type": "display_data"
    },
    {
     "data": {
      "text/plain": [
       "  analyzing ../anatomie/ioda.ipynb"
      ]
     },
     "metadata": {},
     "output_type": "display_data"
    },
    {
     "data": {
      "text/plain": [
       "  analyzing ../anatomie/dimensionen.ipynb"
      ]
     },
     "metadata": {},
     "output_type": "display_data"
    },
    {
     "data": {
      "text/plain": [
       "10 files with 5601 lines total"
      ]
     },
     "metadata": {},
     "output_type": "display_data"
    }
   ],
   "source": [
    "using System.Threading;\n",
    "\n",
    "\n",
    "class ConcurrentFileAnalysis {\n",
    "    public static (int numberOfFiles, int totalNumberOfLines) Analyze(string path) {\n",
    "        var acc = new Accumulator();\n",
    "        \n",
    "        var filenames = CompileFiles(path);\n",
    "        Scatter(filenames,\n",
    "            filename => {\n",
    "                var numberOfLines = AnalyzeFile(filename);\n",
    "                acc.Add(numberOfLines);\n",
    "            },\n",
    "            acc.SetNumberOfValuesToExpect\n",
    "        );\n",
    "            \n",
    "        return acc.Gather();\n",
    "    }\n",
    "    \n",
    "    private static string[] CompileFiles(string path) {\n",
    "        var filenames = System.IO.Directory.GetFiles(path, \"*.ipynb\", System.IO.SearchOption.AllDirectories);\n",
    "        return filenames.Where(filename => filename.IndexOf(\"/.\") < 0).ToArray();\n",
    "    }\n",
    "    \n",
    "    private static void Scatter(string[] filenames, Action<string> onFilename, Action<int> onAllScattered) {\n",
    "        foreach(var filename in filenames) {\n",
    "            var th = new Thread(() => onFilename(filename));\n",
    "            th.Start();\n",
    "        }\n",
    "        onAllScattered(filenames.Length);\n",
    "    }\n",
    "    \n",
    "    private static int AnalyzeFile(string filename) {\n",
    "        display($\"  analyzing {filename}\");\n",
    "        var lines = System.IO.File.ReadAllLines(filename);\n",
    "        return lines.Length;\n",
    "    }\n",
    "}\n",
    "\n",
    "\n",
    "private class Accumulator {\n",
    "    private object _lock = new Object();\n",
    "    private AutoResetEvent _are = new AutoResetEvent(false);\n",
    "\n",
    "    private int _numberOfValuesToExpect = 0;\n",
    "    private int _numberOfValuesReceived = 0;\n",
    "\n",
    "    private int _total;\n",
    "\n",
    "    \n",
    "    public void SetNumberOfValuesToExpect(int numberOfValuesToExpect) {\n",
    "        lock(_lock) {\n",
    "            _numberOfValuesToExpect = numberOfValuesToExpect;\n",
    "            \n",
    "            if (_numberOfValuesReceived >= _numberOfValuesToExpect)\n",
    "                _are.Set();\n",
    "        }\n",
    "    }\n",
    "\n",
    "    public void Add(int value) {\n",
    "        lock(_lock) {\n",
    "            _numberOfValuesReceived++;\n",
    "             _total += value;\n",
    "            \n",
    "            if (_numberOfValuesToExpect > 0 && _numberOfValuesReceived >= _numberOfValuesToExpect)\n",
    "                 _are.Set();\n",
    "        }\n",
    "    }\n",
    "    \n",
    "    public (int numberOfValues, int totalValue) Gather() {\n",
    "        _are.WaitOne();\n",
    "        return (_numberOfValuesToExpect, _total);\n",
    "    }\n",
    "}\n",
    "\n",
    "\n",
    "var result = ConcurrentFileAnalysis.Analyze(\"..\");\n",
    "display($\"{result.numberOfFiles} files with {result.totalNumberOfLines} lines total\");"
   ]
  },
  {
   "cell_type": "markdown",
   "metadata": {},
   "source": [
    "Die Implementation des Modells benutzt bewusst Multi-Threading-Primitiven, um für Leser mit unterschiedlichen Plattformerfahrungen verständlich zu sein.\n",
    "\n",
    "Der `Accumulator` ist als eigene Klasse herausgezogen, um seinen Zustand zu isolieren und mit den davon abhängigen Funktionseinheiten zusammenzufassen. Auf weitere Klassen wurde bewusst verzichtet, um den Fokus auf den Funktionen für die Funktionseinheiten im Modell zu halten. Dadurch ist die Accumulation für sich genommen auch leicht testbar.\n",
    "\n",
    "Die weiteren Funktionseinheiten sind nicht über Klassen differenziert. Angesichts ihrer sehr unterschiedlichen Verantwortlichkeiten ist das ultimativ nicht wünschenswert, für den Zweck hier jedoch ausreichend. Mehr dazu beim Thema Module. Wesentlich ist, dass die Verantwortlichkeiten überhaupt in eigene Funktionen vorliegen, die grundsätzlich leicht zu testen sind. Eine `private` Sichtbarkeit scheint dem im Wege zu stehen, ist aber nicht wirklich ein Problem. Mehr dazu beim Thema Codierung.\n",
    "\n",
    "### Zusammenfassung\n",
    "\n",
    "Datenflüsse sind die intuitive Übersetzung von IOSP und PoMO in eine Modellierungssprache. Sie sind leichtgewichtig als Notation und reich an deklarativer Ausdrucksfähigkeit. Für Flow-Design stellen sie den Startpunkt jeder Modellierung von Softwaresystemen dar, sobald klar ist, welche Nachrichten aus der Umwelt zu verarbeiten sind.\n",
    "\n",
    "Es braucht eine gewisse Zeit, das gewohnheitsmäßige imperative und detailfokussierte Denken hinter sich zu lassen. Das lässt Datenflussmodellierung am Anfang durchaus umständlich oder nicht ausdrucksstark genug erscheinen. Mit etwas gutem Durchhaltewillen wird dieses Tal der Tränen jedoch zügig durchschritten - um am Ende zurückzuschauen mit einem Kopfschütteln, wie jemals weniger visuell, weniger verständlich und vor allem mit funktionalen Abhängigkeiten modelliert und implementiert werden konnte.\n",
    "\n",
    "Das bedeutet nicht, dass Datenflüsse der einzige Modellierungspfeil im Köcher sein sollten. Insbesondere Zustandsautomaten bieten sich immer wieder als Alternative an, wenn ein Datenflussmodell umständlich zu werden droht. Dennoch steht Flow-Design für die Überzeugung, dass Datenflüsse der Einstiegspunkt der Nachdenkens über Softwarelösungen sein sollten. Software transformiert Daten; Transformationen laufen in Prozessen ab; Prozesse bestehen aus Schritten, die gegenseitig Produzenten und Konsumenten von Daten sind. Das ist eine natürliche Sichtweise auf die Struktur und Arbeitsweise von Software wie von Organisationen.\n",
    "\n",
    "Nicht nur braucht es eine gewisse Zeit, überhaupt (mit Datenflüssen) zu modellieren, bevor man codiert. Es braucht auch Gewöhnung an die zeitlich begrenzte Bedeutung dieser Modelle. Deshalb sind die Zeichnungen in diesen Notizbüchern auch alle skizzenhaft angelegt: das unterstreicht ihre temporäre und persönliche Bedeutung.\n",
    "\n",
    "Datenflüsse können natürlich zur Dokumentation angefertigt und abgeheftet werden. Dazu hat Flow-Design jedoch eher keine Meinung. Flow-Design beschäftigt sich nicht mit Dokumentation von Vorhandenem, sondern mit dem kreativien Prozess des Erfindens von Neuem. Auf diesem Weg will Flow-Design mit Notation, Prinzipien und Praktiken unterstützen. Es besteht deshalb kein Anspruch, dass Modelle über längere Zeit Gültigkeit haben oder von Personen jenseits des Erstellerkreises verstanden werden.\n",
    "\n",
    "Selbstverständlich soll ihre visuelle Abstraktion helfen, Lösungsansätze im Kopf zu behalten, besser überblicken und diskutieren zu können. Das Wesentliche passiert dabei jedoch weiterhin in den Köpfen der Beteiligten. Die visuellen Modelle dienen dabei zum schnellen Abgleich von mentalen Modellen. Verschwinden die Köpfe, die sie ersonnen haben, verschwindet viel ihres Wertes.\n",
    "\n",
    "Wer mit einem Flow-Design konfrontiert ist, sollte sich daher nach einem Führer durch die Datenflüsse umsehen. Das ist also nicht nur nötig beim einer ersten Konfrontation mit Code, sondern auch bei Modellen. Ihre Visualität darf nicht darüber hinwegtäuschen, dass auch sie nur unvollständige Wiedergaben von mentalen Modellen sind. Wer nur ein Modell betrachtet, dem fehlen Informationen. Die durch Deutung zu beschaffen, ist mühsam.\n",
    "\n",
    "Für Code ist der Intrepreations- und Deutungsaufwand natürlich noch viel größer. Doch auch für Modelle besteht er. Entwurfssitzungen erzeugen also keine zeitlose Dokumentation, sondern nur beim Denken und Codieren unterstützende Skizzen - von denen in der Implementation mit Augenmaß auch abgewichen werden kann.\n",
    "\n",
    "Die wohlfeile Kritik, dass Entwurfsdiagramme zu schnell inkonsistent mit dem Code werden würden, als dass sie nützlich seien, perlt an Flow-Design ab. Flow-Design hat keinen auch nur mittelfristigen Konsistenzanspruch für seine Modelle. Sie dienen im Moment des Entwurfs zur Unterstützung des eigenen Denkens und der Kommunikation im Team. Nicht mehr und nicht weniger. Anschließend leiten sie die Codierung, aus der mit ihnen einige implizite ad hoc Kreativität herausgepresst wird. Das beschleunigt die Codierung und führt zu Code auf hohem, vergleichbarem Sauberkeitsniveau, der im Review wenige Reibungspunkte bieten sollte.\n",
    "\n",
    "Nach dem Review haben die Modelle ihre Schuldigkeit getan. Die Wahrheit liegt dann im Code - der sich angesichts der IOSP/PoMO-Konformität jedoch leicht zurückübersetzen lässt in Modelle."
   ]
  }
 ],
 "metadata": {
  "kernelspec": {
   "display_name": ".NET (C#)",
   "language": "C#",
   "name": ".net-csharp"
  },
  "language_info": {
   "file_extension": ".cs",
   "mimetype": "text/x-csharp",
   "name": "C#",
   "pygments_lexer": "csharp",
   "version": "8.0"
  }
 },
 "nbformat": 4,
 "nbformat_minor": 4
}
