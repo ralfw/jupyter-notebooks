{
 "cells": [
  {
   "cell_type": "markdown",
   "metadata": {},
   "source": [
    "### 1-dimensionale Datenflüsse\n",
    "\n",
    "Einzelne Funktionsheiten werden in Modellen zu Datenflüssen mehrere Funktionseinheiten zusammengesetzt. Flow-Design nennt das auch \"zusammenstecken\" oder \"verdrahten\" in Anlehnung an elektronische Schaltungen, die übrigens ganz natürlich dem PoMO folgen. Aus 0-dimensionalen Modellen werden so 1-dimensionale: viele punktuelle Funktionseinheiten zusammen ergeben einen linearen Fluss.\n",
    "\n",
    "![](images/df14.png)\n",
    "\n",
    "Wenn der Output einer Funktionseinheit in der Form dem Input einer anderen entspricht, können beide in eine producer-consumer Beziehung gebracht werden. Sie spannen dann einen Transformationsfluss auf.\n",
    "\n",
    "Die Übersetzung eines 1-dimensionalen Flusses ist trivial: die Funktionen der einzelnen Funktionseinheiten..."
   ]
  },
  {
   "cell_type": "code",
   "execution_count": 45,
   "metadata": {},
   "outputs": [],
   "source": [
    "// Funktionseinheiten\n",
    "int[] Map(string roman)\n",
    "    => roman.ToCharArray()\n",
    "            .Select(romanDigit => romanDigit switch {\n",
    "                        'I' => 1, 'V' => 5, 'X' => 10,\n",
    "                        'L' => 50, 'C' => 100, 'D' => 500,\n",
    "                        'M' => 1000\n",
    "                    })\n",
    "            .ToArray();\n",
    "\n",
    "int[] Negate(int[] values) {\n",
    "    var negatedValues = (int[])values.Clone();\n",
    "    for(var i=0; i<negatedValues.Length-1; i++)\n",
    "    if (negatedValues[i]<negatedValues[i+1])\n",
    "        negatedValues[i] *= -1;\n",
    "    return negatedValues;\n",
    "}\n",
    "\n",
    "int Sum(IEnumerable<int> values) {\n",
    "    var sum = 0;\n",
    "    foreach(var v in values) sum += v;\n",
    "    return sum;\n",
    "}"
   ]
  },
  {
   "cell_type": "markdown",
   "metadata": {},
   "source": [
    " ...werden schlicht nacheinander aufgerufen. Der Compiler gibt Feedback, ob die Bausteine eines Datenflusses zueinander passen."
   ]
  },
  {
   "cell_type": "code",
   "execution_count": 46,
   "metadata": {},
   "outputs": [
    {
     "data": {
      "text/plain": [
       "XIV=14"
      ]
     },
     "metadata": {},
     "output_type": "display_data"
    }
   ],
   "source": [
    "// Datenfluss\n",
    "var values = Map(\"XIV\");\n",
    "values = Negate(values);\n",
    "var decimalNumber = Sum(values);\n",
    "\n",
    "display($\"XIV={decimalNumber}\");"
   ]
  },
  {
   "cell_type": "markdown",
   "metadata": {},
   "source": [
    "In dieser Übersetzung verliert das Modell des Datenflusses zwar seine Eigenschaft der grundsätzlichen Asynchronizität seiner Transformationsschritte, doch das ist in den meisten Fällen unerheblich. Datenflüsse sind auch Datenflüsse, wenn sie synchron operieren. Das Modell hat trotzdem einen hohen Wert durch seine Abstraktion.\n",
    "\n",
    "Die Funktionseinheiten, die im 1-dimensionalen Datenfluss verdrahtet werden, sind (zunächst) Operationen. Der Datenfluss stellt ihre Integration dar: alle einzelnen Transformationen bilden in spezifischer Weise zusammengesteckt eine größere Transformation.\n",
    "\n",
    "#### Datenströme\n",
    "\n",
    "Solche Übersetzung von 1-dimensionalen Flüssen als Lösungen von größeren Problemen in Form einer Abfolge von Lösungen kleinerer Probleme funktionieren auch für Ströme von Einzeldaten statt Collections.\n",
    "\n",
    "Datenströme sind nützlich, wenn...\n",
    "\n",
    "* ...die Zahl der zu erzeugenden Output-Datenelemente unbekannt und wahrscheinlich groß ist. In dem Fall soll vielleicht vermieden werden, alle Datenelemente in einer Collection im Hauptspeicher zu sammeln.\n",
    "* ...die Generierung aller Output-Datenelemente erhebliche Zeit in Anspruch nimmt. In dem Fall sollen schon generierte Output-Daten schon downstream in Verarbeitung gehen, während weitere beschafft werden.\n",
    "* ...ein Datenfluss besser zu verstehen und/oder zu übersetzen ist als Strom von Einzeldaten.\n",
    "\n",
    "Als Beispiel dafür mag die Traversierung eines Verzeichnisbaumes dienen, in dem Dateien eines bestimmten Typs gesucht werden, um sie zu analysieren. Zu ermitteln ist die Gesamtanzahl der Worte in relevanten Dateien.\n",
    "\n",
    "![](images/df15.png)\n",
    "\n",
    "Die Zahl der zu prüfenden Dateien ist in so einem Szenario womöglich schwer abzuschätzen und/oder die Lösung ist leichter \"zu denken\", wenn die Analyse sich auf einzelne Dateien konzentriert.\n",
    "\n",
    "Zuerst die Übersetzung der Funktionseinheiten, der Bausteine des Flusses. Jede ist nur eine kleine Operation mit wenigen Zeilen Code:"
   ]
  },
  {
   "cell_type": "code",
   "execution_count": 47,
   "metadata": {},
   "outputs": [],
   "source": [
    "void EnumerateFiles(string path, Action<string> onFilename) {\n",
    "    // Die Logik hier ist aufwändiger als nötig aus didaktischen Gründen, um einen Output-Strom zu erzeugen.\n",
    "    var filenames = System.IO.Directory.GetFiles(path);\n",
    "    foreach(var f in filenames) {\n",
    "        onFilename(f);\n",
    "    }\n",
    "    \n",
    "    var subdirectories = System.IO.Directory.GetDirectories(path);\n",
    "    foreach(var d in subdirectories)\n",
    "        EnumerateFiles(d,\n",
    "              onFilename);\n",
    "}\n",
    "\n",
    "void FilterByEndOfFilename(string filename, string pattern, Action<string> onFilename) {\n",
    "    if (filename.EndsWith(pattern))\n",
    "        onFilename(filename);\n",
    "}\n",
    "\n",
    "string Load(string filename) \n",
    "    => System.IO.File.ReadAllText(filename);\n",
    "\n",
    "string[] SplitIntoWords(string text)\n",
    "    => text.Split(new[]{' ', '\\n', '\\t'}, StringSplitOptions.RemoveEmptyEntries);\n",
    "\n",
    "void Print(string filename, int numberOfWords) {\n",
    "    display($\"{filename} with {numberOfWords} words\");\n",
    "}"
   ]
  },
  {
   "cell_type": "markdown",
   "metadata": {},
   "source": [
    "Und dann die Übersetzung des Flusses. Die mag ein wenig gewöhnungsbedürftig sein in der Schachtelung der Lambda-Funktionen als continuations. Doch das verliert sich, wenn man es ein paar Mal geschrieben und gelesen hat. Der Gewinn der Gewöhnung liegt dann darin, eine geradlinige Übersetzung für Datenflüsse mit Strömen zu haben, die in jedem Schritt gut testbar ist."
   ]
  },
  {
   "cell_type": "code",
   "execution_count": 49,
   "metadata": {},
   "outputs": [
    {
     "data": {
      "text/plain": [
       "../anforderungen.ipynb with 4475 words"
      ]
     },
     "metadata": {},
     "output_type": "display_data"
    },
    {
     "data": {
      "text/plain": [
       "../prozess.ipynb with 1827 words"
      ]
     },
     "metadata": {},
     "output_type": "display_data"
    },
    {
     "data": {
      "text/plain": [
       "../anforderung-logik-lücke.ipynb with 3276 words"
      ]
     },
     "metadata": {},
     "output_type": "display_data"
    },
    {
     "data": {
      "text/plain": [
       "../index.ipynb with 125 words"
      ]
     },
     "metadata": {},
     "output_type": "display_data"
    },
    {
     "data": {
      "text/plain": [
       "../entwurf/entwurf_1.ipynb with 3485 words"
      ]
     },
     "metadata": {},
     "output_type": "display_data"
    },
    {
     "data": {
      "text/plain": [
       "../entwurf/.ipynb_checkpoints/entwurf_1-checkpoint.ipynb with 3388 words"
      ]
     },
     "metadata": {},
     "output_type": "display_data"
    },
    {
     "data": {
      "text/plain": [
       "../codierung/arbeitsorganisation.ipynb with 37 words"
      ]
     },
     "metadata": {},
     "output_type": "display_data"
    },
    {
     "data": {
      "text/plain": [
       "../codierung/.ipynb_checkpoints/arbeitsorganisation-checkpoint.ipynb with 37 words"
      ]
     },
     "metadata": {},
     "output_type": "display_data"
    },
    {
     "data": {
      "text/plain": [
       "../analyse/slicing.ipynb with 49 words"
      ]
     },
     "metadata": {},
     "output_type": "display_data"
    },
    {
     "data": {
      "text/plain": [
       "../analyse/.ipynb_checkpoints/slicing-checkpoint.ipynb with 49 words"
      ]
     },
     "metadata": {},
     "output_type": "display_data"
    },
    {
     "data": {
      "text/plain": [
       "../anatomie/radikale_oo.ipynb with 3736 words"
      ]
     },
     "metadata": {},
     "output_type": "display_data"
    },
    {
     "data": {
      "text/plain": [
       "../anatomie/ioda.ipynb with 3216 words"
      ]
     },
     "metadata": {},
     "output_type": "display_data"
    },
    {
     "data": {
      "text/plain": [
       "../anatomie/dimensionen.ipynb with 2475 words"
      ]
     },
     "metadata": {},
     "output_type": "display_data"
    },
    {
     "data": {
      "text/plain": [
       "../anatomie/.ipynb_checkpoints/radikale_oo-checkpoint.ipynb with 3736 words"
      ]
     },
     "metadata": {},
     "output_type": "display_data"
    },
    {
     "data": {
      "text/plain": [
       "../anatomie/.ipynb_checkpoints/dimensionen-checkpoint.ipynb with 2475 words"
      ]
     },
     "metadata": {},
     "output_type": "display_data"
    },
    {
     "data": {
      "text/plain": [
       "../anatomie/.ipynb_checkpoints/ioda-checkpoint.ipynb with 3216 words"
      ]
     },
     "metadata": {},
     "output_type": "display_data"
    },
    {
     "data": {
      "text/plain": [
       "../.ipynb_checkpoints/anatomie_1-checkpoint.ipynb with 3734 words"
      ]
     },
     "metadata": {},
     "output_type": "display_data"
    },
    {
     "data": {
      "text/plain": [
       "../.ipynb_checkpoints/anforderung-logik-lücke-checkpoint.ipynb with 3276 words"
      ]
     },
     "metadata": {},
     "output_type": "display_data"
    },
    {
     "data": {
      "text/plain": [
       "../.ipynb_checkpoints/anatomie_3-checkpoint.ipynb with 3372 words"
      ]
     },
     "metadata": {},
     "output_type": "display_data"
    },
    {
     "data": {
      "text/plain": [
       "../.ipynb_checkpoints/prozess-checkpoint.ipynb with 1827 words"
      ]
     },
     "metadata": {},
     "output_type": "display_data"
    },
    {
     "data": {
      "text/plain": [
       "../.ipynb_checkpoints/index-checkpoint.ipynb with 115 words"
      ]
     },
     "metadata": {},
     "output_type": "display_data"
    },
    {
     "data": {
      "text/plain": [
       "../.ipynb_checkpoints/anatomie_2-checkpoint.ipynb with 2549 words"
      ]
     },
     "metadata": {},
     "output_type": "display_data"
    },
    {
     "data": {
      "text/plain": [
       "../.ipynb_checkpoints/anforderungen-checkpoint.ipynb with 4473 words"
      ]
     },
     "metadata": {},
     "output_type": "display_data"
    }
   ],
   "source": [
    "EnumerateFiles(\"..\",\n",
    "    filename => FilterByEndOfFilename(filename, \".ipynb\",\n",
    "          filename => {\n",
    "              var text = Load(filename);\n",
    "              var words = SplitIntoWords(text);\n",
    "              Print(filename, words.Length);\n",
    "          })\n",
    ");"
   ]
  },
  {
   "cell_type": "markdown",
   "metadata": {},
   "source": [
    "`EnumerateFiles` erzeugt für eine Input-Nachricht einen Strom von Output-Nachrichten. `FilterByEndOfFilename` hingegen hat die Aufgabe, Input zu verschlucken, falls er nicht dem Filterkriterium entspricht. Das klingt sehr unterschiedlich, ist letztlich jedoch dasselbe: Der Strom dient in beiden Fällen zur Ausgabe einer unbekannten Zahl von Elementen, das können 1 oder 1000 sein - oder auch gar keines.\n",
    "\n",
    "Eine Funktion, die ein Resultat mittels `return` liefert, ist gezwungen, eines zu produzieren, selbst wenn das `null` sein sollte. Eine Funktion, die ihr Resultat stattdessen über eine continuation \"hinausschiebt\", kann auch entscheiden, gar kein Resultat zu liefern! Deshalb ist die Übersetzung von Datenfluss-Funktionseinheiten in Funktionen mit continuation die universellere, wenn auch etwas aufwändigere."
   ]
  }
 ],
 "metadata": {
  "kernelspec": {
   "display_name": ".NET (C#)",
   "language": "C#",
   "name": ".net-csharp"
  },
  "language_info": {
   "file_extension": ".cs",
   "mimetype": "text/x-csharp",
   "name": "C#",
   "pygments_lexer": "csharp",
   "version": "8.0"
  }
 },
 "nbformat": 4,
 "nbformat_minor": 4
}
