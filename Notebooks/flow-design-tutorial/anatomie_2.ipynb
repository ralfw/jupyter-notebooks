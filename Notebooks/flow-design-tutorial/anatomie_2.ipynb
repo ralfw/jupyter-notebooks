{
 "cells": [
  {
   "cell_type": "markdown",
   "metadata": {},
   "source": [
    "## IODA Architektur\n",
    "\n",
    "Die Radikale Objektorientierung mit ihren Prinzipien PoMO und IOSP definiert für Flow-Design die grundlegende Struktur von Software. *Messaging* ist das Paradigma für die Kommunikation zwischen Funktionseinheiten. Software steht damit dem Lebendigen näher als dem Mechanischen: Software wächst aus einer Zelle heran zu einem komplexen Gebilde, das sich ständig neuen Anforderungen anpasst.\n",
    "\n",
    "### Wachsende Differenzierung\n",
    "\n",
    "Flow-Design versteht Software quasi als \"Schau\", dessen \"Blasen\" sich immer weiter differenzieren. Alles beginnt mit einer \"Blase\" \"für alles\". Sie steht für eine komplette Problemlösung, ein gewünschtes Gesamtverhalten. Sie leistet mit ihrer Logik alle geforderten Nachrichtentransformationen.\n",
    "\n",
    "/// 1 blase mit input u output (1)\n",
    "\n",
    "Und diese Blase differenziert sich dann, wenn die Anforderungen an sie wachsen. Zuerst zerfällt sie vielleicht in zwei oder drei kleinere Blasen:\n",
    "\n",
    "/// 1 blase differenziert sich in 2-3 kleinere. farblich unterschiedlich. (2)\n",
    "\n",
    "Dann differenzieren sich die weiter in jeweils zwei, drei, vier noch spezifischere Blasen:\n",
    "\n",
    "/// die kleineren blasen zerfallen weiter in je 2-4 kleinere (3)\n",
    "\n",
    "Und so weiter und so fort...\n",
    "\n",
    "/// ein objektschaut mit vielen größeren und kleineren blasen, die alle wieder weitere enthalten. (4)\n",
    "\n",
    "Die Verbindungen der Blasen in Form von Nachrichtenkanälen sind in diesem Bild der Einfachheit halber ausgeblendet. Dass zwischen den Blasen in den Strata nur unidirektional Daten fließen und die Blasen einander nicht kennen und dass nur die innersten Blasen Logik enthalten, ist schon ausführlich beschrieben worden. Das Bild vom Schaum soll vielmehr den Gedanken des Wachstums vermitteln: Logik in Software nimmt ständig an Menge zu. Neue Features verändern Logik und fügen vor allem neue hinzu. Um bei dem Wachstum den Überblick zu behalten, um produktiv zu bleiben, ist Logik zu getrennten Verantwortlichkeiten zusammenzufassen. Das ist mit Differenzierung gemeint."
   ]
  },
  {
   "cell_type": "markdown",
   "metadata": {},
   "source": [
    "#### Funktionen als Container für Funktionalität\n",
    "\n",
    "Zuerst findet eine funktionale Differenzierung statt. Logik, die bisher \"auf einem Haufen gelegen hat\", wird auf verschiedene \"Haufen\" verteilt. Das geschieht im Code mittels Funktionen als Container; zunächst entstehen also Operationen. Jede Operation stellt einen anderen Teil des Verhaltens her. Integrationen komponieren aus Operationen mit ganz unterschiedlicher Logik für ganz unterschiedliche Verantwortlichkeiten dann höhere Funktionseinheiten, deren Details im Weiteren uninteressant sind. Eine Integration stellt für andere Funktionseinheiten eine Black Box dar.\n",
    "\n",
    "Das schrittweise Wachsen und Ausdifferenzieren von Logik in Funktionen hier an einem kleinen Beispiel. Alles beginnt ganz einfach mit einer Anforderung, zu deren Erfüllung nur wenig Logik nötig ist. Doch dann kommen weitere Anforderungen hinzu und die Software soll \"in geordneter Weise\" wachsen:"
   ]
  },
  {
   "cell_type": "code",
   "execution_count": 11,
   "metadata": {},
   "outputs": [
    {
     "data": {
      "text/html": [
       "10"
      ]
     },
     "metadata": {},
     "output_type": "display_data"
    }
   ],
   "source": [
    "// Anforderung: einziffrige römische Zahlen konvertieren\n",
    "\n",
    "int FromRoman_v1(string roman) { // Operation\n",
    "    return roman[0] switch {\n",
    "        'I' => 1, 'V' => 5, 'X' => 10,\n",
    "        'L' => 50, 'C' => 100, 'D' => 500,\n",
    "        'M' => 1000\n",
    "    };\n",
    "}\n",
    "\n",
    "display(FromRoman_v1(\"X\"));"
   ]
  },
  {
   "cell_type": "code",
   "execution_count": 15,
   "metadata": {},
   "outputs": [
    {
     "data": {
      "text/html": [
       "16"
      ]
     },
     "metadata": {},
     "output_type": "display_data"
    }
   ],
   "source": [
    "// Anforderung: mehrziffrige römische Zahlen konvertieren (ohne Subtraktionsregel)\n",
    "// Die Logik wächst!\n",
    "\n",
    "int FromRoman_v2(string roman) { // Operation\n",
    "    var dezimal = 0;\n",
    "    foreach(var romanDigit in roman.ToCharArray())\n",
    "        dezimal += romanDigit switch {\n",
    "            'I' => 1, 'V' => 5, 'X' => 10,\n",
    "            'L' => 50, 'C' => 100, 'D' => 500,\n",
    "            'M' => 1000\n",
    "        };\n",
    "    return dezimal;\n",
    "}\n",
    "\n",
    "display(FromRoman_v2(\"XVI\"));"
   ]
  },
  {
   "cell_type": "code",
   "execution_count": 37,
   "metadata": {},
   "outputs": [
    {
     "data": {
      "text/html": [
       "166"
      ]
     },
     "metadata": {},
     "output_type": "display_data"
    }
   ],
   "source": [
    "// Ausdifferenzierung der Logik in Funktionen\n",
    "// Refaktorisierung!\n",
    "\n",
    "int FromRoman_v3(string roman) { // Integration\n",
    "    var values = Map(roman);\n",
    "    return Sum(values);\n",
    "}\n",
    "\n",
    "int[] Map(string roman) // Operation\n",
    "    => roman.ToCharArray()\n",
    "            .Select(romanDigit => romanDigit switch {\n",
    "                        'I' => 1, 'V' => 5, 'X' => 10,\n",
    "                        'L' => 50, 'C' => 100, 'D' => 500,\n",
    "                        'M' => 1000\n",
    "                    })\n",
    "            .ToArray();\n",
    "\n",
    "int Sum(IEnumerable<int> values) { // Operation\n",
    "    var sum = 0;\n",
    "    foreach(var v in values) sum += v;\n",
    "    return sum;\n",
    "}\n",
    "\n",
    "\n",
    "display(FromRoman_v3(\"CLXVI\"));"
   ]
  },
  {
   "cell_type": "code",
   "execution_count": 35,
   "metadata": {},
   "outputs": [
    {
     "data": {
      "text/html": [
       "42"
      ]
     },
     "metadata": {},
     "output_type": "display_data"
    }
   ],
   "source": [
    "// Anforderung: Subtraktionsregel beachten\n",
    "// Die Logik wächst!\n",
    "\n",
    "int FromRoman_v4(string roman) { // Widerspruch zum IOSP! Hybride Funktion: operiert und integriert\n",
    "    var values = Map(roman);\n",
    "    for(var i=0; i<values.Length-1; i++)\n",
    "        if (values[i]<values[i+1])\n",
    "            values[i] *= -1;\n",
    "    return Sum(values);\n",
    "}\n",
    "\n",
    "display(FromRoman_v4(\"XLII\"));"
   ]
  },
  {
   "cell_type": "code",
   "execution_count": 36,
   "metadata": {},
   "outputs": [
    {
     "data": {
      "text/html": [
       "1984"
      ]
     },
     "metadata": {},
     "output_type": "display_data"
    }
   ],
   "source": [
    "// Gewachsene Logik weiter in Funktionen ausdifferenzieren\n",
    "// Refaktorisierung!\n",
    "\n",
    "int FromRoman_v5(string roman) { // Integration\n",
    "    var values = Map(roman);\n",
    "    values = Negate(values);\n",
    "    return Sum(values);\n",
    "}\n",
    "\n",
    "int[] Negate(int[] values) { // Operation\n",
    "    var negatedValues = (int[])values.Clone();\n",
    "    for(var i=0; i<negatedValues.Length-1; i++)\n",
    "    if (negatedValues[i]<negatedValues[i+1])\n",
    "        negatedValues[i] *= -1;\n",
    "    return negatedValues;\n",
    "}\n",
    "\n",
    "display(FromRoman_v5(\"MCMLXXXIV\"));"
   ]
  },
  {
   "cell_type": "markdown",
   "metadata": {},
   "source": [
    "Selbstverständlich hätte die ganze Logik in einer Funktion `FromRoman` anwachsen können. Das wäre das übliche Vorgehen - \"bis es irgendwie nicht mehr geht\". Aber wann ist der Punkt erreicht, \"dass es nicht mehr geht\"? Flow-Design ist da sehr rigoros mit dem IOSP: Sobald auch nur ein Teil von Logik aus einer Operation in eine Funktion extrahiert wird, muss die bisherige Operation \"umkippen\" und zu einer Integration werden. Die Refaktorisierung nach `FromRoman_v3` hat sofort das IOSP beachtet. Um schnell das neue Feature herzustellen, hat `FromRoman_v4` jedoch die weitere Logik wider das IOSP zwischen die Funktionsaufrufe geschoben. Das hat `FromRoman_v5` mit einer Refaktorisierung ausgleichen müssen.\n",
    "\n",
    "Das IOSP sorgt mithin dafür, dass unterschiedliche Verantwortlichkeiten sich in einem streng geordneten in der Breite und in der Tiefe wachsenden Funktionsbaum ausdifferenzieren. An der Wurzel steht eine Funktion, die umfassende Verhaltensanforderungen repräsentiert. Darunter hängen Funktionen, die feinere und feinere Teilaspekte erfüllen. Nur die Blätter dieses Baumes enthalten schwer verständliche Logik - allerdings in nur kleinen Mengen.\n",
    "\n",
    "Ohne IOSP können Funktionen beliebig im Umfang wachen. Vorhandener Logik kann weitere hinzugefügt werden; falls Logik unübersichtlich wird, kann ein Teil ausgelagert werden in eine funktionale Abhängigkeit usw. usf. Mit dem IOSP jedoch wachsen Operationen nicht beliebig. Sobald nach vielleicht 20 oder 50 Zeilen Logik die Unverständlichkeit genügend gewachsen ist, muss eine Operation umkippen in eine Integration, sobald auch nur ein Teil der Logik extrahiert wird. Integrationen wachsen auch nicht beliebig, weil schon nach 10 oder 20 Zeilen genügend Funktionsaufrufe beieinander sind, um Teile davon zu extrahieren in eine untergeordnete Integration.\n",
    "\n",
    "Das IOSP sorgt sozusagen dafür, dass die Blasen im Objektschaum immer wieder platzen."
   ]
  },
  {
   "cell_type": "markdown",
   "metadata": {},
   "source": [
    "#### Module als Container für Zwecke\n",
    "\n",
    "Alan Kay hat den Begriff Objekt geprägt. In seiner Analogie war von Klassen nicht die Rede. Objekte sind die Funktionseinheiten, die etwas leisten. Die Übersetzung dafür im Code sind Funktionen, die Logik enthalten. Jede steht für einen Teil einer Laufzeitqualität. Was hat es dann aber mit Klassen auf sich?\n",
    "\n",
    "Wachsende Logik differenziert das IOSP in eine wachsende Zahl von Funktionen. Integrationen ordnen darin Operationen. Integrationen abstrahieren also die Verhaltensproduktion. Integrationen komponieren aus Verschiedenem ein neues Ganzes.\n",
    "\n",
    "Doch die wachsende Zahl von Funktionen - so verständlich und testbar sie Logik kapseln mögen oder als Integrationen nicht einmal enthalten - wird mit der Zeit auch unhandlich. Es braucht ein Ordnungsmittel, um darin den Überblick zu behalten.\n",
    "\n",
    "Wie sich bei näherer Betrachtung zeigt, sind zwar alle Funktionen verschieden in ihrem Verhalten, doch sie gleichen sich in ihrem Zweck. Neben der funktionalen Differenzierungsdimension des Schaums gibt es eine weitere, die des Zwecks. Orthogonal zum Funktionsbaum wächst ein zweiter Baum, der der Module.\n",
    "\n",
    "> **Module fassen Funktionen nach Ähnlichkeit, nach Gemeinsamkeit zusammen.**\n",
    "\n",
    "Module sind Container wie Funktionen und Hosts:\n",
    "\n",
    "* Funktionen mit ihrer direkten und indirekten Integration von Logik dienen der Herstellung funktionaler und nicht-funktionaler Qualitäten.\n",
    "* Hosts beherbergen Funktionen zur Laufzeit, um weitere nicht-funktionale Qualitäten herzustellen.\n",
    "* Module enthalten Funktionen zur Entwicklungszeit, um die Produktivitätsqualität zu steigern.\n",
    "\n",
    "/// im schaum blasen farblich zu modulen zusammenfassen. evtl jetzt den kreis mit einer farbe und den inhalt mit einer anderen? (5)\n",
    "\n",
    "Nach welchen Kriterien Module Funktionen zusammenfassen, sei zunächst dahingestellt. Wesentlich ist, dass ihre Abstraktion eine Aggregation darstellt. Das Motto ist \"Gleich und Gleich gesellt sich gern.\" Integrationen hingegen abstrahierenden Unterschiedliches.\n",
    "\n",
    "Klassen sind nur die unterste Ebene einer Modulhierarchie, die in Erklärungen zum Entwurf noch näher definiert wird. An dieser Stelle soll genügen, Module sehr allgemein als Sammlungen von Funktionen einzuführen, deren Hierarchie orthogonal zur Funktionshierarchie ist.\n",
    "\n",
    "Als Beispiel mag das Modell für diese Anforderungen dienen:\n",
    "\n",
    "> CSV-Daten sollen in eine simple ASCII-Tabelle gewandelt werden.\n",
    "> Die zugehörige Funktion soll so aussehen: `string Tabellieren(string csv)`\n",
    "\n",
    "Beispiel für CSV-Daten:\n",
    "\n",
    "```\n",
    "Name;Strasse;Ort;Alter\n",
    "Peter Pan;Am Hang 5;12345 Einsam;42\n",
    "Maria Schmitz;Kölner Straße 45;50123 Köln;43\n",
    "Paul Meier;Münchener Weg 1;87654 München;65\n",
    "```\n",
    "\n",
    "Beispiel für die daraus zu erzeugende ASCII-Tabelle:\n",
    "\n",
    "```\n",
    "Name         |Strasse         |Ort          |Alter|\n",
    "-------------+----------------+-------------+-----+\n",
    "Peter Pan    |Am Hang 5       |12345 Einsam |42   |\n",
    "Maria Schmitz|Kölner Straße 45|50123 Köln   |43   |\n",
    "Paul Meier   |Münchener Weg 1 |87654 München|65   |\n",
    "```\n",
    "\n",
    "Das Laufzeitmodell zur Lösung der Anforderungen könnte rein aus Operationen bestehen:\n",
    "\n",
    "/// csv tabellieren in einem fluss (6)\n",
    "\n",
    "Mehr Übersichtlichkeit bietet jedoch eine Hiearchie von Funktionseinheiten:\n",
    "\n",
    "/// csv tabellieren in einer hierarchie (7)\n",
    "\n",
    "Jede Funktionseinheit kann als Funktion umgesetzt werden. Mit solcher Differenzierung wäre die Logik verständlich und gut testbar gegliedert. Aber die große Zahl an Funktionen wäre womöglich unübersichtlich. Eine Modularisierung würde helfen, Ordnung in die Funktionen zu bringen.\n",
    "\n",
    "/// csv tabellieren in der hierarchie mit klassen (8)\n",
    "\n",
    "Der Funktionshierarchie stünde damit eine Modulhierarchie gegenüber:\n",
    "\n",
    "/// csv datenfluss als abhängigkeitshierarchie vs klassenhierarchie (9)"
   ]
  },
  {
   "cell_type": "markdown",
   "metadata": {},
   "source": [
    "## System vs Umwelt\n",
    "bisher system - aber was ist drumherum?\n",
    "user und ressourcen\n",
    "\n",
    "hier kommt zustand auch ins spiel\n",
    "\n",
    "## Softwarezelle\n",
    "### Adapter\n",
    "### Domäne\n",
    "### Integration"
   ]
  },
  {
   "cell_type": "code",
   "execution_count": null,
   "metadata": {},
   "outputs": [],
   "source": []
  }
 ],
 "metadata": {
  "kernelspec": {
   "display_name": ".NET (C#)",
   "language": "C#",
   "name": ".net-csharp"
  },
  "language_info": {
   "file_extension": ".cs",
   "mimetype": "text/x-csharp",
   "name": "C#",
   "pygments_lexer": "csharp",
   "version": "8.0"
  }
 },
 "nbformat": 4,
 "nbformat_minor": 4
}
