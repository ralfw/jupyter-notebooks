{
 "cells": [
  {
   "cell_type": "markdown",
   "metadata": {},
   "source": [
    "## IODA Architektur"
   ]
  },
  {
   "cell_type": "markdown",
   "metadata": {},
   "source": [
    "## System vs Umwelt\n",
    "bisher system - aber was ist drumherum?\n",
    "user und ressourcen\n",
    "\n",
    "hier kommt zustand auch ins spiel\n",
    "\n",
    "## Softwarezelle\n",
    "### Adapter\n",
    "### Domäne\n",
    "### Integration"
   ]
  }
 ],
 "metadata": {
  "kernelspec": {
   "display_name": ".NET (C#)",
   "language": "C#",
   "name": ".net-csharp"
  },
  "language_info": {
   "file_extension": ".cs",
   "mimetype": "text/x-csharp",
   "name": "C#",
   "pygments_lexer": "csharp",
   "version": "8.0"
  }
 },
 "nbformat": 4,
 "nbformat_minor": 4
}
