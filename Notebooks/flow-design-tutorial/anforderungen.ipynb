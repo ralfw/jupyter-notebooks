{
 "cells": [
  {
   "cell_type": "markdown",
   "metadata": {},
   "source": [
    "# Anforderungen an Software(entwicklung)\n",
    "\n",
    "![](images/serenity/serenity2.jpg)\n",
    "\n",
    "Kunden stellen Qualitätsanforderungen an Software:\n",
    "\n",
    "* **Funktionale Anforderungen**: Software soll funktional sein, d.h. zum Beispiel eine Rechenfunktion bieten.\n",
    "* **Nicht-funktionale Anforderungen**: Software soll effizient sein, d.h. zum Beispiel schnell rechnen.\n",
    "\n",
    "Software und Hardware gleichen sich darin. Funktionale und nicht-funktionale Anforderungen sollen erfüllt werden. Das sind die Gebrauchs- oder Laufzeitqualitäten von Software.\n",
    "\n",
    "Allerdings ist Software dennoch fundamental anders als Hardware:\n",
    "\n",
    "* Hardware wird in einer Qualität hergestellt und soll diese Qualität über einen Gebrauchszeitraum möglichst behalten.\n",
    "* Hardware kann kaputtgehen, d.h. sie verliert eine Qualität bis zur Unbrauchbarkeit, und muss dann repariert werden. Die Reparatur stellt die Qualität möglichst vollständig wieder her.\n",
    "* Damit Hardware nicht (zur Unzeit) kaputtgeht, kann sie proaktiv gewartet werden. Wartung restauriert verlorene Qualität, bevor Unbrauchbarkeit eingetreten ist.\n",
    "* Hardware soll stabil sein, d.h. sich möglichst wenig verändern in ihren Qualitäten. Kurz, Hardware soll wenig reparaturanfällig sein.\n",
    "\n",
    "Demgegenüber wird Software zwar auch in einer Qualität hergestellt, doch die kann sie nicht durch Gebrauch oder Umwelteinflüsse verlieren; sie kann nicht kaputtgehen und muss daher auch nicht gewartet werden. Wenn bei Gebrauch der Software ein Bug festgestellt wird, dann hat Software nicht eine Qualität verloren, sondern nie gehabt - das wurde nur nicht früher bemerkt.\n",
    "\n",
    "Vor allem aber wird Software nicht einmal in einer Qualität hergestellt, sondern laufend um neue Qualitäten angereichert. Hardware, z.B. ein Kugelschreiber, ein Fön, ein Schrank, ein Auto, haben fixierte Qualitäten; es findet nach der Herstellung keine Erweiterung ihrer Qualitäten statt. Veränderungen dienen höchstens der Wartung oder Reparatur, um ursprüngliche Qualitäten zu erhalten bzw. wieder herzustellen.\n",
    "\n",
    "Software hingegen wächst in ihren Qualitäten ständig. Das ist ein fundamentaler Anspruch des Kunden. Das gehört quasi zur ihrer Natur.\n",
    "\n",
    "Software unterscheidet deshalb in einem weiteren Punkt fundamental von Hardware: Software soll flexibel sein, d.h. sie soll sich möglichst leicht um neue Qualitäten erweitern lassen. Kurz, Software soll sehr wandlungsfähig (evolvierbar) sein.\n",
    "\n",
    "Über die funktionalen und nicht-funktionalen Qualitätsanforderungen hinaus ergibt sich also eine weitere Anforderung:\n",
    "\n",
    "* **Produktivitätsanforderung**: Die Softwareentwicklung muss fähig sein, auf unbestimmt lange Zeit Software in ökonomischer Weise mit einer wachsenden Zahl an Laufzeitqualitäten auszustatten. Nicht nur kurzfristige, sondern *langfristige Produktivität* ist zentral für erfolgreiche Softwareentwicklung.\n",
    "\n",
    "Während Hardware Stabilität in ihren Laufzeitqualitäten aufweisen soll, soll Software Stabilität in ihrer Evolvierbarkeit zeigen. Diese Stabilität zu befördern und zu erhalten, ist der Antrieb hinter Flow-Design."
   ]
  },
  {
   "cell_type": "markdown",
   "metadata": {},
   "source": [
    "## Laufzeitanforderungen\n",
    "\n",
    "Ob das Verhalten von Software die gewünschten Laufzeitqualitäten hat, zeigt sich während der Nutzung von Software. Spätenstens wenn der Kunde Software in Betrieb nimmt, merkt er, ob sie alle Laufzeitqualitäten aufweist. Das ist vergleichsweise einfach - wenn auch im Falle von Qualitätsmängeln frustrierend."
   ]
  },
  {
   "cell_type": "markdown",
   "metadata": {},
   "source": [
    "### Laufzeitanforderungen herstellen I - Logik\n",
    "\n",
    "Laufzeitanforderungen werden vor allem erfüllt durch **Logik**.\n",
    "\n",
    "#### Funktionale Logik\n",
    "\n",
    "Logik ist das, was funktioniert (oder nicht). Logik ist das, was effizient ist (oder nicht).\n",
    "\n",
    "Im Code ist Logik der Teil, der besteht aus:\n",
    "\n",
    "* Transformationen, z.B. `+`, `*`, `&&`, `\"hello\".Length`\n",
    "* Kontrollstrukturen, z.B. `if`, `for`.\n",
    "* I/O bzw. API-Aufrufe, z.B. `System.IO.File.ReadAllLines(\"myfile.txt\")`, `System.Console.WriteLine(\"Hello, World!\")`\n",
    "\n",
    "Oder allgemeiner: **Als Logik können alle Funktionsaufrufe in eine Plattform verstanden werden, auf der eine Software aufsetzt**, d.h. die für sie eine Black Box darstellt. Programmiersprache, Standardbibliothek und anderen Bibliotheken/Frameworks definieren diese Plattform. (Standardoperatoren und Kontrollstrukturen lassen sich als Funktionen verstehen, die eine Programmiersprache mit syntaktischem Zucker überzieht.)\n",
    "\n",
    "Ein Beispiel für den Einsatz von Logik in einer C#-Software:"
   ]
  },
  {
   "cell_type": "code",
   "execution_count": 4,
   "metadata": {},
   "outputs": [],
   "source": [
    "using System;\n",
    "\n",
    "class Program {\n",
    "    public static void Main() {\n",
    "        Console.WriteLine(\"Hello, World!\");\n",
    "    }\n",
    "}"
   ]
  },
  {
   "cell_type": "markdown",
   "metadata": {},
   "source": [
    "So trivial die Aufgabe dieses Programms ist, die Logik ist dafür essenziell. Interessant ist allerdings, dass sich darin lediglich eine Zeile Logik (`Console.WriteLine(...)`) zur Herstellung einer funktionalen Laufzeitqualität befindet - alle anderen Zeilen dienen einem anderen Zweck. Das ist zu rechtfertigen. Dazu gibt Flow-Design Handreichungen."
   ]
  },
  {
   "cell_type": "markdown",
   "metadata": {},
   "source": [
    "#### Effiziente Logik\n",
    "\n",
    "Zunächst stellt Logik die funktionale Qualität von Software her. Sie rechnet, transformiert, stellt dar, lädt, versendet usw.\n",
    "\n",
    "Logik in funktionaler Weise zusammenzustellen, ist die erste und nicht leichte Aufgabe jedes Programmierers. Doch nicht jede funktionale Logik erfüllt auch die nicht-funktionalen Anforderungen an eine Software. Logik (und zugehörige Datenstrukturen) können sehr unterschiedliches Laufzeitverhalten in puncto Effizienz an den Tag legen. Beispiel dafür mag ein Sortieralgorithmus geben:"
   ]
  },
  {
   "cell_type": "code",
   "execution_count": 25,
   "metadata": {},
   "outputs": [],
   "source": [
    "// Quelle: https://www.c-sharpcorner.com/UploadFile/3d39b4/bubble-sort-in-C-Sharp/\n",
    "\n",
    "void BubbleSort(int[] values) {\n",
    "    var flag = true;\n",
    "    for (int i = 1; (i <= (values.Length - 1)) && flag; i++) {  \n",
    "        flag = false;  \n",
    "        for (int j = 0; j < (values.Length - 1); j++) {  \n",
    "            if (values[j + 1] > values[j]) {  \n",
    "                var temp = values[j];  \n",
    "                values[j] = values[j + 1];  \n",
    "                values[j + 1] = temp;  \n",
    "                flag = true;  \n",
    "            }  \n",
    "        }  \n",
    "    }  \n",
    "}"
   ]
  },
  {
   "cell_type": "code",
   "execution_count": 27,
   "metadata": {},
   "outputs": [
    {
     "data": {
      "text/html": [
       "<table><thead><tr><th><i>index</i></th><th>value</th></tr></thead><tbody><tr><td>0</td><td>99</td></tr><tr><td>1</td><td>92</td></tr><tr><td>2</td><td>89</td></tr><tr><td>3</td><td>76</td></tr><tr><td>4</td><td>67</td></tr><tr><td>5</td><td>45</td></tr><tr><td>6</td><td>13</td></tr></tbody></table>"
      ]
     },
     "metadata": {},
     "output_type": "display_data"
    }
   ],
   "source": [
    "var numbers = new[]{ 89, 76, 45, 92, 67, 13, 99 };\n",
    "BubbleSort(numbers);\n",
    "display(numbers);"
   ]
  },
  {
   "cell_type": "markdown",
   "metadata": {},
   "source": [
    "Die Logik ist funktional. Sie sortiert ein Array korrekt. Was sollte daran auszusetzen sein?\n",
    "\n",
    "Aber ist sie auch effizient? Sortiert die Logik das Array schnell?"
   ]
  },
  {
   "cell_type": "code",
   "execution_count": 28,
   "metadata": {},
   "outputs": [
    {
     "data": {
      "text/plain": [
       "Sortierdauer: 456"
      ]
     },
     "metadata": {},
     "output_type": "display_data"
    }
   ],
   "source": [
    "var rnd = new Random();\n",
    "numbers = Enumerable.Range(1,10000).Select(_ => rnd.Next(0,1000)).ToArray();\n",
    "var start = DateTime.Now;\n",
    "BubbleSort(numbers);\n",
    "var msec = DateTime.Now.Subtract(start).Milliseconds;\n",
    "display($\"Sortierdauer: {msec}\");"
   ]
  },
  {
   "cell_type": "markdown",
   "metadata": {},
   "source": [
    "10.000 zufällige Zahlen werden von `BubbleSort` in ca. einer halben Sekunde sortiert. Ob das schnell genug ist oder zu langsam, ist natürlich eine Frage des konkreten Einsatzszenarios. An dieser Stelle geht es aber nicht um Angemessenheit, sondern darum, dass die Auswahl/Zusammenstellung von Logik - der Algorithmus - grundsätzlich einen Einfluss auf Performance und andere nicht-funktionale Qualitäten hat.\n",
    "\n",
    "Zum Vergleich ein anderer Ansatz zum Sortieren: Quicksort."
   ]
  },
  {
   "cell_type": "code",
   "execution_count": 30,
   "metadata": {},
   "outputs": [],
   "source": [
    "// Quelle: https://www.w3resource.com/csharp-exercises/searching-and-sorting-algorithm/searching-and-sorting-algorithm-exercise-9.php\n",
    "\n",
    "void QuickSort(int[] values) => QuickSort(values, 0, values.Length - 1);\n",
    "        \n",
    "void QuickSort(int[] values, int left, int right) {\n",
    "    if (left < right) {\n",
    "        var pivot = Partition(values, left, right);\n",
    "\n",
    "        if (pivot > 1) {\n",
    "            QuickSort(values, left, pivot - 1);\n",
    "        }\n",
    "        if (pivot + 1 < right) {\n",
    "            QuickSort(values, pivot + 1, right);\n",
    "        }\n",
    "    }\n",
    "}\n",
    "\n",
    "int Partition(int[] values, int left, int right)  {\n",
    "    int pivot = values[left];\n",
    "    while (true) {\n",
    "        while (values[left] < pivot) {\n",
    "            left++;\n",
    "        }\n",
    "\n",
    "        while (values[right] > pivot) {\n",
    "            right--;\n",
    "        }\n",
    "\n",
    "        if (left < right) {\n",
    "            if (values[left] == values[right]) return right;\n",
    "\n",
    "            var temp = values[left];\n",
    "            values[left] = values[right];\n",
    "            values[right] = temp;\n",
    "        }\n",
    "        else {\n",
    "            return right;\n",
    "        }\n",
    "    }\n",
    "}"
   ]
  },
  {
   "cell_type": "markdown",
   "metadata": {},
   "source": [
    "Wie lange braucht der Quicksort-Algorithmus für die selbe Aufgabe?"
   ]
  },
  {
   "cell_type": "code",
   "execution_count": 31,
   "metadata": {},
   "outputs": [
    {
     "data": {
      "text/plain": [
       "Sortierdauer: 1"
      ]
     },
     "metadata": {},
     "output_type": "display_data"
    }
   ],
   "source": [
    "var rnd = new Random();\n",
    "numbers = Enumerable.Range(1,10000).Select(_ => rnd.Next(0,1000)).ToArray();\n",
    "var start = DateTime.Now;\n",
    "QuickSort(numbers);\n",
    "var msec = DateTime.Now.Subtract(start).Milliseconds;\n",
    "display($\"Sortierdauer: {msec}\");"
   ]
  },
  {
   "cell_type": "markdown",
   "metadata": {},
   "source": [
    "Quicksort ist im Vergleich zu Bubblesort sehr viel schneller! Logik (zusammen mit Datenstrukturen) hat mithin sichtbar nicht nur Einfluss auf die Funktionalität (hier: Sortierung), sondern auch auf nicht-funktionale Anforderungen (hier: Schnelligkeit).\n",
    "\n",
    "Die Logik so oder anders zu wählen, macht einen Unterschied in Bezug auf die Performance, die Bedienbarkeit oder die Sicherheit usw.\n",
    "\n",
    "> Logik (und Datenstrukturen) in einer geeigneten Weise zu wählen, um Laufzeianforderungen in hoher Qualität zu erfüllen, ist die erste und eine hohe Kunst für jeden Softwareentwickler.\n",
    "\n",
    "Logik als für Laufzeitanforderungen zentralen Codebestandteil herauszuarbeiten, ist Flow-Design ein Anliegen. Durch die Unterscheidung von Logik von anderen Codebestandteilen wird es einfacher zu erklären, warum langfristig hohe Produktivität oft nicht erreicht wird: Weil der Fokus der Softwareentwicklung auf der Logik liegt, d.h. auf dem Code, dessen Effekt unmittelbar spürbar ist.\n",
    "\n",
    "Welche Logik (und Datenstrukturen) zur Lösung von Laufzeitanforderungen gewählt werden sollten, ist darüber hinaus jedoch nicht das Thema von Flow-Design."
   ]
  },
  {
   "cell_type": "markdown",
   "metadata": {},
   "source": [
    "### Laufzeitanforderungen herstellen II - Verteilung\n",
    "\n",
    "Nicht alle nicht-funktionalen Qualiäten lassen sich allerdings durch eine Zusammenstellung von Logik allein herstellen. Das, was auch der beste Algorithmus mit passenden Datenstrukturen erreichen kann, ist begrenzt durch die Prozessorleistung. Logik läuft zunächst ja immer nur auf einem Thread. Selbst wenn dies der einzige Thread eines Prozessorkerns sein sollte und die Logik in ihrer Arbeit nicht unterbrochen würde, wäre ihre Performance begrenzt durch das, was ein Prozessorkern leisten kann. Doch was, wenn z.B. größere Schnelligkeit nötig ist?\n",
    "\n",
    "Mehr Performance oder auch andere Laufzeitqualitäten wie Skalierbarkeit lassen sich erzielen durch Verteilung von Logik auf zunächst mehrere Threads. Dadurch lässt sich Latenz verringern (höhere Performance) oder Latenz verbergen (die Performance wird nicht erhöht, doch der Aufrufer von Logik muss nicht auf sie warten); oder es lässt sich der Durchsatz erhöhen.\n",
    "\n",
    "Beispiel: Bubblesort ist langsam. Wenn zwei Arrays zu sortieren sind, kann das nacheinander geschehen. Die Gesamtdauer ist dann die Summe der Einzelaufwände. "
   ]
  },
  {
   "cell_type": "code",
   "execution_count": 32,
   "metadata": {},
   "outputs": [
    {
     "data": {
      "text/plain": [
       "  numbers1: 105"
      ]
     },
     "metadata": {},
     "output_type": "display_data"
    },
    {
     "data": {
      "text/plain": [
       "  numbers2: 416"
      ]
     },
     "metadata": {},
     "output_type": "display_data"
    },
    {
     "data": {
      "text/plain": [
       "Gesamtsortierdauer: 522"
      ]
     },
     "metadata": {},
     "output_type": "display_data"
    }
   ],
   "source": [
    "var rnd = new Random();\n",
    "var numbers1 = Enumerable.Range(1,5000).Select(_ => rnd.Next(0,1000)).ToArray();\n",
    "var numbers2 = Enumerable.Range(1,10000).Select(_ => rnd.Next(0,1000)).ToArray();\n",
    "var start1 = DateTime.Now;\n",
    "BubbleSort(numbers1);\n",
    "display($\"  numbers1: {DateTime.Now.Subtract(start1).Milliseconds}\");\n",
    "var start2 = DateTime.Now;\n",
    "BubbleSort(numbers2);\n",
    "display($\"  numbers2: {DateTime.Now.Subtract(start2).Milliseconds}\");\n",
    "display($\"Gesamtsortierdauer: {DateTime.Now.Subtract(start1).Milliseconds}\");"
   ]
  },
  {
   "cell_type": "markdown",
   "metadata": {},
   "source": [
    "Doch wenn die beiden Arrays auf verschiedenen Threads auf verschiedenen Cores gleichzeitig sortiert werden könnten, dann würde die Gesamtdauer nur nahe beim größeren Aufwand liegen. Parallelverarbeitung würde die Latenz verringern."
   ]
  },
  {
   "cell_type": "code",
   "execution_count": 33,
   "metadata": {},
   "outputs": [
    {
     "data": {
      "text/plain": [
       "  numbers1: 107"
      ]
     },
     "metadata": {},
     "output_type": "display_data"
    },
    {
     "data": {
      "text/plain": [
       "  numbers2: 425"
      ]
     },
     "metadata": {},
     "output_type": "display_data"
    },
    {
     "data": {
      "text/plain": [
       "Gesamtsortierdauer: 426"
      ]
     },
     "metadata": {},
     "output_type": "display_data"
    }
   ],
   "source": [
    "var rnd = new Random();\n",
    "var numbers1 = Enumerable.Range(1,5000).Select(_ => rnd.Next(0,1000)).ToArray();\n",
    "var numbers2 = Enumerable.Range(1,10000).Select(_ => rnd.Next(0,1000)).ToArray();\n",
    "var start = DateTime.Now;\n",
    "var task1 = Task.Run(() => {\n",
    "    var start1 = DateTime.Now;\n",
    "    BubbleSort(numbers1);\n",
    "    display($\"  numbers1: {DateTime.Now.Subtract(start1).Milliseconds}\");\n",
    "});\n",
    "var task2 = Task.Run(() => {\n",
    "    var start2 = DateTime.Now;\n",
    "    BubbleSort(numbers2);\n",
    "    display($\"  numbers2: {DateTime.Now.Subtract(start2).Milliseconds}\");\n",
    "});\n",
    "Task.WaitAll(task1, task2);\n",
    "display($\"Gesamtsortierdauer: {DateTime.Now.Subtract(start).Milliseconds}\");"
   ]
  },
  {
   "cell_type": "markdown",
   "metadata": {},
   "source": [
    "Nicht-funktionale Qualitäten lassen sich also in zwei Dimensionen beeinflussen:\n",
    "\n",
    "* durch die Auswahl und Zusammenstellung von Logik (und Datenstrukturen)\n",
    "* durch Verteilung auf mehrere Threads"
   ]
  },
  {
   "cell_type": "markdown",
   "metadata": {},
   "source": [
    "#### Logik mit Hosts für Laufzeitqualitäten strukturieren\n",
    "\n",
    "Verteilt läuft Logik, wenn sie auf mehreren Threads läuft. Der Treiber dafür sind nicht-funktionale Anforderungen, die nicht anders erfüllt werden können.\n",
    "\n",
    "Threads sind zwar der elementare Baustein der Verteilung, andererseits stellen sie nur die unterste Ebene einer Hierarchie von Containern dar, auf die Logik zur Laufzeit verteilt werden kann.\n",
    "\n",
    "Container zur Verteilung von Logik zum Zwecke der Herstellung von nicht-funktionalen Qualitäten nennt Flow-Design _Hosts_. Die Host-Hierarchie umfasst die folgenden Ebenen:\n",
    "\n",
    "* Thread\n",
    "* Betriebssystem-Prozess\n",
    "* (Virtuelle) Maschine (hierzu zählen auch Docker Container)\n",
    "* Netzwerk\n",
    "\n",
    "![](images/anforderungen01.png)\n",
    "\n",
    "**Allen Hosts ist gemeinsam, dass die Kommunikation *zwischen* Hosts nur asynchron sein kann und vermittels eines Mediums (z.B. einer Queue) stattfindet. Sie ist damit grundsätzlich langsamer und komplexer als die zwischen Logik im selben Thread.**\n",
    "\n",
    "Je weiter verteilt Logik ist, d.h. je höher in der Host-Hierarchie die Verteilung vorgenommen wird, desto langsamer die Kommunikation zwischen den verteilten Teilen der Logik: inter-Prozess-Kommunikation ist viel langsamer als inter-Thread-Kommunikation usw.\n",
    "\n",
    "Die sinkende Geschwindigkeit von Host-Ebene zu Host-Ebene ist ein Preis, der zu zahlen ist für den Gewinn, den die \"entferntere\" Verteilung auf höherer Ebene andererseits bietet:\n",
    "\n",
    "* Verteilung auf Threads, d.h. parallele Verarbeitung, kann z.B. die Performance erhöhen oder Responsiveness herstellen, wenn der Aufwand zum Wechseln des Thread bzw. der Kommunikationsaufwand deutlich geringer als die Laufzeit der Logik auf einem Thread ist.\n",
    "* Verteilung auf verschiedene Prozesse (auf derselben Maschine) erzeugt zwar einen erheblichen Aufwand für die Kommunikation, bietet aber z.B. Isolation von Speicherbereichen für mehr Sicherheit oder Robustheit des Gesamtsystems gegenüber Teilausfällen.\n",
    "* Verteilung auf verschiedene Maschinen bietet z.B. die Möglichkeit, Prozessor- und Speicherressourcen zu skalieren.\n",
    "* Verteilung auf verschiedene Netzwerke bietet z.B. die Möglichkeit, Logik weiträumig zu verteilen für die Nähe zu Ressourcen oder Erhöhung der Sicherheit."
   ]
  },
  {
   "cell_type": "markdown",
   "metadata": {},
   "source": [
    "> Logik zu verteilen, um nicht-funktionale Anforderungen jenseits der Möglichkeiten der Auswahl und Zusammenstellung von Logik zu erfüllen, ist die zweite hohe Kunst der Softwareentwicklung.\n",
    "\n",
    "Anforderungen an moderne Anwendungen lassen sich kaum ohne Verteilung erfüllen. Aber trotz aller Abstraktionen von Programmiersprachen und Frameworks ist dabei mit Vorsicht und Augenmaß vorzugehen. Schnell erliegt man einem [Trugschluss](https://en.wikipedia.org/wiki/Fallacies_of_distributed_computing).\n",
    "\n",
    "Ob und wie mit Verteilung von Logik Laufzeitanforderungen erfüllt werden können, ist ebenfalls nicht das Thema von Flow-Design. Allerdings übt Verteilung Einfluss auf die Evolvierbarkeit von Software aus. Deshalb ist es für Flow-Design relevant, *dass* es Verteilung gibt. Flow-Design regt dazu an, sich rechtzeitig mit der Strukturierung von Logik mittels Hosts auseinanderzusetzen und macht Angebote für ihre Repräsentation in Analyse und Entwurf."
   ]
  },
  {
   "cell_type": "markdown",
   "metadata": {},
   "source": [
    "## Produktivitätsanforderung\n",
    "\n",
    "Die Produktion von Hardware erfolg einmalig zur Auslieferung. Selbstverständlich soll dabei sichergestellt werden, dass jedes hergestellte Stück alle geforderten Qualitäten hat. Gewöhnlich steht am Anfang der Hardwareproduktion sehr genau fest, was das für Qualitäten sind. Deshalb wird einmalig die Hardware geplant, einmalig der Produktionsprozess aufgesetzt - und dann werden u.U. viele Stücke hergestellt, die alle gleich (oder zumindest sehr ähnlich) aussehen.\n",
    "\n",
    "Das ist bei der modernen (aka agilen) Softwareentwicklung grundsätzlich anders. Zu Beginn der Herstellung einer Software steht erstens nicht genau fest, wie die funktionalen und nicht-funktionalen Anforderungen lauten. Und zweitens steht deshalb auch nicht fest, wie die Struktur eines Softwareproduktes aussehen sollte. Weder gibt es also eine einmalige Anforderungsdefinition, noch eine einmalige Planung und also auch keine einmalige Produktion.\n",
    "\n",
    "Die Produktion erfolgt vielmehr iterativ und inkrementell:\n",
    "\n",
    "* Anforderungsanalyse und Planung und Produktion werden in mehreren Zyklen (Iterationen) durchlaufen.\n",
    "* Das Ergebnis jeder Iteration ist eine neue lauffähige Version der Software mit einem Zuwachs (Inkrement) an funktionaler und nicht-funktionaler Qualität gegenüber der vorherigen Version."
   ]
  },
  {
   "cell_type": "markdown",
   "metadata": {},
   "source": [
    "Solches Vorgehen stellt zum einen Anforderungen an die Organisation der Softwareentwicklung, d.h. Rollen und Zusammenspiel von Entwicklern und anderen Stakeholdern inkl. Tooling und technische Infrastruktur.\n",
    "\n",
    "Zum anderen stellt es Anforderungen an den Code. Logik, die funktional und effizient ist, genügt allein nicht mehr. Sie muss sich auch leicht verändern lassen, um von Iteration zu Iteration, um Inkrement auf Inkrement wachsen zu können.\n",
    "\n",
    "Insgesamt ist sind also Organisation von Menschen und Code so zu wählen, dass die Produktivität nicht nur kurzfristig hoch ist (z.B. für die nächste Iteration), sondern *langfristig hoch bleibt*. Veränderungen für das heutige Inkrement dürfen Veränderungen für zukünftige Inkremente nicht (übermäßig) behindern.\n",
    "\n",
    "Die Softwareentwicklung darin zu unterstützen, ist der Zweck von Flow-Design."
   ]
  },
  {
   "cell_type": "markdown",
   "metadata": {},
   "source": [
    "### Die Säulen langfristig hoher Produktivität\n",
    "\n",
    "Langfristig hohe Produktivität des sozio-technischen Systems bestehend aus Entwicklern und Code steht im Flow-Design auf mehreren Säulen:\n",
    "\n",
    "* Zunächst sind die **Anforderungen in hoher Qualität** zu spezifizieren, bevor mit der Herstellung von auslieferbarer Software begonnen wird. Schlechte Anforderungen ziehen früher oder später Korrekturen nach sich, die den Code in seiner Wandelbarkeit belasten. (Die Formulierung \"bevor\" steht dabei nicht im Widerspruch zu iterativer Entwicklung. Denn nach der Auslieferung ist vor der nächsten Auslieferung, die mit neuen Anforderungen in hoher Qualität zu beginnen hat.)\n",
    "* Da Anforderungen nicht immer (sofort) in hoher Qualität spezifiziert werden können, müssen außerdem Wege zu einer **vorläufigen Umsetzung** gesucht werden. Das kann im Kleinen mit Prototypen geschehen, um Anforderungen gezielt zu schärfen, bevor sie in auslieferbaren Code umgesetzt werden. Das muss im Großen aber auch mit einer Architektur geschehen, die den Austausch von umfangreicheren Teilen des ausgelieferten Codes gestattet, weil dessen Wandlungsfähigkeit über die Zeit immer abnimmt und er irgendwann nur durch eine Neuentwicklung wieder auf ein angemessenes Niveau gehoben werden kann. Prototypen wie austauschbarer Code profitieren von Modularität.\n",
    "* Bei genügend guten Anforderungen muss der Produktionscode jederzeit und für jedermann nachvollziehbar **korrekt** sein. Das ist nur praktikabel mit automatisierten Tests, um...\n",
    "  * seine **Reife** jederzeit überprüfen zu können, d.h. die Frage zu beantworten, ob er *schon* die Anforderungen erfüllt, und\n",
    "  * seine **Stabilität** jederzeit überprüfen zu können, d.h. die Frage zu beantworten, ob er bisherige Anforderungen *noch* erfüllt (also regressionsfrei ist).\n",
    "* Sobald unter Produktionscode ein Netz aus autom. Tests gespannt ist, kann er angstfrei verändert werden. Damit das stets zügig geschehen kann, muss er **wandlungsfähig** sein. Das bedeutet, dass er...\n",
    "  * **verständlich** ist auch für wechselnde Entwickler, denn sonst ist unklar, wie und wo Veränderungen für neue Laufzeitqualitäten anzubringen sind, und dass er...\n",
    "  * **leicht testbar** ist, d.h. jede Veränderung möglichst isoliert auf Qualität geprüft werden kann. (Voraussetzung dafür wiederum ist - wie für die Vorläufigkeit - eine hohe Modularität.)\n",
    "\n",
    "Und schließlich ist eine Verankerung der Anforderung *langfristig hohe Produktivität* (oder *Nachhaltigkeit*) in der produzierenden **Organisation**; sie ist das nötige Fundament unter den Säulen zu dem gehören:\n",
    "\n",
    "* ein expliziter **Prozess**, der auf nachhaltige Produktion ausgelegt ist,\n",
    "* eine explizite **Rolle**, d.h. eine für den Aufbau und den Erhalt der Säulen zuständige Person (oder Gruppe),\n",
    "* explizite **Regeln**, deren Einhaltung von der Rolle beobachtet und durchgesetzt werden.\n",
    "\n",
    "![](images/anforderungen02.png)\n",
    "\n",
    "Organisationskultur drückt sich aus im Organigramm (Rolle) und in Organen (Prozesse), die Regeln und Prinzipien folgen. Wenn die Organisationskultur auf langfristig hohe Produktivität umgestellt werden soll, braucht es dafür also eine sichtbare Willensbekundung im Organigramm und in Organen.\n",
    "\n",
    "> Langfristig hohe Produktivität ist eine Sache der Organisationskultur.\n",
    "\n",
    "Die Erkenntnis auf einem Jahrzehnt Flow-Design Training ist, dass das Ziel langfristig hohe Produktivität weder zügig noch verlässlich erreicht werden kann, wenn es sich nicht in der Organisation genauso manifestiert wie das übliche Ziel, kurzfristig funktionale und nicht-funktionale Anforderungen zu erfüllen. Nachhaltigkeit braucht eine ebenso starke greifbare Verankerung in der Organisation."
   ]
  },
  {
   "cell_type": "markdown",
   "metadata": {},
   "source": [
    "### Produktivität überprüfen\n",
    "\n",
    "Ob die Softwareentwicklung hohe Laufzeitqualität herstellt, ist für den Kunden vergleichsweise einfach zu überprüfen: Er muss die Software schlicht ausprobieren. Dazu ist ein \"Schnappschuss\" des Produktionsstandes ausreichend.\n",
    "\n",
    "Doch wie kann der Kunde die Produktivität und auch noch die langfristige Produktivität der Softwareentwicklung überprüfen? Das geht nur über die Zeit. Grundlage dafür ist für Flow-Design die Aufzeichnung der *Cycle Time* (CT) der Produktion von Inkrementen, z.B. *Issues* oder *Product Backlog Items (PBI)*.\n",
    "\n",
    "Zur Messung der CT ist mindestens ein klarer Startzeitpunkt für die Arbeit an einem Issue sowie ein klarer Fertigstellungszeitpunkt nötig. (Bei Bedarf kann die Produktion aber auch in weitere Phasen gegliedert werden.)\n",
    "\n",
    "Aus der stetig wachsenden CT-Datenmenge lässt sich dann z.B. ein Cumulative Flow Diagram (CFD) ableiten, dessen wechselnde Steigung seiner Kurven für die einzelnen Produktionsphasen Anlässe zur Reflexion über die Entwicklung der Produktivität liefert. Die Qualität der Produktivität braucht stetige Beobachtung.\n",
    "\n",
    "![](images/anforderungen03.png)\n",
    "\n",
    "Darüber hinaus können die \"historischen\" CT-Daten zur Vorhersage künftiger Entwicklung herangezogen werden. Sie haben mithin analytischen wie prediktiven Wert. Das Thema Aufwandsprognose hat im Flow-Design einen besonderen Stellenwert: das weit verbreitete Schätzen wird ersetzt durch Vorhersagen."
   ]
  },
  {
   "cell_type": "markdown",
   "metadata": {},
   "source": [
    "### Code für langfristig hohe Produktivität strukturieren\n",
    "\n",
    "Logik und Verteilung reichen aus, um die Laufzeitanforderungen zu erfüllen. Doch wenn die Menge der funktionalen und effizienten Logik wächst, dann werden alsbald Säulen der langfristig hohen Produktivität geschwächt.\n",
    "\n",
    "Alsbald leidet die Verständlichkeit, weil Logik selbst bedeutungslos ist; ihr muss ja erst durch einen Betrachter im Prozess einer mentalen Interpretation Bedeutung zugewiesen werden. Beispiel:"
   ]
  },
  {
   "cell_type": "code",
   "execution_count": 30,
   "metadata": {},
   "outputs": [
    {
     "data": {
      "text/html": [
       "18"
      ]
     },
     "metadata": {},
     "output_type": "display_data"
    }
   ],
   "source": [
    "var a = new[]{1,5,50};\n",
    "var b = 0;\n",
    "foreach(var c in a) b += c;\n",
    "var d = b/a.Length;\n",
    "display(d);"
   ]
  },
  {
   "cell_type": "markdown",
   "metadata": {},
   "source": [
    "Was tut diese Logik? Ohne weitere Erläuterung ist es selbst bei so wenigen Zeilen schwierig, die Bedeutung, den Zweck, die Funktion herauszufinden. Das steht einer Zügigen Veränderung von Logik entgegen."
   ]
  },
  {
   "cell_type": "markdown",
   "metadata": {},
   "source": [
    "Als zweites leidet die Testbarkeit. Denn bei wachsender Logik gehören darin manche Anweisungen enger zusammen als andere. Unterschiedliche *Verantwortlichkeiten* ergeben sich, die jede für sich testbar sein sollten. Nur so kann auch (bei Bedarf) die Korrektheit dauerhaft mit autom. Tests sichergestellt werden. Beispiel:"
   ]
  },
  {
   "cell_type": "code",
   "execution_count": 22,
   "metadata": {},
   "outputs": [
    {
     "data": {
      "text/plain": [
       "XIV=14"
      ]
     },
     "metadata": {},
     "output_type": "display_data"
    }
   ],
   "source": [
    "var a = \"XIV\";\n",
    "var b = 0;\n",
    "var c = int.MaxValue;\n",
    "foreach(var d in a.ToCharArray()) {\n",
    "    var e = d switch {\n",
    "        'I' => 1, 'V' => 5, 'X' => 10,\n",
    "        'L' => 50, 'C' => 100, 'D' => 500, 'M' => 1000,\n",
    "        _ => throw new InvalidOperationException()\n",
    "    };\n",
    "    if (c < e)\n",
    "        b -= 2*c;\n",
    "    b += e;\n",
    "    c = e;\n",
    "}\n",
    "\n",
    "display($\"{a}={b}\");"
   ]
  },
  {
   "cell_type": "markdown",
   "metadata": {},
   "source": [
    "Was die Logik insgesamt tut, ist am Verhältnis von Input (`a`) zu Output (`b`) erkennbar: eine römische Zahl wird in ihr dezimales Äquivalent konvertiert. Wie das genau passiert, ist allerdings erstens wieder schwer verständlich. (Nur die `switch`-Kontrollstruktur sticht heraus, deren Bedeutung leicht zu erfassen ist.) Darüber hinaus jedoch sind die einzelnen Aspekte der Umwandlung - Übersetzung der römischen Ziffern in dezimale Werte (z.B. 'X' -> 10) oder die Anwendung der \"Subtraktionsregel\" (z.B. bei \"IV\"=4) - nicht für sich genommen testbar. Wie übrigens auch überhaupt die gesamte Logik nicht automatisiert testbar ist."
   ]
  },
  {
   "cell_type": "markdown",
   "metadata": {},
   "source": [
    "> Logik, die hohe funktionale Qualität hat, ist nicht von sich aus auch leicht verständlich oder einfach testbar.\n",
    "\n",
    "Verständlichkeit und Testbarkeit - oder kurz: **Sauberkeit (Clean Code)** - sind darüber hinaus gehende, eigene Qualitäten, die zusätzlichen Aufwand bei der Programmierung erfordern. Das gilt schon für ein triviales Beispiel wie oben und umso mehr für Code, der tausende, gar hunderttausende Logik-Anweisungen umfasst.\n",
    "\n",
    "> Sauberen Code zu schreiben, um langfristige Produktivität mit einer Codebasis zu gewährleisten, ist die dritte hohe Kunst der Softwareentwicklung.\n",
    "\n",
    "Flow-Design hat sich um sauberen Code als Kern langfristig hoher Produktivität entwickelt. Clean Code herzustellen, ist ein zentrales Anliegen von Flow-Design.\n",
    "\n",
    "Nur als ein Beispiel hier eine Idee davon, wie anders verständlicher(er) und testbar(er) Code für das obige Szenario aussehen könnte, ohne näher auf die eingesetzten Mittel einzugehen. Flow-Design liefert Prinzipien und Praktiken für die Anwendung programmiersprachlicher Mittel zur sauberen Strukturierung von Logik:"
   ]
  },
  {
   "cell_type": "code",
   "execution_count": 24,
   "metadata": {},
   "outputs": [
    {
     "data": {
      "text/plain": [
       "XIV=14"
      ]
     },
     "metadata": {},
     "output_type": "display_data"
    }
   ],
   "source": [
    "class RomanConverter {\n",
    "    public static int FromRoman(string roman) {\n",
    "        var values = Map_digits_to_values(roman);\n",
    "        values = Apply_subtraction_rule(values);\n",
    "        return values.Sum();\n",
    "    }\n",
    "    \n",
    "    static int[] Map_digits_to_values(string roman) {\n",
    "        return roman.ToCharArray()\n",
    "                    .Select(Map)\n",
    "                    .ToArray();\n",
    "        \n",
    "        int Map(char c) => c switch {\n",
    "            'I' => 1, 'V' => 5, 'X' => 10,\n",
    "            'L' => 50, 'C' => 100, 'D' => 500, 'M' => 1000,\n",
    "            _ => throw new InvalidOperationException()\n",
    "        };\n",
    "    }\n",
    "    \n",
    "    static int[] Apply_subtraction_rule(int[] values) {\n",
    "        var result = (int[])values.Clone();\n",
    "        for(var i=0; i<result.Length-1; i++)\n",
    "            if (result[i]<result[i+1])\n",
    "                result[i] *= -1;\n",
    "        return result;\n",
    "    }\n",
    "}\n",
    "\n",
    "var romanNumber = \"XIV\";\n",
    "var decimalNumber = RomanConverter.FromRoman(romanNumber);\n",
    "display($\"{romanNumber}={decimalNumber}\");"
   ]
  },
  {
   "cell_type": "markdown",
   "metadata": {},
   "source": [
    "Klar wird daraus zumindest: Qualitäten über Funktionalität und Effizienz hinaus werden ebenfalls in Code ausgedrückt und lassen ihn wachsen. Aus 13 Zeilen ursprünglicher Logik sind 27 Zeilen geworden. Dieses Mehr an Code erfordert Zeit zur Entwicklung und verringert durchaus auch in gewisser Weise die Übersichtlichkeit (als Teil von Verständlichkeit). Wann ein solcher Preis in welcher Höhe für mehr langfristig hohe Produktivität gezahlt werden sollte, ist abzuwägen. Leider gibt es wenige *hard-and-fast rules* dafür. Allerdings zeigt die Erfahrung, dass tendenziell zu wenig Zeit in Nachhaltigkeitsqualitäten investiert wird. Flow-Design bietet Handreichungen, um eine Balance zu finden."
   ]
  },
  {
   "cell_type": "markdown",
   "metadata": {},
   "source": [
    "## Zusammenfassung\n",
    "\n",
    "> \"Every software system provides two different values to the stakeholders: behavior and structure. Software developers are responsible for ensuring that both those values remain high.\", Robert C. Martin in \"Clean Architecture\"\n",
    "\n",
    "Der Kunde will von der beauftragten Software(entwicklung) mehr als Code mit funktionalen und nicht-funktionalen Qualitäten. Angesichts hoher Unklarheit, was die funktionalen und nicht-funktionalen Anforderungen angeht, will der Kunde ebenfalls langfristig hohe Produktivität, weil Software nicht einfach einmal geplant und produziert werden kann, sondern sich über einen oft jahrelangen Zeitraum entwickelt.\n",
    "\n",
    "Software unterliegt ständigen Veränderungen - gewollten wie ungewollten. Diese Veränderungen dürfen die weitere Entwicklung über die Zeit nicht ungebührlich schwieriger und schwieriger machen. Softwareentwicklung soll natürlich schnell liefern - aber nicht nur von heute auf morgen, sondern auch von übermorgen auf über-übermorgen und immer so weiter auf unbestimmt lange Zeit.\n",
    "\n",
    "Diese Fähigkeit zu hoher Produktivität über lange Zeiträume erfordert eine spezielle Herangehensweise an die Softwareentwicklung. Agile Softwareentwicklung, die iterativ und inkrementell vorgeht, ist dabei allerdings nur der Rahmen; sie ist notwendig, aber nicht hinreichend. Der agile Rahmen muss vielmehr ausgefüllt werden mit einem Prozess, der sich darum bemüht, Code von hoher Sauberkeit zu produzieren. Das ist das Anliegen von Flow-Design.\n",
    "\n",
    "Korrektheit und Wandelbarkeit stellen sich nicht einfach so ein. Sie erfordern einen nicht unerheblichen Kraftaufwand, der ständig unter Druck steht von der Forderung nach kurzfristiger Laufzeitqualität, die der Kunde unmittelbarer spüren kann. Deshalb ist eine tiefe Verankerung der Produktivitätsqualität in der Organisation wichtig; nur so wird den Laufzeitqualitäten ein Gegengewicht gegenüberzustellen und nachhaltige Softwareentwicklung möglich.\n",
    "\n",
    "![](images/anforderungen04.png)"
   ]
  }
 ],
 "metadata": {
  "kernelspec": {
   "display_name": ".NET (C#)",
   "language": "C#",
   "name": ".net-csharp"
  },
  "language_info": {
   "file_extension": ".cs",
   "mimetype": "text/x-csharp",
   "name": "C#",
   "pygments_lexer": "csharp",
   "version": "8.0"
  }
 },
 "nbformat": 4,
 "nbformat_minor": 4
}
