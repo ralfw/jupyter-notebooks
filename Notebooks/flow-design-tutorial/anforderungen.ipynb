{
 "cells": [
  {
   "cell_type": "markdown",
   "metadata": {},
   "source": [
    "# Anforderungen an Software(entwicklung)\n",
    "\n",
    "Kunden stellen Qualitätsanforderungen an Software:\n",
    "\n",
    "* **Funktionale Anforderungen**: Software soll funktional sein, d.h. zum Beispiel eine Rechenfunktion bieten.\n",
    "* **Nicht-funktionale Anforderungen**: Software soll effizient sein, d.h. zum Beispiel schnell rechnen.\n",
    "\n",
    "Software und Hardware gleichen sich darin. Funktionale und nicht-funktionale Anforderungen sollen erfüllt werden.\n",
    "\n",
    "Allerdings ist Software dennoch fundamental anders als Hardware:\n",
    "\n",
    "* Hardware wird in einer Qualität hergestellt und soll diese Qualität über einen Gebrauchszeitraum möglichst behalten.\n",
    "* Hardware kann kaputtgehen, d.h. sie verliert eine Qualität bis zur Unbrauchbarkeit, und muss dann repariert werden. Die Reparatur stellt die Qualität möglichst vollständig wieder her.\n",
    "* Damit Hardware nicht (zur Unzeit) kaputtgeht, kann sie gewartet werden. Wartung restauriert verlorene Qualität, bevor Unbrauchbarkeit eingetreten ist.\n",
    "* Hardware soll stabil sein, d.h. sich möglichst wenig verändern in ihren Qualitäten. Kurz, Hardware soll wenig reparaturanfällig sein.\n",
    "\n",
    "Software wird zwar auch in einer Qualität hergestellt, doch die kann sie nicht durch Gebrauch oder Umwelteinflüsse verlieren; sie kann nicht kaputtgehen und muss daher auch nicht gewartet werden. Wenn bei Gebrauch der Software ein Bug festgestellt wird, dann hat Software nicht eine Qualität verloren, sondern nie gehabt - das wurde nur nicht früher bemerkt.\n",
    "\n",
    "Vor allem aber wird Software nicht einmal in einer Qualität hergestellt, sondern laufend um neue Qualitäten angereichert. Hardware, z.B. ein Kugelschreiber, ein Fön, ein Schrank, ein Auto, haben fixierte Qualitäten; es findet nach der Herstellung keine Erweiterung statt. Veränderungen dienen höchstens der Wartung oder Reparatur, um ursprüngliche Qualitäten zu erhalten bzw. wieder herzustellen.\n",
    "\n",
    "Software hingegen wächst in ihren Qualitäten ständig. Das ist ein fundamentaler Anspruch des Kunden. Das gehört quasi zur ihrer Natur.\n",
    "\n",
    "Software unterscheidet deshalb in einem weiteren Punkt fundamental von Hardware:\n",
    "\n",
    "* Software soll flexibel sein, d.h. sie soll sich möglichst leicht um neue Qualitäten erweitern lassen. Kurz, Software soll sehr **wandlungsfähig** (evolvierbar) sein."
   ]
  },
  {
   "cell_type": "markdown",
   "metadata": {},
   "source": [
    "## Laufzeitanforderungen\n",
    "\n",
    "Funktionale und nicht-funktionale Anforderungen sind Laufzeitanforderungen. Ob das Verhalten von Software die gewünschten Laufzeitqualitäten hat, zeigt sich während der Nutzung von Software. Spätenstens wenn der Kunde Software in Betrieb nimmt, merkt er, ob sie die Laufzeitanforderungen erfüllt. Das ist vergleichsweise einfach - wenn auch im Falle von Qualitätsmängeln frustrierend."
   ]
  },
  {
   "cell_type": "markdown",
   "metadata": {},
   "source": [
    "### Laufzeitanforderungen herstellen I - Logik\n",
    "\n",
    "Laufzeitanforderungen werden zunächst hergestellt durch **Logik**.\n",
    "\n",
    "Logik ist der Teil von Code, der Laufzeitverhalten herstellt. Logik ist das, was funktioniert (oder nicht). Logik ist das, was effizient ist (oder nicht).\n",
    "\n",
    "Im Code ist Logik der Teil, der besteht aus:\n",
    "\n",
    "* Transformationen, z.B. `+`, `*`, `&&`, `\"hello\".Length`\n",
    "* Kontrollstrukturen, z.B. `if`, `for``\n",
    "* I/O bzw. API-Aufrufe, z.B. `System.IO.File.ReadAllLines(\"myfile.txt\")`, `System.Console.WriteLine(\"Hello, World!\")`\n",
    "\n",
    "Oder allgemeiner: Als Logik können alle Funktionsaufrufe in eine Plattform verstanden werden, auf der eine Software aufsetzt, d.h. die für sie eine Black Box darstellt. Programmiersprache, Standardbibliothek und anderen Bibliotheken/Frameworks definieren diese Plattform. (Standardoperatoren und Kontrollstrukturen lassen sich als Funktionen verstehen, die eine Programmiersprache mit syntaktischem Zucker überzieht.)\n",
    "\n",
    "Ein Beispiel für den Einsatz von Logik in einer C#-Software:"
   ]
  },
  {
   "cell_type": "code",
   "execution_count": 4,
   "metadata": {},
   "outputs": [],
   "source": [
    "using System;\n",
    "\n",
    "class Program {\n",
    "    public static void Main() {\n",
    "        Console.WriteLine(\"Hello, World!\");\n",
    "    }\n",
    "}"
   ]
  },
  {
   "cell_type": "markdown",
   "metadata": {},
   "source": [
    "So trivial die Aufgabe dieses Programms ist, die Logik ist dafür essenziell.\n",
    "\n",
    "Interessant ist allerdings, dass sich darin lediglich eine Zeile Logik (`Console.WriteLine(...)`) zur Herstellung einer funktionalen Laufzeitqualität befindet - alle anderen Zeilen dienen einem anderen Zweck. Das ist zu rechtfertigen."
   ]
  },
  {
   "cell_type": "markdown",
   "metadata": {},
   "source": [
    "#### Effiziente Logik\n",
    "\n",
    "Zunächst stellt Logik die funktionale Qualität von Software her. Sie rechnet, transformiert, stellt dar, lädt, versendet usw.\n",
    "\n",
    "Logik in funktionaler Weise zusammenzustellen, ist die erste und nicht leichte Aufgabe jedes Programmierers. Doch nicht jede funktionale Logik erfüllt auch die nicht-funktionalen Anforderungen an eine Software. Logik (und zugehörige Datenstrukturen) können sehr unterschiedliches Laufzeitverhalten in puncto Effizienz an den Tag legen. Beispiel dafür kann ein Sortieralgorithmus geben:"
   ]
  },
  {
   "cell_type": "code",
   "execution_count": 1,
   "metadata": {},
   "outputs": [],
   "source": [
    "// Quelle: https://www.c-sharpcorner.com/UploadFile/3d39b4/bubble-sort-in-C-Sharp/\n",
    "\n",
    "void BubbleSort(int[] values) {\n",
    "    var flag = true;\n",
    "    for (int i = 1; (i <= (values.Length - 1)) && flag; i++) {  \n",
    "        flag = false;  \n",
    "        for (int j = 0; j < (values.Length - 1); j++)  \n",
    "        {  \n",
    "            if (values[j + 1] > values[j])  \n",
    "            {  \n",
    "                var temp = values[j];  \n",
    "                values[j] = values[j + 1];  \n",
    "                values[j + 1] = temp;  \n",
    "                flag = true;  \n",
    "            }  \n",
    "        }  \n",
    "    }  \n",
    "}"
   ]
  },
  {
   "cell_type": "code",
   "execution_count": 2,
   "metadata": {},
   "outputs": [
    {
     "data": {
      "text/html": [
       "<table><thead><tr><th><i>index</i></th><th>value</th></tr></thead><tbody><tr><td>0</td><td>99</td></tr><tr><td>1</td><td>92</td></tr><tr><td>2</td><td>89</td></tr><tr><td>3</td><td>76</td></tr><tr><td>4</td><td>67</td></tr><tr><td>5</td><td>45</td></tr><tr><td>6</td><td>13</td></tr></tbody></table>"
      ]
     },
     "metadata": {},
     "output_type": "display_data"
    }
   ],
   "source": [
    "var numbers = new[]{ 89, 76, 45, 92, 67, 13, 99 };\n",
    "BubbleSort(numbers);\n",
    "display(numbers);"
   ]
  },
  {
   "cell_type": "markdown",
   "metadata": {},
   "source": [
    "Die Logik ist funktional. Sie sortiert ein Array korrekt. Was sollte daran auszusetzen sein?\n",
    "\n",
    "Aber ist sie auch effizient? Sortiert die Logik das Array schnell?"
   ]
  },
  {
   "cell_type": "code",
   "execution_count": 7,
   "metadata": {},
   "outputs": [
    {
     "data": {
      "text/html": [
       "412"
      ]
     },
     "metadata": {},
     "output_type": "display_data"
    }
   ],
   "source": [
    "var rnd = new Random();\n",
    "numbers = Enumerable.Range(1,10000).Select(_ => rnd.Next(0,1000)).ToArray();\n",
    "var start = DateTime.Now;\n",
    "BubbleSort(numbers);\n",
    "display(DateTime.Now.Subtract(start).Milliseconds);"
   ]
  },
  {
   "cell_type": "markdown",
   "metadata": {},
   "source": [
    "10.000 zufällige Zahlen werden von `BubbleSort` in ca. einer halben Sekunde (um die 400msec) sortiert. Ob das schnell genug ist oder zu langsam, ist natürlich eine Frage des konkreten Einsatzszenarios. An dieser Stelle geht es aber nicht um Angemessenheit, sondern darum, dass die Auswahl/Zusammenstellung von Logik - der Algorithmus - grundsätzlich einen Einfluss auf Performance und andere nicht-funktionale Qualitäten hat.\n",
    "\n",
    "Zum Vergleich ein anderer Ansatz zum Sortieren: Quicksort."
   ]
  },
  {
   "cell_type": "code",
   "execution_count": 5,
   "metadata": {},
   "outputs": [],
   "source": [
    "// Quelle: https://www.w3resource.com/csharp-exercises/searching-and-sorting-algorithm/searching-and-sorting-algorithm-exercise-9.php\n",
    "\n",
    "void QuickSort(int[] values) => QuickSort(values, 0, values.Length - 1);\n",
    "        \n",
    "void QuickSort(int[] values, int left, int right) {\n",
    "    if (left < right) {\n",
    "        int pivot = Partition(values, left, right);\n",
    "\n",
    "        if (pivot > 1) {\n",
    "            QuickSort(values, left, pivot - 1);\n",
    "        }\n",
    "        if (pivot + 1 < right) {\n",
    "            QuickSort(values, pivot + 1, right);\n",
    "        }\n",
    "    }\n",
    "}\n",
    "\n",
    "int Partition(int[] values, int left, int right)  {\n",
    "    int pivot = values[left];\n",
    "    while (true) {\n",
    "        while (values[left] < pivot) {\n",
    "            left++;\n",
    "        }\n",
    "\n",
    "        while (values[right] > pivot) {\n",
    "            right--;\n",
    "        }\n",
    "\n",
    "        if (left < right) {\n",
    "            if (values[left] == values[right]) return right;\n",
    "\n",
    "            int temp = values[left];\n",
    "            values[left] = values[right];\n",
    "            values[right] = temp;\n",
    "        }\n",
    "        else {\n",
    "            return right;\n",
    "        }\n",
    "    }\n",
    "}"
   ]
  },
  {
   "cell_type": "markdown",
   "metadata": {},
   "source": [
    "Wie lange braucht der Quicksort-Algorithmus für die selbe Aufgabe?"
   ]
  },
  {
   "cell_type": "code",
   "execution_count": 8,
   "metadata": {},
   "outputs": [
    {
     "data": {
      "text/html": [
       "1"
      ]
     },
     "metadata": {},
     "output_type": "display_data"
    }
   ],
   "source": [
    "var rnd = new Random();\n",
    "numbers = Enumerable.Range(1,10000).Select(_ => rnd.Next(0,1000)).ToArray();\n",
    "var start = DateTime.Now;\n",
    "QuickSort(numbers);\n",
    "display(DateTime.Now.Subtract(start).Milliseconds);"
   ]
  },
  {
   "cell_type": "markdown",
   "metadata": {},
   "source": [
    "Weniger als 10msec für Quicksort im Vergleich zu fast 500msec für Bubblesort: das ist ein eklatanter Unterschied! Logik (zusammen mit Datenstrukturen) hat mithin sichtbar nicht nur Einfluss auf die Funktionalität (hier: Logik sortiert), sondern auch auf nicht-funktionale Anforderungen (hier: Logik sortiert schnell).\n",
    "\n",
    "Die Logik so oder anders zu wählen, macht einen Unterschied in Bezug auf die Performance, die Bedienbarkeit oder die Sicherheit usw.\n",
    "\n",
    "> Logik (und Datenstrukturen) in einer geeigneten Weise zu wählen, um Laufzeianforderungen in hoher Qualität zu erfüllen, ist die erste und eine hohe Kunst für jeden Softwareentwickler."
   ]
  },
  {
   "cell_type": "markdown",
   "metadata": {},
   "source": [
    "### Laufzeitanforderungen herstellen II - Verteilung\n",
    "\n",
    "Nicht alle nicht-funktionalen Qualiäten lassen sich jedoch durch eine Zusammenstellung von Logik allein herstellen. Das, was auch der beste Algorithmus mit passenden Datenstrukturen erreichen kann, ist begrenzt durch die Prozessorleistung. Logik läuft zunächst immer nur auf einem Thread. Selbst wenn dies der einzige Thread eines Prozessorkerns sein sollte und die Logik in ihrer Arbeit nicht unterbrochen würde, wäre ihre Performance eben begrenzt durch das, was ein Prozessorkern leisten kann. Was, wenn mehr Performance nötig ist?\n",
    "\n",
    "Mehr Performance oder auch andere Laufzeitqualitäten wie Skalierbarkeit lässt sich erzielen durch Verteilung von Logik auf zunächst mehrere Threads. Dadurch lässt sich Latenz verringern (höhere Performance) oder Latenz verbergen (die Performance wird nicht erhöht, doch der Aufrufer von Logik muss nicht auf sie warten) oder der Durchsatz erhöhen.\n",
    "\n",
    "Beispiel: Bubblesort ist langsam. Wenn zwei Arrays zu sortieren sind, kann das nacheinander geschehen. Die Gesamtdauer ist dann die Summe der Einzelaufwände. "
   ]
  },
  {
   "cell_type": "code",
   "execution_count": 13,
   "metadata": {},
   "outputs": [
    {
     "data": {
      "text/plain": [
       "  numbers1: 106"
      ]
     },
     "metadata": {},
     "output_type": "display_data"
    },
    {
     "data": {
      "text/plain": [
       "  numbers2: 406"
      ]
     },
     "metadata": {},
     "output_type": "display_data"
    },
    {
     "data": {
      "text/plain": [
       "total: 514"
      ]
     },
     "metadata": {},
     "output_type": "display_data"
    }
   ],
   "source": [
    "var rnd = new Random();\n",
    "var numbers1 = Enumerable.Range(1,5000).Select(_ => rnd.Next(0,1000)).ToArray();\n",
    "var numbers2 = Enumerable.Range(1,10000).Select(_ => rnd.Next(0,1000)).ToArray();\n",
    "var start1 = DateTime.Now;\n",
    "BubbleSort(numbers1);\n",
    "display($\"  numbers1: {DateTime.Now.Subtract(start1).Milliseconds}\");\n",
    "var start2 = DateTime.Now;\n",
    "BubbleSort(numbers2);\n",
    "display($\"  numbers2: {DateTime.Now.Subtract(start2).Milliseconds}\");\n",
    "display($\"total: {DateTime.Now.Subtract(start1).Milliseconds}\");"
   ]
  },
  {
   "cell_type": "markdown",
   "metadata": {},
   "source": [
    "Doch wenn die beiden Arrays auf verschiedenen Threads auf verschiedenen Cores gleichzeitig sortiert werden könnten, dann würde die Gesamtdauer nur nahe beim größeren Aufwand liegen."
   ]
  },
  {
   "cell_type": "code",
   "execution_count": 14,
   "metadata": {},
   "outputs": [
    {
     "data": {
      "text/plain": [
       "  numbers1: 106"
      ]
     },
     "metadata": {},
     "output_type": "display_data"
    },
    {
     "data": {
      "text/plain": [
       "  numbers2: 415"
      ]
     },
     "metadata": {},
     "output_type": "display_data"
    },
    {
     "data": {
      "text/plain": [
       "total: 416"
      ]
     },
     "metadata": {},
     "output_type": "display_data"
    }
   ],
   "source": [
    "var rnd = new Random();\n",
    "var numbers1 = Enumerable.Range(1,5000).Select(_ => rnd.Next(0,1000)).ToArray();\n",
    "var numbers2 = Enumerable.Range(1,10000).Select(_ => rnd.Next(0,1000)).ToArray();\n",
    "var start = DateTime.Now;\n",
    "var task1 = Task.Run(() => {\n",
    "    var start1 = DateTime.Now;\n",
    "    BubbleSort(numbers1);\n",
    "    display($\"  numbers1: {DateTime.Now.Subtract(start1).Milliseconds}\");\n",
    "});\n",
    "var task2 = Task.Run(() => {\n",
    "    var start2 = DateTime.Now;\n",
    "    BubbleSort(numbers2);\n",
    "    display($\"  numbers2: {DateTime.Now.Subtract(start2).Milliseconds}\");\n",
    "});\n",
    "Task.WaitAll(task1, task2);\n",
    "display($\"total: {DateTime.Now.Subtract(start).Milliseconds}\");"
   ]
  },
  {
   "cell_type": "markdown",
   "metadata": {},
   "source": [
    "Nicht-funktionale Qualitäten lassen sich also in zwei Dimensionen beeinflussen:\n",
    "\n",
    "* durch die Auswahl und Zusammenstellung von Logik (und Datenstrukturen)\n",
    "* durch Verteilung auf mehrere Threads"
   ]
  },
  {
   "cell_type": "markdown",
   "metadata": {},
   "source": [
    "#### Hosts\n",
    "\n",
    "Verteilt läuft Logik, wenn sie auf mehreren Threads läuft. Der Treiber sind nicht-funktionale Anforderungen, die nicht anders erfüllt werden können.\n",
    "\n",
    "Threads sind zwar der elementare Baustein der Verteilung, andererseits stellen sie nur unterste Ebene einer Hierarchie von Containern dar, auf die Logik verteilt werden kann.\n",
    "\n",
    "Container zur Verteilung von Logik zum Zwecke der Herstellung von nicht-funktionalen Qualitäten heißen _Hosts_. Die Host-Hierarchie umfasst die folgenden Ebenen:\n",
    "\n",
    "* Thread\n",
    "* Betriebssystem-Prozess\n",
    "* (Virtuelle) Maschine (oder auch Docker Container)\n",
    "* Netzwerk\n",
    "\n",
    "**Allen Hosts ist gemeinsam, dass die Kommunikation *zwischen* Hosts nur asynchron sein kann und vermittels eines Mediums (z.B. einer Queue).** Sie ist damit grundsätzlich langsamer als die zwischen Funktionen im selben Thread.\n",
    "\n",
    "Je weiter verteilt Logik ist, d.h. je höher in der Host-Hierarchie die Verteilung vorgenommen wird, desto langsamer die Kommunikation zwischen den verteilten Teilen der Logik: inter-Prozess-Kommunikation ist viel langsamer als inter-Thread-Kommunikation usw.\n",
    "\n",
    "Die sinkende Geschwindigkeit von Host-Ebene zu Host-Ebene ist ein Preis, der zu zahlen ist für den Gewinn, den die \"entferntere\" Verteilung auf höherer Ebene andererseits bietet:\n",
    "\n",
    "* Verteilung auf Threads, d.h. parallele Verarbeitung, kann z.B. die Performance erhöhen oder Responsiveness herstellen, wenn der Aufwand zum Wechseln des Thread bzw. der Kommunikationsaufwand deutlich geringer als die Laufzeit der Logik auf einem Thread ist.\n",
    "* Verteilung auf verschiedene Prozesse (auf derselben Maschine) erzeugt zwar einen erheblichen Aufwand für die Kommunikation, bietet aber z.B. Isolation von Speicherbereichen für mehr Sicherheit oder Robustheit des Gesamtsystems gegenüber Teilausfällen.\n",
    "* Verteilung auf verschiedene Maschinen bietet z.B. die Möglichkeit, Prozessor- und Speicherressourcen zu skalieren.\n",
    "* Verteilung auf verschiedene Netzwerke bietet z.B. die Möglichkeit, Logik weiträumig zu verteilen für die Nähe zu Ressourcen oder Erhöhung der Sicherheit."
   ]
  },
  {
   "cell_type": "markdown",
   "metadata": {},
   "source": [
    "> Logik zu verteilen, um nicht-funktionale Anforderungen jenseits der Möglichkeiten der Auswahl und Zusammenstellung von Logik zu erfüllen, ist die zweite hohe Kunst der Softwareentwicklung.\n",
    "\n",
    "Anforderungen an moderne Anwendungen lassen sich kaum ohne Verteilung erfüllen. Aber trotz aller Abstraktionen von Programmiersprachen und Frameworks ist dabei mit Vorsicht und Augenmaß vorzugehen. Schnell erliegt man einem [Trugschluss](https://en.wikipedia.org/wiki/Fallacies_of_distributed_computing)."
   ]
  },
  {
   "cell_type": "markdown",
   "metadata": {},
   "source": [
    "## Produktionsanforderungen"
   ]
  },
  {
   "cell_type": "code",
   "execution_count": null,
   "metadata": {},
   "outputs": [],
   "source": []
  }
 ],
 "metadata": {
  "kernelspec": {
   "display_name": ".NET (C#)",
   "language": "C#",
   "name": ".net-csharp"
  },
  "language_info": {
   "file_extension": ".cs",
   "mimetype": "text/x-csharp",
   "name": "C#",
   "pygments_lexer": "csharp",
   "version": "8.0"
  }
 },
 "nbformat": 4,
 "nbformat_minor": 4
}
