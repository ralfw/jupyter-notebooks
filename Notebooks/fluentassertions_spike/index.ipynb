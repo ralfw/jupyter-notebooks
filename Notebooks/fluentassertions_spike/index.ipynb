{
 "cells": [
  {
   "cell_type": "code",
   "execution_count": null,
   "metadata": {},
   "outputs": [
    {
     "data": {
      "text/html": [
       "Installing package FluentAssertions."
      ]
     },
     "metadata": {},
     "output_type": "display_data"
    }
   ],
   "source": [
    "#r \"nuget:FluentAssertions\"\n",
    "using FluentAssertions;"
   ]
  },
  {
   "cell_type": "code",
   "execution_count": null,
   "metadata": {},
   "outputs": [],
   "source": [
    "1.Should().Be(1);"
   ]
  },
  {
   "cell_type": "code",
   "execution_count": null,
   "metadata": {},
   "outputs": [],
   "source": [
    "1.Should().Be(2); // throws wrong exception"
   ]
  },
  {
   "cell_type": "code",
   "execution_count": null,
   "metadata": {},
   "outputs": [],
   "source": [
    "void Assert(Action check) {\n",
    "    try{\n",
    "        check();\n",
    "        display(span[style:\"background-color:green\"](\"succeeded🥳\"));\n",
    "        \n",
    "    } catch(Exception ex) {\n",
    "        display(span[style:\"background-color:red\"](\"failed😩\"));\n",
    "        display(ex.Message);\n",
    "    }\n",
    "}\n",
    "\n",
    "Assert(() => { 1.Should().Be(1); });\n",
    "Assert(() => { 1.Should().Be(99); }); // shows red, but with a wrong explanatory text"
   ]
  },
  {
   "cell_type": "code",
   "execution_count": null,
   "metadata": {},
   "outputs": [],
   "source": []
  }
 ],
 "metadata": {
  "kernelspec": {
   "display_name": ".NET (C#)",
   "language": "C#",
   "name": ".net-csharp"
  },
  "language_info": {
   "file_extension": ".cs",
   "mimetype": "text/x-csharp",
   "name": "C#",
   "pygments_lexer": "csharp",
   "version": "8.0"
  }
 },
 "nbformat": 4,
 "nbformat_minor": 4
}
