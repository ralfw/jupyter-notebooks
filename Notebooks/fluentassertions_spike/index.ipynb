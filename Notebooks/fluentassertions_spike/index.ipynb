{
 "cells": [
  {
   "cell_type": "code",
   "execution_count": 13,
   "metadata": {},
   "outputs": [
    {
     "data": {
      "text/html": [
       "Installing package FluentAssertions...........done!"
      ]
     },
     "metadata": {},
     "output_type": "display_data"
    },
    {
     "data": {
      "text/html": [
       "Successfully added reference to package FluentAssertions, version "
      ]
     },
     "metadata": {},
     "output_type": "display_data"
    }
   ],
   "source": [
    "#r \"nuget:FluentAssertions\"\n",
    "using FluentAssertions;"
   ]
  },
  {
   "cell_type": "code",
   "execution_count": 5,
   "metadata": {},
   "outputs": [],
   "source": [
    "1.Should().Be(1);"
   ]
  },
  {
   "cell_type": "code",
   "execution_count": 30,
   "metadata": {},
   "outputs": [
    {
     "ename": "Unhandled Exception",
     "evalue": "Could not load file or assembly 'System.Configuration.ConfigurationManager, Version=4.0.0.0, Culture=neutral, PublicKeyToken=cc7b13ffcd2ddd51'. Reference assemblies should not be loaded for execution.  They can only be loaded in the Reflection-only loader context. (0x80131058)",
     "output_type": "error",
     "traceback": [
      "Unhandled Exception",
      "Could not load file or assembly 'System.Configuration.ConfigurationManager, Version=4.0.0.0, Culture=neutral, PublicKeyToken=cc7b13ffcd2ddd51'. Reference assemblies should not be loaded for execution.  They can only be loaded in the Reflection-only loader context. (0x80131058)",
      "   at FluentAssertions.Common.AppSettingsConfigurationStore.GetSetting(String name)",
      "   at FluentAssertions.Common.Configuration.get_ValueFormatterAssembly() in C:\\projects\\fluentassertions-vf06b\\Src\\FluentAssertions\\Common\\Configuration.cs:line 88",
      "   at FluentAssertions.Common.Configuration.DetermineFormatterDetectionMode() in C:\\projects\\fluentassertions-vf06b\\Src\\FluentAssertions\\Common\\Configuration.cs:line 55",
      "   at FluentAssertions.Common.Configuration.get_ValueFormatterDetectionMode() in C:\\projects\\fluentassertions-vf06b\\Src\\FluentAssertions\\Common\\Configuration.cs:line 40",
      "   at FluentAssertions.Formatting.AttributeBasedFormatter.get_IsScanningEnabled() in C:\\projects\\fluentassertions-vf06b\\Src\\FluentAssertions\\Formatting\\AttributeBasedFormatter.cs:line 33",
      "   at FluentAssertions.Formatting.AttributeBasedFormatter.CanHandle(Object value) in C:\\projects\\fluentassertions-vf06b\\Src\\FluentAssertions\\Formatting\\AttributeBasedFormatter.cs:line 28",
      "   at FluentAssertions.Formatting.Formatter.<>c__DisplayClass7_0.<Format>b__0(IValueFormatter f) in C:\\projects\\fluentassertions-vf06b\\Src\\FluentAssertions\\Formatting\\Formatter.cs:line 138",
      "   at System.Linq.Enumerable.TryGetFirst[TSource](IEnumerable`1 source, Func`2 predicate, Boolean& found)",
      "   at System.Linq.Enumerable.First[TSource](IEnumerable`1 source, Func`2 predicate)",
      "   at FluentAssertions.Formatting.Formatter.Format(Object value, FormattingContext context, FormatChild formatChild) in C:\\projects\\fluentassertions-vf06b\\Src\\FluentAssertions\\Formatting\\Formatter.cs:line 138",
      "   at FluentAssertions.Formatting.Formatter.ToString(Object value, Boolean useLineBreaks) in C:\\projects\\fluentassertions-vf06b\\Src\\FluentAssertions\\Formatting\\Formatter.cs:line 97",
      "   at FluentAssertions.Execution.MessageBuilder.<FormatArgumentPlaceholders>b__6_0(Object a) in C:\\projects\\fluentassertions-vf06b\\Src\\FluentAssertions\\Execution\\MessageBuilder.cs:line 91",
      "   at System.Linq.Enumerable.SelectArrayIterator`2.ToArray()",
      "   at FluentAssertions.Execution.MessageBuilder.FormatArgumentPlaceholders(String failureMessage, Object[] failureArgs) in C:\\projects\\fluentassertions-vf06b\\Src\\FluentAssertions\\Execution\\MessageBuilder.cs:line 91",
      "   at FluentAssertions.Execution.MessageBuilder.Build(String message, Object[] messageArgs, String reason, ContextDataItems contextData, String identifier, String fallbackIdentifier) in C:\\projects\\fluentassertions-vf06b\\Src\\FluentAssertions\\Execution\\MessageBuilder.cs:line 40",
      "   at FluentAssertions.Execution.AssertionScope.<>c__DisplayClass30_0.<FailWith>b__0() in C:\\projects\\fluentassertions-vf06b\\Src\\FluentAssertions\\Execution\\AssertionScope.cs:line 200",
      "   at FluentAssertions.Execution.AssertionScope.FailWith(Func`1 failReasonFunc) in C:\\projects\\fluentassertions-vf06b\\Src\\FluentAssertions\\Execution\\AssertionScope.cs:line 216",
      "   at FluentAssertions.Execution.AssertionScope.FailWith(Func`1 failReasonFunc) in C:\\projects\\fluentassertions-vf06b\\Src\\FluentAssertions\\Execution\\AssertionScope.cs:line 196",
      "   at FluentAssertions.Execution.AssertionScope.FailWith(String message, Object[] args) in C:\\projects\\fluentassertions-vf06b\\Src\\FluentAssertions\\Execution\\AssertionScope.cs:line 238",
      "   at FluentAssertions.Numeric.NumericAssertions`1.Be(T expected, String because, Object[] becauseArgs) in C:\\projects\\fluentassertions-vf06b\\Src\\FluentAssertions\\Numeric\\NumericAssertions.cs:line 51",
      "   at Submission#31.<<Initialize>>d__0.MoveNext()",
      "--- End of stack trace from previous location where exception was thrown ---",
      "   at Microsoft.CodeAnalysis.Scripting.ScriptExecutionState.RunSubmissionsAsync[TResult](ImmutableArray`1 precedingExecutors, Func`2 currentExecutor, StrongBox`1 exceptionHolderOpt, Func`2 catchExceptionOpt, CancellationToken cancellationToken)"
     ]
    }
   ],
   "source": [
    "1.Should().Be(2); // throws wrong exception"
   ]
  },
  {
   "cell_type": "code",
   "execution_count": 34,
   "metadata": {},
   "outputs": [
    {
     "data": {
      "text/html": [
       "<span style=\"background-color:green\">succeeded&#129395;</span>"
      ]
     },
     "metadata": {},
     "output_type": "display_data"
    },
    {
     "data": {
      "text/html": [
       "<span style=\"background-color:red\">failed&#128553;</span>"
      ]
     },
     "metadata": {},
     "output_type": "display_data"
    },
    {
     "data": {
      "text/plain": [
       "Could not load file or assembly 'System.Configuration.ConfigurationManager, Version=4.0.0.0, Culture=neutral, PublicKeyToken=cc7b13ffcd2ddd51'. Reference assemblies should not be loaded for execution.  They can only be loaded in the Reflection-only loader context. (0x80131058)"
      ]
     },
     "metadata": {},
     "output_type": "display_data"
    }
   ],
   "source": [
    "void Assert(Action check) {\n",
    "    try{\n",
    "        check();\n",
    "        display(span[style:\"background-color:green\"](\"succeeded🥳\"));\n",
    "        \n",
    "    } catch(Exception ex) {\n",
    "        display(span[style:\"background-color:red\"](\"failed😩\"));\n",
    "        display(ex.Message);\n",
    "    }\n",
    "}\n",
    "\n",
    "Assert(() => { 1.Should().Be(1); });\n",
    "Assert(() => { 1.Should().Be(99); });"
   ]
  },
  {
   "cell_type": "code",
   "execution_count": null,
   "metadata": {},
   "outputs": [],
   "source": []
  }
 ],
 "metadata": {
  "kernelspec": {
   "display_name": ".NET (C#)",
   "language": "C#",
   "name": ".net-csharp"
  },
  "language_info": {
   "file_extension": ".cs",
   "mimetype": "text/x-csharp",
   "name": "C#",
   "pygments_lexer": "csharp",
   "version": "8.0"
  }
 },
 "nbformat": 4,
 "nbformat_minor": 4
}
