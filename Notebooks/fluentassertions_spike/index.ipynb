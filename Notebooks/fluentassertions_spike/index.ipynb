{
 "cells": [
  {
   "cell_type": "code",
   "execution_count": 9,
   "metadata": {},
   "outputs": [
    {
     "data": {
      "text/html": [
       "Installing package FluentAssertions..done!"
      ]
     },
     "metadata": {},
     "output_type": "display_data"
    },
    {
     "data": {
      "text/html": [
       "Successfully added reference to package FluentAssertions, version "
      ]
     },
     "metadata": {},
     "output_type": "display_data"
    }
   ],
   "source": [
    "#r \"nuget:FluentAssertions\"\n",
    "using FluentAssertions;"
   ]
  },
  {
   "cell_type": "code",
   "execution_count": 10,
   "metadata": {},
   "outputs": [],
   "source": [
    "1.Should().Be(1);"
   ]
  },
  {
   "cell_type": "code",
   "execution_count": 11,
   "metadata": {},
   "outputs": [
    {
     "ename": "Unhandled Exception",
     "evalue": "Expected value to be 2, but found 1.",
     "output_type": "error",
     "traceback": [
      "Unhandled Exception",
      "Expected value to be 2, but found 1.",
      "   at FluentAssertions.Execution.FallbackTestFramework.Throw(String message) in C:\\projects\\fluentassertions-vf06b\\Src\\FluentAssertions\\Execution\\FallbackTestFramework.cs:line 18",
      "   at FluentAssertions.Execution.TestFrameworkProvider.Throw(String message) in C:\\projects\\fluentassertions-vf06b\\Src\\FluentAssertions\\Execution\\TestFrameworkProvider.cs:line 41",
      "   at FluentAssertions.Execution.DefaultAssertionStrategy.HandleFailure(String message) in C:\\projects\\fluentassertions-vf06b\\Src\\FluentAssertions\\Execution\\DefaultAssertionStrategy.cs:line 30",
      "   at FluentAssertions.Execution.AssertionScope.FailWith(Func`1 failReasonFunc) in C:\\projects\\fluentassertions-vf06b\\Src\\FluentAssertions\\Execution\\AssertionScope.cs:line 225",
      "   at FluentAssertions.Execution.AssertionScope.FailWith(Func`1 failReasonFunc) in C:\\projects\\fluentassertions-vf06b\\Src\\FluentAssertions\\Execution\\AssertionScope.cs:line 196",
      "   at FluentAssertions.Execution.AssertionScope.FailWith(String message, Object[] args) in C:\\projects\\fluentassertions-vf06b\\Src\\FluentAssertions\\Execution\\AssertionScope.cs:line 238",
      "   at FluentAssertions.Numeric.NumericAssertions`1.Be(T expected, String because, Object[] becauseArgs) in C:\\projects\\fluentassertions-vf06b\\Src\\FluentAssertions\\Numeric\\NumericAssertions.cs:line 51",
      "   at Submission#12.<<Initialize>>d__0.MoveNext()",
      "--- End of stack trace from previous location where exception was thrown ---",
      "   at Microsoft.CodeAnalysis.Scripting.ScriptExecutionState.RunSubmissionsAsync[TResult](ImmutableArray`1 precedingExecutors, Func`2 currentExecutor, StrongBox`1 exceptionHolderOpt, Func`2 catchExceptionOpt, CancellationToken cancellationToken)"
     ]
    }
   ],
   "source": [
    "1.Should().Be(2); // Throwing the wrong exception (if code has been run strictly from the beginning)"
   ]
  },
  {
   "cell_type": "code",
   "execution_count": 12,
   "metadata": {},
   "outputs": [],
   "source": [
    "// Workaround:\n",
    "using FluentAssertions.Common;\n",
    "Configuration.Current.ValueFormatterDetectionMode = ValueFormatterDetectionMode.Disabled;\n",
    "Configuration.Current.TestFrameworkName = \"fallback\";"
   ]
  },
  {
   "cell_type": "code",
   "execution_count": 13,
   "metadata": {},
   "outputs": [
    {
     "ename": "Unhandled Exception",
     "evalue": "Expected value to be 2, but found 1.",
     "output_type": "error",
     "traceback": [
      "Unhandled Exception",
      "Expected value to be 2, but found 1.",
      "   at FluentAssertions.Execution.FallbackTestFramework.Throw(String message) in C:\\projects\\fluentassertions-vf06b\\Src\\FluentAssertions\\Execution\\FallbackTestFramework.cs:line 18",
      "   at FluentAssertions.Execution.TestFrameworkProvider.Throw(String message) in C:\\projects\\fluentassertions-vf06b\\Src\\FluentAssertions\\Execution\\TestFrameworkProvider.cs:line 41",
      "   at FluentAssertions.Execution.DefaultAssertionStrategy.HandleFailure(String message) in C:\\projects\\fluentassertions-vf06b\\Src\\FluentAssertions\\Execution\\DefaultAssertionStrategy.cs:line 30",
      "   at FluentAssertions.Execution.AssertionScope.FailWith(Func`1 failReasonFunc) in C:\\projects\\fluentassertions-vf06b\\Src\\FluentAssertions\\Execution\\AssertionScope.cs:line 225",
      "   at FluentAssertions.Execution.AssertionScope.FailWith(Func`1 failReasonFunc) in C:\\projects\\fluentassertions-vf06b\\Src\\FluentAssertions\\Execution\\AssertionScope.cs:line 196",
      "   at FluentAssertions.Execution.AssertionScope.FailWith(String message, Object[] args) in C:\\projects\\fluentassertions-vf06b\\Src\\FluentAssertions\\Execution\\AssertionScope.cs:line 238",
      "   at FluentAssertions.Numeric.NumericAssertions`1.Be(T expected, String because, Object[] becauseArgs) in C:\\projects\\fluentassertions-vf06b\\Src\\FluentAssertions\\Numeric\\NumericAssertions.cs:line 51",
      "   at Submission#14.<<Initialize>>d__0.MoveNext()",
      "--- End of stack trace from previous location where exception was thrown ---",
      "   at Microsoft.CodeAnalysis.Scripting.ScriptExecutionState.RunSubmissionsAsync[TResult](ImmutableArray`1 precedingExecutors, Func`2 currentExecutor, StrongBox`1 exceptionHolderOpt, Func`2 catchExceptionOpt, CancellationToken cancellationToken)"
     ]
    }
   ],
   "source": [
    "1.Should().Be(2); // Now throwing the correct exception!"
   ]
  },
  {
   "cell_type": "code",
   "execution_count": 14,
   "metadata": {},
   "outputs": [
    {
     "data": {
      "text/html": [
       "<span style=\"background-color:green\">succeeded&#129395;</span>"
      ]
     },
     "metadata": {},
     "output_type": "display_data"
    },
    {
     "data": {
      "text/html": [
       "<span style=\"background-color:red\">failed&#128553;</span>"
      ]
     },
     "metadata": {},
     "output_type": "display_data"
    },
    {
     "data": {
      "text/plain": [
       "Expected value to be 99, but found 1."
      ]
     },
     "metadata": {},
     "output_type": "display_data"
    }
   ],
   "source": [
    "void Assert(Action check) {\n",
    "    try{\n",
    "        check();\n",
    "        display(span[style:\"background-color:green\"](\"succeeded🥳\"));\n",
    "        \n",
    "    } catch(Exception ex) {\n",
    "        display(span[style:\"background-color:red\"](\"failed😩\"));\n",
    "        display(ex.Message);\n",
    "    }\n",
    "}\n",
    "\n",
    "Assert(() => { 1.Should().Be(1); });\n",
    "Assert(() => { 1.Should().Be(99); }); // Showing the correct exception!"
   ]
  },
  {
   "cell_type": "code",
   "execution_count": null,
   "metadata": {},
   "outputs": [],
   "source": []
  }
 ],
 "metadata": {
  "kernelspec": {
   "display_name": ".NET (C#)",
   "language": "C#",
   "name": ".net-csharp"
  },
  "language_info": {
   "file_extension": ".cs",
   "mimetype": "text/x-csharp",
   "name": "C#",
   "pygments_lexer": "csharp",
   "version": "8.0"
  }
 },
 "nbformat": 4,
 "nbformat_minor": 4
}
