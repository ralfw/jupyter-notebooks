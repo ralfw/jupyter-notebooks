{
 "cells": [
  {
   "cell_type": "markdown",
   "metadata": {},
   "source": [
    "# Event-Orientation Demo\n",
    "\n",
    "Event-Orientation (EO) strukturiert die Verarbeitung von CQNS-Nachrichten in einer Pipeline auf der Basis von Event Sourcing. Das Ziel ist die Entkopplung von Nachrichtenverarbeitungen, die Vermeidung vorzeitiger Optimierungen und ein größerer Fokus auf das Wesentliche."
   ]
  },
  {
   "cell_type": "code",
   "execution_count": 1,
   "metadata": {},
   "outputs": [],
   "source": [
    "// Allgemeine CQS Message Hierarchie\n",
    "public abstract class Message{}\n",
    "\n",
    "public abstract class Request : Message{}\n",
    "public abstract class Response : Message{}\n",
    "\n",
    "public abstract class Command : Request{}\n",
    "public abstract class CommandStatus : Response{}\n",
    "public class Success : CommandStatus {}\n",
    "public class Failure : CommandStatus { public string ErrorMessage; }\n",
    "\n",
    "public abstract class Query : Request{}\n",
    "public abstract class QueryResult : Response{}"
   ]
  },
  {
   "cell_type": "markdown",
   "metadata": {},
   "source": [
    "Eine Nachricht (Message) ist vor allem Command und Query, die zu Command Status (Success und Failure) bzw. Query Result führen. Ihre Verarbeitung zieht den Zustand repräsentiert durch Events in einem Eventstrom heran. Bei der Verarbeitung von Commands entstehen daraus weitere Events, die in den Eventstrom fließen.\n",
    "\n",
    "![](images/EO1.jpg)"
   ]
  },
  {
   "cell_type": "markdown",
   "metadata": {},
   "source": [
    "Der für eine Nachrichtenverarbeitung relevante Zustand liegt im Eventstrom in Form einer Untermenge aller Events vor, dem sog. Kontext.\n",
    "\n",
    "Der Kontext wird der Nachrichtenverarbeitung jedoch nicht roh angeboten, sondern in Form eines mehr oder weniger umfangreichen Modells, dem Nachrichtenmodell (Message Model).\n",
    "\n",
    "Die Nachrichtenverarbeitung (Handling) findet daher im Rahmen einer Pipeline statt:\n",
    "\n",
    "1. Schritt _Load_: Nachrichtenmodell für eine Nachricht beschaffen.\n",
    "2. Schritt _Handle_: Nachricht und Nachrichtenmodell verarbeiten (Processing); in einem Command entstehen neue Events.\n",
    "3. Schritt _Update_: Neue Events im Eventstrom aufzeichnen und damit alle Nachrichtenmodelle aktaualisieren.\n",
    "\n",
    "![](images/EO2.jpg)\n",
    "\n",
    "_Load_ und _Update_: stellen das Message Model Management dar.\n",
    "\n",
    "Mit _Load_ ist die Beschaffung eines Nachrichtenmodells aus dem eigentlichen Message Processing herausgezogen. Mit _Update_ ist die Aktualisierung eines gechacheten Modells aus dem Processing herausgezogen."
   ]
  },
  {
   "cell_type": "markdown",
   "metadata": {},
   "source": [
    "## Event Store\n",
    "\n",
    "Der Anwendungszustand wird im Event Store in Form von Events gespeichert.\n",
    "\n",
    "Der Event Store ist eine einfache append-only Datenstruktur, deren Inhalt in der Reihenfolge der Aufzeichnung (also chronologisch) wieder abgespielt werden kann."
   ]
  },
  {
   "cell_type": "code",
   "execution_count": 2,
   "metadata": {},
   "outputs": [],
   "source": [
    "public abstract class Event {}\n",
    "\n",
    "public interface IEventStore {\n",
    "    void Record(params Event[] events);\n",
    "    \n",
    "    IEnumerable<Event> Replay();\n",
    "    IEnumerable<Event> Replay(int fromIndex);\n",
    "    \n",
    "    int Count {get;}\n",
    "    \n",
    "    event Action<IEnumerable<Event>> OnRecorded;\n",
    "}"
   ]
  },
  {
   "cell_type": "code",
   "execution_count": 3,
   "metadata": {},
   "outputs": [],
   "source": [
    "class InMemEventStore : IEventStore {\n",
    "    private List<Event> _events = new List<Event>();\n",
    "    \n",
    "    public InMemEventStore() {}\n",
    "    public InMemEventStore(IEnumerable<Event> events) {\n",
    "        foreach(var e in events)\n",
    "            Record(e);\n",
    "    }\n",
    "    \n",
    "    \n",
    "    public void Record(params Event[] events) {\n",
    "        _events.AddRange(events);\n",
    "        OnRecorded(events);\n",
    "    }\n",
    "    \n",
    "    public IEnumerable<Event> Replay() {\n",
    "        return _events;\n",
    "    }\n",
    "    \n",
    "    public IEnumerable<Event> Replay(int fromIndex) {\n",
    "        return _events.Where((_,i) => i>=fromIndex);\n",
    "    }\n",
    "    \n",
    "    public int Count => _events.Count;\n",
    "    \n",
    "    public event Action<IEnumerable<Event>> OnRecorded = _ => {};\n",
    "}"
   ]
  },
  {
   "cell_type": "code",
   "execution_count": 4,
   "metadata": {},
   "outputs": [
    {
     "data": {
      "text/plain": [
       "3 event(s) added"
      ]
     },
     "metadata": {},
     "output_type": "display_data"
    },
    {
     "data": {
      "text/plain": [
       "All events after the first:"
      ]
     },
     "metadata": {},
     "output_type": "display_data"
    },
    {
     "data": {
      "text/html": [
       "<table><thead><tr><th>Value</th></tr></thead><tbody><tr><td>b</td></tr></tbody></table>"
      ]
     },
     "metadata": {},
     "output_type": "display_data"
    },
    {
     "data": {
      "text/html": [
       "<table><thead><tr><th>Value</th></tr></thead><tbody><tr><td>c</td></tr></tbody></table>"
      ]
     },
     "metadata": {},
     "output_type": "display_data"
    }
   ],
   "source": [
    "// Beispiel für die Nutzung des Event Store\n",
    "class MyEvent : Event {\n",
    "    public string Value;\n",
    "}\n",
    "\n",
    "var es = new InMemEventStore();\n",
    "es.OnRecorded += events => display($\"{events.Count()} event(s) added\");\n",
    "\n",
    "es.Record(\n",
    "    new MyEvent{Value=\"a\"},\n",
    "    new MyEvent{Value=\"b\"},\n",
    "    new MyEvent{Value=\"c\"}\n",
    ");\n",
    "\n",
    "display(\"All events after the first:\");\n",
    "foreach(var e in es.Replay(1))\n",
    "    display(e);"
   ]
  },
  {
   "cell_type": "markdown",
   "metadata": {},
   "source": [
    "## Beispiel: Bounded Queue\n",
    "\n",
    "Eine Bounded Queue hat eine begrenzte Länge. Solange die nicht erreicht ist, können Elemente in sie eingestellt werden. Sobald sie jedoch \"voll ist\", schlägt eine weitere Befüllung fehl."
   ]
  },
  {
   "cell_type": "code",
   "execution_count": 5,
   "metadata": {},
   "outputs": [],
   "source": [
    "public interface IBoundedQueue<T> {\n",
    "    bool TryEnqueue(T value);\n",
    "    \n",
    "    T Dequeue();\n",
    "    \n",
    "    int Capacity {get;}\n",
    "    int Count {get;}\n",
    "}"
   ]
  },
  {
   "cell_type": "markdown",
   "metadata": {},
   "source": [
    "Der Zustand der Bounded Queue (ihre Einträge) soll mittels EO verwaltet werden. Er wird daher in einem Event Store gehalten, in dem drei Events aufgezeichnet werden:"
   ]
  },
  {
   "cell_type": "code",
   "execution_count": 6,
   "metadata": {},
   "outputs": [],
   "source": [
    "class Enqueued<T> : Event {\n",
    "    public T Value;\n",
    "}\n",
    "\n",
    "class Dequeued : Event {}\n",
    "\n",
    "class CapacityChanged : Event {\n",
    "    public int Capacity;\n",
    "}"
   ]
  },
  {
   "cell_type": "markdown",
   "metadata": {},
   "source": [
    "Das Interface `IBoundedQueue<T>` ist eine Fassade, die die EO-Nachrichtenverarbeitung verbirgt. Die zu verarbeitenden Nachrichten sind:\n",
    "\n",
    "* Commands\n",
    "  * Enqueue // fügt ein Element ans Ende der Queue an\n",
    "    * erzeugt `Enqueued` Event\n",
    "    * schlägt fehl, falls Kapazität schon erreicht\n",
    "  * Dequeue // entfernt das vorderste Element in der Queue\n",
    "    * erzeugt `Dequeued` Event\n",
    "    * schlägt fehlt, falls Queue leer\n",
    "  \n",
    "* Queries\n",
    "  * Head // liefert das vorderste Element in der Queue\n",
    "  * Count // zählt die Elemente in der Queue\n",
    "  * Capacity // max. Anzahl von Elementen in der Queue"
   ]
  },
  {
   "cell_type": "code",
   "execution_count": 7,
   "metadata": {},
   "outputs": [],
   "source": [
    "// Bounded Queue Messages\n",
    "class Enqueue<T> : Command { public T Value; }\n",
    "class Dequeue : Command {}\n",
    "\n",
    "class Head : Query{}\n",
    "class HeadResult<T> : QueryResult { public T Value; }\n",
    "\n",
    "class Count : Query{}\n",
    "class CountResult : QueryResult { public int Count; }\n",
    "\n",
    "class Capacity : Query{}\n",
    "class CapacityResult : QueryResult { public int Capacity; }"
   ]
  },
  {
   "cell_type": "markdown",
   "metadata": {},
   "source": [
    "Alle Nachrichten werden im Rahmen eines Kontextes verarbeitet, der zu Nachrichtenmodellen verdichtet vorgelegt wird."
   ]
  },
  {
   "cell_type": "markdown",
   "metadata": {},
   "source": [
    "### Enqueue Nachrichtenmodell\n"
   ]
  },
  {
   "cell_type": "markdown",
   "metadata": {},
   "source": [
    "Damit ein Element erfolgreich angefügt werden kann, muss der Verarbeitung nur bekannt sein, wieviele Elemente schon in der Queue sind. Außerdem muss die Kapazität bekannt sein.\n",
    "\n",
    "Kontext:\n",
    "* `Enqueued<T>`\n",
    "* `Dequeueed`\n",
    "* `CapacityChanged`"
   ]
  },
  {
   "cell_type": "code",
   "execution_count": 8,
   "metadata": {},
   "outputs": [],
   "source": [
    "class EnqueueModel {\n",
    "    public int Count;\n",
    "    public int Capacity;\n",
    "}"
   ]
  },
  {
   "cell_type": "markdown",
   "metadata": {},
   "source": [
    "### Dequeue Nachrichtenmodell\n",
    "\n",
    "Für das Entfernen eines Elementes ist lediglich nötig zu wissen, ob es überhaupt ein Element in der Queue gibt. Ein boolscher Wert könnte hier ausreichen. Aber mit einer Anzahl kann die Nachrichtenverarbeitung auch arbeiten.\n",
    "\n",
    "Kontext:\n",
    "* `Enqueued<T>`\n",
    "* `Dequeueed`"
   ]
  },
  {
   "cell_type": "code",
   "execution_count": 9,
   "metadata": {},
   "outputs": [],
   "source": [
    "class DequeueModel {\n",
    "    int Count;\n",
    "}"
   ]
  },
  {
   "cell_type": "markdown",
   "metadata": {},
   "source": [
    "### Head Nachrichtenmodell\n",
    "\n",
    "Nur das aktuelle/vorderste Element der Queue ist im Modell nötig.\n",
    "\n",
    "Kontext:\n",
    "* `Enqueued<T>`\n",
    "* `Dequeueed`"
   ]
  },
  {
   "cell_type": "code",
   "execution_count": 10,
   "metadata": {},
   "outputs": [],
   "source": [
    "class HeadModel<T> {\n",
    "    public T Head;\n",
    "}"
   ]
  },
  {
   "cell_type": "markdown",
   "metadata": {},
   "source": [
    "### Count Nachrichtenmodell\n",
    "\n",
    "Die Anzahl der Elemente in der Queue.\n",
    "\n",
    "Kontext:\n",
    "* `Enqueued<T>`\n",
    "* `Dequeueed`"
   ]
  },
  {
   "cell_type": "code",
   "execution_count": 11,
   "metadata": {},
   "outputs": [],
   "source": [
    "class CountModel {\n",
    "    public int Count;\n",
    "}"
   ]
  },
  {
   "cell_type": "markdown",
   "metadata": {},
   "source": [
    "### Capacity Nachrichtenmodell\n",
    "\n",
    "Die max. Anzahl der Elemente in der Queue.\n",
    "\n",
    "Kontext:\n",
    "* `CapacityChanged`"
   ]
  },
  {
   "cell_type": "code",
   "execution_count": 12,
   "metadata": {},
   "outputs": [],
   "source": [
    "class CapacityModel {\n",
    "    public int Capacity;\n",
    "}"
   ]
  },
  {
   "cell_type": "markdown",
   "metadata": {},
   "source": [
    "### Optimierung der Nachrichtenmodelle\n",
    "\n",
    "Es zeigt sich, dass sich die Modelldaten mehrerer Nachrichten überschneiden. Auch wenn dadurch Abhängigkeiten entstehen, also Nachrichtenverarbeitungen über Events hinaus gekoppelte werden, könnte es anzeigt sein, mehrere Modells zusammenzufassen, z.B. `EnqueueModel`, `DequeueModel`, `CountModel` und `CapacityModel` zu:"
   ]
  },
  {
   "cell_type": "code",
   "execution_count": 13,
   "metadata": {},
   "outputs": [],
   "source": [
    "class StatsModel {\n",
    "    public int Count;\n",
    "    public int Capacity;\n",
    "}"
   ]
  },
  {
   "cell_type": "markdown",
   "metadata": {},
   "source": [
    "### Model Manager\n",
    "\n",
    "Ein Message Model Manager besteht aus zwei Methoden: `Load` und `Update`.\n",
    "\n",
    "Über `Load` wird das Message Model am Anfang der Pipeline beschafft. Und `Update` hält es im Lichte aktueller Events auf dem Stand. Achtung: Das ist eine Optimierung!"
   ]
  },
  {
   "cell_type": "code",
   "execution_count": 14,
   "metadata": {},
   "outputs": [],
   "source": [
    "public interface IMessageModelManagement<TMessage,TMessageModel> where TMessage : Request {\n",
    "    TMessageModel Load(TMessage message);\n",
    "    void Update(IEnumerable<Event> events);\n",
    "}"
   ]
  },
  {
   "cell_type": "markdown",
   "metadata": {},
   "source": [
    "Konkrete Manager für die einzelnen Messages implementieren das Interface. Jeder ist damit konzentriert auf nur ein Model.\n",
    "\n",
    "Der erste entscheidet sich dafür, das Modell zu cachen und mit neuen Events zu aktualisieren:"
   ]
  },
  {
   "cell_type": "code",
   "execution_count": 15,
   "metadata": {},
   "outputs": [
    {
     "data": {
      "text/plain": [
       "count: 2, capacity: 3"
      ]
     },
     "metadata": {},
     "output_type": "display_data"
    }
   ],
   "source": [
    "class StatsModelManager<T> : IMessageModelManagement<Request,StatsModel> {\n",
    "    private StatsModel _model = new StatsModel();\n",
    "    \n",
    "    public StatsModel Load(Request _)\n",
    "        => _model;\n",
    "    \n",
    "    public void Update(IEnumerable<Event> events)\n",
    "        => events.ToList().ForEach(Apply);\n",
    "    \n",
    "    void Apply(Event e) {\n",
    "        switch(e) {\n",
    "            case Enqueued<T> _:\n",
    "                _model.Count++;\n",
    "                break;\n",
    "            case Dequeued _:\n",
    "                _model.Count--;\n",
    "                break;\n",
    "            case CapacityChanged cc:\n",
    "                _model.Capacity = cc.Capacity;\n",
    "                break;\n",
    "        }\n",
    "    }\n",
    "}\n",
    "\n",
    "\n",
    "var events = new Event[]{\n",
    "    new CapacityChanged{Capacity=5},\n",
    "    new Enqueued<int>{Value=1},\n",
    "    new Enqueued<int>{Value=2},\n",
    "    new Dequeued(),\n",
    "    new Enqueued<int>{Value=3},\n",
    "    new CapacityChanged{Capacity=3}\n",
    "};\n",
    "\n",
    "var sut = new StatsModelManager<int>();\n",
    "sut.Update(events);\n",
    "var model = sut.Load(null);\n",
    "\n",
    "display($\"count: {model.Count}, capacity: {model.Capacity}\");"
   ]
  },
  {
   "cell_type": "markdown",
   "metadata": {},
   "source": [
    "Der zweite hingegen baut das Modell bei jedem Load aus dem Kontext auf:"
   ]
  },
  {
   "cell_type": "code",
   "execution_count": 16,
   "metadata": {},
   "outputs": [
    {
     "data": {
      "text/plain": [
       "head: 2"
      ]
     },
     "metadata": {},
     "output_type": "display_data"
    }
   ],
   "source": [
    "class HeadModelManager<T> : IMessageModelManagement<Head,HeadModel<T>> {\n",
    "    private IEventStore _es;\n",
    "    \n",
    "    public HeadModelManager(IEventStore es) => _es = es;\n",
    "\n",
    "    \n",
    "    public HeadModel<T> Load(Head _) {\n",
    "        var q = new Queue<T>();\n",
    "        _es.Replay().ToList()\n",
    "                    .ForEach(e => Apply(q, e));\n",
    "        return new HeadModel<T>{ Head = q.Peek() };\n",
    "    }\n",
    "        \n",
    "    void Apply(Queue<T> q, Event e) {\n",
    "        switch(e) {\n",
    "            case Enqueued<T> eq:\n",
    "                q.Enqueue(eq.Value);\n",
    "                break;\n",
    "            case Dequeued _:\n",
    "                q.Dequeue();\n",
    "                break;\n",
    "        }\n",
    "    }\n",
    "    \n",
    "    \n",
    "    public void Update(IEnumerable<Event> events) {}\n",
    "}\n",
    "\n",
    "\n",
    "var events = new Event[]{\n",
    "    new CapacityChanged{Capacity=5},\n",
    "    new Enqueued<int>{Value=1},\n",
    "    new Enqueued<int>{Value=2},\n",
    "    new Dequeued(),\n",
    "    new Enqueued<int>{Value=3},\n",
    "    new CapacityChanged{Capacity=3}\n",
    "};\n",
    "\n",
    "var es = new InMemEventStore(events);\n",
    "var sut = new HeadModelManager<int>(es);\n",
    "sut.Update(events);\n",
    "var model = sut.Load(new Head());\n",
    "\n",
    "display($\"head: {model.Head}\")"
   ]
  },
  {
   "cell_type": "markdown",
   "metadata": {},
   "source": [
    "### Message Processing\n",
    "\n",
    "Das eigentliche Message Processing basiert auf dem Message Model und der Message. Die allgemeine Form ist wie folgt leicht unterschiedlich für Commands und Queries:"
   ]
  },
  {
   "cell_type": "code",
   "execution_count": 17,
   "metadata": {},
   "outputs": [],
   "source": [
    "public interface ICommandProcessing<TCommand,TMessageModel> {\n",
    "    (CommandStatus Status, IEnumerable<Event> Events) Execute(TCommand command, TMessageModel model);\n",
    "}\n",
    "\n",
    "public interface IQueryProcessing<TQuery,TMessageModel,TQueryResult> {\n",
    "    TQueryResult Answer(TQuery query, TMessageModel model);\n",
    "}"
   ]
  },
  {
   "cell_type": "markdown",
   "metadata": {},
   "source": [
    "Für jede Message wird damit ein spezieller Processor aufgesetzt, der sich ganz auf eine Aufgabe konzentrieren kann:"
   ]
  },
  {
   "cell_type": "code",
   "execution_count": 18,
   "metadata": {},
   "outputs": [],
   "source": [
    "class EnqueueProcessor<T> : ICommandProcessing<Enqueue<T>,StatsModel> {\n",
    "    public (CommandStatus Status, IEnumerable<Event> Events) Execute(Enqueue<T> command, StatsModel model) {\n",
    "        if (model.Count >= model.Capacity) return (new Failure{ErrorMessage=\"Queue full!\"}, new Event[0]);\n",
    "        return (new Success(), new Event[]{new Enqueued<T>{Value=command.Value}});\n",
    "    }\n",
    "}"
   ]
  },
  {
   "cell_type": "code",
   "execution_count": 19,
   "metadata": {},
   "outputs": [],
   "source": [
    "class DequeueProcessor : ICommandProcessing<Dequeue,StatsModel> {\n",
    "    public (CommandStatus Status, IEnumerable<Event> Events) Execute(Dequeue command, StatsModel model) {\n",
    "        if (model.Count <= 0) return (new Failure{ErrorMessage=\"Queue empty!\"}, new Event[0]);\n",
    "        return (new Success(), new Event[]{new Dequeued()});\n",
    "    }\n",
    "}"
   ]
  },
  {
   "cell_type": "code",
   "execution_count": 20,
   "metadata": {},
   "outputs": [],
   "source": [
    "class HeadProcessor<T> : IQueryProcessing<Head,HeadModel<T>,HeadResult<T>> {\n",
    "    public HeadResult<T> Answer(Head query, HeadModel<T> model) {\n",
    "        return new HeadResult<T>{Value=model.Head};\n",
    "    }\n",
    "}"
   ]
  },
  {
   "cell_type": "code",
   "execution_count": 21,
   "metadata": {},
   "outputs": [],
   "source": [
    "class CountProcessor : IQueryProcessing<Count,StatsModel,CountResult> {\n",
    "    public CountResult Answer(Count query, StatsModel model) {\n",
    "        return new CountResult{Count=model.Count};\n",
    "    }\n",
    "}"
   ]
  },
  {
   "cell_type": "code",
   "execution_count": 22,
   "metadata": {},
   "outputs": [],
   "source": [
    "class CapacityProcessor : IQueryProcessing<Capacity,StatsModel,CapacityResult> {\n",
    "    public CapacityResult Answer(Capacity query, StatsModel model) {\n",
    "        return new CapacityResult{Capacity=model.Capacity};\n",
    "    }\n",
    "}"
   ]
  },
  {
   "cell_type": "markdown",
   "metadata": {},
   "source": [
    "### Message Pipelines\n",
    "\n",
    "In einer Message Pipeline werden Message Processing und Message Model Management zusammengesteckt. Beispiel:"
   ]
  },
  {
   "cell_type": "code",
   "execution_count": 23,
   "metadata": {},
   "outputs": [
    {
     "data": {
      "text/plain": [
       "1. enqueue successful? True"
      ]
     },
     "metadata": {},
     "output_type": "display_data"
    },
    {
     "data": {
      "text/plain": [
       "2. enqueue successful? False"
      ]
     },
     "metadata": {},
     "output_type": "display_data"
    },
    {
     "data": {
      "text/plain": [
       "count after 1. enqueue: 3"
      ]
     },
     "metadata": {},
     "output_type": "display_data"
    }
   ],
   "source": [
    "// Arrange\n",
    "var statsModelManager = new StatsModelManager<int>();\n",
    "var enqueueProcessor = new EnqueueProcessor<int>();\n",
    "var countProcessor = new CountProcessor();\n",
    "\n",
    "var events = new Event[]{\n",
    "    new CapacityChanged{Capacity=5},\n",
    "    new Enqueued<int>{Value=1},\n",
    "    new Enqueued<int>{Value=2},\n",
    "    new Dequeued(),\n",
    "    new Enqueued<int>{Value=3},\n",
    "    new CapacityChanged{Capacity=3}\n",
    "};\n",
    "statsModelManager.Update(events);\n",
    "\n",
    "// Act\n",
    "// Enqueue pipeline\n",
    "var cmd = new Enqueue<int>{Value=42};\n",
    "var model = statsModelManager.Load(cmd);\n",
    "var cmdresult = enqueueProcessor.Execute(cmd,model);\n",
    "statsModelManager.Update(cmdresult.Events);\n",
    "display($\"1. enqueue successful? {cmdresult.Status is Success}\");\n",
    "\n",
    "// Count pipeline\n",
    "var qry = new Count();\n",
    "model = statsModelManager.Load(qry);\n",
    "var qryresult = countProcessor.Answer(qry,model);\n",
    "\n",
    "// Enqueue pipeline\n",
    "cmd = new Enqueue<int>{Value=99};\n",
    "model = statsModelManager.Load(cmd);\n",
    "cmdresult = enqueueProcessor.Execute(cmd,model);\n",
    "statsModelManager.Update(cmdresult.Events);\n",
    "display($\"2. enqueue successful? {cmdresult.Status is Success}\");\n",
    "\n",
    "// Assert\n",
    "display($\"count after 1. enqueue: {qryresult.Count}\");"
   ]
  },
  {
   "cell_type": "markdown",
   "metadata": {},
   "source": [
    "Message Pipelines werden im Message Handling zusammengesetzt für alle Messages."
   ]
  },
  {
   "cell_type": "code",
   "execution_count": 24,
   "metadata": {},
   "outputs": [
    {
     "data": {
      "text/plain": [
       "capacity: 3"
      ]
     },
     "metadata": {},
     "output_type": "display_data"
    },
    {
     "data": {
      "text/plain": [
       "count: 2"
      ]
     },
     "metadata": {},
     "output_type": "display_data"
    }
   ],
   "source": [
    "class BoundedQueueMessageHandling<T> {\n",
    "    private IEventStore _es;\n",
    "    \n",
    "    private StatsModelManager<T> _smm;\n",
    "    private HeadModelManager<T> _hmm;\n",
    "    \n",
    "    private EnqueueProcessor<T> _ep;\n",
    "    private DequeueProcessor _dp;\n",
    "    private HeadProcessor<T> _hp;\n",
    "    private CountProcessor _cop;\n",
    "    private CapacityProcessor _cap;\n",
    "    \n",
    "    \n",
    "    public BoundedQueueMessageHandling(int capacity) {\n",
    "        // construction\n",
    "        _es = new InMemEventStore();\n",
    "        \n",
    "        _smm = new StatsModelManager<T>();\n",
    "        _hmm = new HeadModelManager<T>(_es);\n",
    "        \n",
    "        _ep = new EnqueueProcessor<T>();\n",
    "        _dp = new DequeueProcessor();\n",
    "        _hp = new HeadProcessor<T>();\n",
    "        _cop = new CountProcessor();\n",
    "        _cap = new CapacityProcessor();\n",
    "        \n",
    "        // initialization\n",
    "        _es.Record(new CapacityChanged{Capacity=capacity});\n",
    "        _smm.Update(_es.Replay());\n",
    "        _hmm.Update(_es.Replay());\n",
    "        \n",
    "        // model subscription\n",
    "        _es.OnRecorded += _smm.Update;\n",
    "        _es.OnRecorded += _hmm.Update;\n",
    "    }\n",
    "    \n",
    "    \n",
    "    public CommandStatus Handle(Enqueue<T> command) {\n",
    "        var model = _smm.Load(command);\n",
    "        var result = _ep.Execute(command,model);\n",
    "        _es.Record(result.Events.ToArray());\n",
    "        return result.Status;\n",
    "    }\n",
    "    \n",
    "    public CommandStatus Handle(Dequeue command) {\n",
    "        var model = _smm.Load(command);\n",
    "        var result = _dp.Execute(command,model);\n",
    "        _es.Record(result.Events.ToArray());\n",
    "        return result.Status;\n",
    "    }\n",
    "    \n",
    "    \n",
    "    public HeadResult<T> Handle(Head query) {\n",
    "        var model = _hmm.Load(query);\n",
    "        return _hp.Answer(query,model);\n",
    "    }\n",
    "    \n",
    "    public CountResult Handle(Count query) {\n",
    "        var model = _smm.Load(query);\n",
    "        return _cop.Answer(query,model);\n",
    "    }\n",
    "    \n",
    "    public CapacityResult Handle(Capacity query) {\n",
    "        var model = _smm.Load(query);\n",
    "        return _cap.Answer(query,model);\n",
    "    }\n",
    "}\n",
    "\n",
    "\n",
    "var sut = new BoundedQueueMessageHandling<int>(3);\n",
    "\n",
    "display($\"capacity: {sut.Handle(new Capacity()).Capacity}\");\n",
    "\n",
    "sut.Handle(new Enqueue<int>{Value=1});\n",
    "sut.Handle(new Enqueue<int>{Value=2});\n",
    "sut.Handle(new Dequeue());\n",
    "sut.Handle(new Enqueue<int>{Value=3});\n",
    "\n",
    "display($\"count: {sut.Handle(new Count()).Count}\");"
   ]
  },
  {
   "cell_type": "markdown",
   "metadata": {},
   "source": [
    "### Die Fassade\n",
    "\n",
    "Und schließlich kann das Message Handling noch hinter der Interface-Fassade versteckt werden, so dass Nutzer einer Bounded Queue nichts bemerken von EO."
   ]
  },
  {
   "cell_type": "code",
   "execution_count": 25,
   "metadata": {},
   "outputs": [
    {
     "data": {
      "text/html": [
       "True"
      ]
     },
     "metadata": {},
     "output_type": "display_data"
    },
    {
     "data": {
      "text/html": [
       "True"
      ]
     },
     "metadata": {},
     "output_type": "display_data"
    },
    {
     "data": {
      "text/html": [
       "True"
      ]
     },
     "metadata": {},
     "output_type": "display_data"
    },
    {
     "data": {
      "text/html": [
       "False"
      ]
     },
     "metadata": {},
     "output_type": "display_data"
    },
    {
     "data": {
      "text/html": [
       "1"
      ]
     },
     "metadata": {},
     "output_type": "display_data"
    },
    {
     "data": {
      "text/html": [
       "2"
      ]
     },
     "metadata": {},
     "output_type": "display_data"
    },
    {
     "data": {
      "text/plain": [
       "count: 1, capacity: 3"
      ]
     },
     "metadata": {},
     "output_type": "display_data"
    },
    {
     "data": {
      "text/html": [
       "True"
      ]
     },
     "metadata": {},
     "output_type": "display_data"
    },
    {
     "data": {
      "text/plain": [
       "count: 2, capacity: 3"
      ]
     },
     "metadata": {},
     "output_type": "display_data"
    }
   ],
   "source": [
    "class BoundedQueue<T> {\n",
    "    private BoundedQueueMessageHandling<T> _bqmh;\n",
    "    \n",
    "    public BoundedQueue(int capacity) {\n",
    "        _bqmh = new BoundedQueueMessageHandling<T>(capacity);\n",
    "    }\n",
    "    \n",
    "    public bool TryEnqueue(T value) {\n",
    "        var response = _bqmh.Handle(new Enqueue<T>{Value=value});\n",
    "        return response is Success;\n",
    "    }\n",
    "    \n",
    "    public T Dequeue() {\n",
    "        if (this.Count > 0) {\n",
    "            var head = _bqmh.Handle(new Head()).Value;\n",
    "            _bqmh.Handle(new Dequeue());\n",
    "            return head;\n",
    "        }\n",
    "        else\n",
    "            throw new InvalidOperationException(\"Queue empty!\");\n",
    "    }\n",
    "    \n",
    "    public int Capacity => _bqmh.Handle(new Capacity()).Capacity;\n",
    "    public int Count => _bqmh.Handle(new Count()).Count;\n",
    "}\n",
    "\n",
    "\n",
    "var sut = new BoundedQueue<int>(3);\n",
    "\n",
    "display(sut.TryEnqueue(1));\n",
    "display(sut.TryEnqueue(2));\n",
    "display(sut.TryEnqueue(3));\n",
    "display(sut.TryEnqueue(4));\n",
    "\n",
    "display(sut.Dequeue());\n",
    "display(sut.Dequeue());\n",
    "display($\"count: {sut.Count}, capacity: {sut.Capacity}\");\n",
    "\n",
    "display(sut.TryEnqueue(5));\n",
    "display($\"count: {sut.Count}, capacity: {sut.Capacity}\");"
   ]
  },
  {
   "cell_type": "markdown",
   "metadata": {},
   "source": [
    "### Zusammenfassung\n",
    "\n",
    "Natürlich bläht der Einsatz von EO die Lösung für das Szenario unnötig auf. Andererseits ist es aber so einfach, damit die Organisation des Codes durch EO klar hervorsticht. Sie wird nicht durch umfängliche Domänenlogik vernebelt.\n",
    "\n",
    "Die Klasse `BoundedQueue<T>` ist in der Lösung nur eine einfach nutzbare Fassade um das EO Message Handling.\n",
    "\n",
    "Das EO Message Handling in `BoundedQueueMessageHandling<T>` definiert für jede Message eine Pipeline, die zuerst das zugehörige Message Model beschafft, in dessen Lichte die Message verarbeitet und schließlich ggf. das Message Model aktualisiert.\n",
    "\n",
    "Das Schichtenmodell definiert für Software eine Grundstruktur bestehend aus drei Aspekten: Darstellung (Presentation Layer), Persistenz (Data Access Layer) und Domäne (Business Logic Layer). Der Zweck ist die Trennung grundsätzlich verschiedener Verantwortlichkeiten im Sinne des Single Responsibility Principle (SRP) und die saubere Ausrichtung der funktionalen Abhängigkeiten zwischen diesen Abhängigkeiten.\n",
    "\n",
    "Ebenso definiert EO eine Grundstruktur für Software. Für EO besteht Software nicht aus von einander abhängigen Schichten, sondern aus von einander _unabhängigen_ Prozessen. Diese Prozesse stellen das Verhalten her, das Anwender im Rahmen einer Interaktion (z.B. Auswahl eines Menüpunktes, Klick auf einen Button) von einer Software erwarten.\n",
    "\n",
    "Die Prozesse werden getriggert durch Messages (Request), die ihnen Input liefern, und antworten mit Messages (Response), die ihren Output enthalten.\n",
    "\n",
    "Gemeinsam ist den Prozessen lediglich ein Eventstrom zur Fortschreibung des Zustandes der Software.\n",
    "\n",
    "Die Prozesse wiederum gliedert EO in drei Schritte. Sie verarbeiten Messages, indem sie sie durch eine kleine Pipeline fließen lassen. Im Kern steht dabei der Message Processor. Er verarbeitet die Message im Lichte eines Kontextes, den ein Message Model Manager zu einem Message Model aggregiert hat.\n",
    "\n",
    "Zweck der Trennung ist eine weitere Fokussierung der Verantwortlichkeiten und ihre Entkopplung durch funktionale Unabhängigkeit im Rahmen des Pipeline-Datenflusses.\n",
    "\n",
    "Bei der Entwicklung kann ich mich Schritt für Schritt voranbewegen:\n",
    "\n",
    "1. Definition von Messages\n",
    "2. Definition von Events\n",
    "3. Definition der Message Kontexte\n",
    "4. Definition der Message Models\n",
    "5. Implementation der Message Model Managers\n",
    "  * Implementation von `Update` (optional)\n",
    "  * Implementation von `Load`\n",
    "6. Implementation der Message Processors\n",
    "7. Zusammenstecken der Message Handling Pipelines\n",
    "\n",
    "Diese Schritte kann ich in mehreren Iterationen durchlaufen. Ich muss nicht am Anfang alle Messages und alle Events zuerst festlegen. Im Grunde kann ich mit einer Interaktion und ihren Messages beginnen, dazu die Events definieren und dann bis zur Pipeline durchgehen. Anschließend die nächste Interaktion usw. usw.\n",
    "\n",
    "In der Weise arbeite ich mich \"scheibchenweise\" durch eine Anwendung: ein Durchstich nach dem anderen. Gemeinsam haben die Durchstiche zunächst nur die Events und den Eventstore."
   ]
  },
  {
   "cell_type": "code",
   "execution_count": null,
   "metadata": {},
   "outputs": [],
   "source": []
  }
 ],
 "metadata": {
  "kernelspec": {
   "display_name": ".NET (C#)",
   "language": "C#",
   "name": ".net-csharp"
  },
  "language_info": {
   "file_extension": ".cs",
   "mimetype": "text/x-csharp",
   "name": "C#",
   "pygments_lexer": "csharp",
   "version": "8.0"
  }
 },
 "nbformat": 4,
 "nbformat_minor": 4
}
